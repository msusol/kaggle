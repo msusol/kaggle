{
 "cells": [
  {
   "cell_type": "markdown",
   "id": "0a9e7fb7",
   "metadata": {
    "papermill": {
     "duration": 0.013413,
     "end_time": "2023-08-22T06:03:18.451658",
     "exception": false,
     "start_time": "2023-08-22T06:03:18.438245",
     "status": "completed"
    },
    "tags": []
   },
   "source": [
    "# Disaster Tweets\n",
    "\n",
    "Competition: [Natural Language Processing with Disaster Tweets](https://www.kaggle.com/competitions/nlp-getting-started)\n",
    "\n",
    "References:\n",
    "\n",
    "1. [Disaster Tweet Classification using BERT & Neural Network](https://www.analyticsvidhya.com/blog/2021/12/disaster-tweet-classification-using-bert-neural-network/) - Analytics Vidhya.\n",
    "2. [Handling imbalanced dataset in Machine Learning](https://www.youtube.com/watch?v=JnlM4yLFNuo) – YouTube.\n",
    "3. [What is the Difference Between Test and Validation Datasets?](https://machinelearningmastery.com/difference-test-validation-datasets/) - Machine Learning Mastery.\n",
    "4. [Natural Language Processing: Cleaning up Tweets](https://medium.com/codex/natural-language-processing-cleaning-up-tweets-2b71793e91b5) - Medium.\n",
    "5. [Use Early Stopping to Halt the Training of Neural Networks At the Right Time](https://machinelearningmastery.com/how-to-stop-training-deep-neural-networks-at-the-right-time-using-early-stopping/https://machinelearningmastery.com/how-to-stop-training-deep-neural-networks-at-the-right-time-using-early-stopping/) - Machine Learning Mastery.\n",
    "6. [How to split data into three sets (train, validation, and test) And why?](https://towardsdatascience.com/how-to-split-data-into-three-sets-train-validation-and-test-and-why-e50d22d3e54c) - Towards Data Science.\n",
    "7. [Classify text with BERT](https://www.tensorflow.org/text/tutorials/classify_text_with_bert) - TensorFlow.\n",
    "8. [Classify structured data using Keras preprocessing layers](https://www.tensorflow.org/tutorials/structured_data/preprocessing_layers) - TensorFlow."
   ]
  },
  {
   "cell_type": "markdown",
   "id": "d673e2bd",
   "metadata": {
    "papermill": {
     "duration": 0.011983,
     "end_time": "2023-08-22T06:03:18.476032",
     "exception": false,
     "start_time": "2023-08-22T06:03:18.464049",
     "status": "completed"
    },
    "tags": []
   },
   "source": [
    "## Imports"
   ]
  },
  {
   "cell_type": "code",
   "execution_count": 1,
   "id": "64b786d5",
   "metadata": {
    "execution": {
     "iopub.execute_input": "2023-08-22T06:03:18.502884Z",
     "iopub.status.busy": "2023-08-22T06:03:18.502033Z",
     "iopub.status.idle": "2023-08-22T06:03:29.077959Z",
     "shell.execute_reply": "2023-08-22T06:03:29.076800Z"
    },
    "papermill": {
     "duration": 10.592784,
     "end_time": "2023-08-22T06:03:29.081020",
     "exception": false,
     "start_time": "2023-08-22T06:03:18.488236",
     "status": "completed"
    },
    "tags": []
   },
   "outputs": [
    {
     "name": "stderr",
     "output_type": "stream",
     "text": [
      "/opt/conda/lib/python3.10/site-packages/scipy/__init__.py:146: UserWarning: A NumPy version >=1.16.5 and <1.23.0 is required for this version of SciPy (detected version 1.23.5\n",
      "  warnings.warn(f\"A NumPy version >={np_minversion} and <{np_maxversion}\"\n",
      "/opt/conda/lib/python3.10/site-packages/tensorflow_io/python/ops/__init__.py:98: UserWarning: unable to load libtensorflow_io_plugins.so: unable to open file: libtensorflow_io_plugins.so, from paths: ['/opt/conda/lib/python3.10/site-packages/tensorflow_io/python/ops/libtensorflow_io_plugins.so']\n",
      "caused by: ['/opt/conda/lib/python3.10/site-packages/tensorflow_io/python/ops/libtensorflow_io_plugins.so: undefined symbol: _ZN3tsl6StatusC1EN10tensorflow5error4CodeESt17basic_string_viewIcSt11char_traitsIcEENS_14SourceLocationE']\n",
      "  warnings.warn(f\"unable to load libtensorflow_io_plugins.so: {e}\")\n",
      "/opt/conda/lib/python3.10/site-packages/tensorflow_io/python/ops/__init__.py:104: UserWarning: file system plugins are not loaded: unable to open file: libtensorflow_io.so, from paths: ['/opt/conda/lib/python3.10/site-packages/tensorflow_io/python/ops/libtensorflow_io.so']\n",
      "caused by: ['/opt/conda/lib/python3.10/site-packages/tensorflow_io/python/ops/libtensorflow_io.so: undefined symbol: _ZTVN10tensorflow13GcsFileSystemE']\n",
      "  warnings.warn(f\"file system plugins are not loaded: {e}\")\n"
     ]
    }
   ],
   "source": [
    "import matplotlib.pyplot as plt\n",
    "import numpy as np\n",
    "import os\n",
    "import pandas as pd\n",
    "import seaborn as sns\n",
    "import warnings\n",
    "\n",
    "import tensorflow as tf\n",
    "import tensorflow_hub as hub\n",
    "import tensorflow_text as text\n",
    "\n",
    "from matplotlib import pyplot\n",
    "from keras.callbacks import EarlyStopping\n",
    "from sklearn.metrics import confusion_matrix, classification_report, f1_score, roc_auc_score\n",
    "from sklearn.model_selection import train_test_split\n",
    "from tensorflow.keras import layers\n",
    "\n",
    "os.environ['AUTOGRAPH_VERBOSITY'] = '0'\n",
    "warnings.filterwarnings('ignore')\n",
    "pd.options.display.max_colwidth = 0"
   ]
  },
  {
   "cell_type": "markdown",
   "id": "3bcf47eb",
   "metadata": {
    "papermill": {
     "duration": 0.012245,
     "end_time": "2023-08-22T06:03:29.106865",
     "exception": false,
     "start_time": "2023-08-22T06:03:29.094620",
     "status": "completed"
    },
    "tags": []
   },
   "source": [
    "## Data Prep"
   ]
  },
  {
   "cell_type": "markdown",
   "id": "b72d870d",
   "metadata": {
    "papermill": {
     "duration": 0.011606,
     "end_time": "2023-08-22T06:03:29.130643",
     "exception": false,
     "start_time": "2023-08-22T06:03:29.119037",
     "status": "completed"
    },
    "tags": []
   },
   "source": [
    "- /kaggle/input/nlp-getting-started/sample_submission.csv\n",
    "- /kaggle/input/nlp-getting-started/train.csv\n",
    "- /kaggle/input/nlp-getting-started/test.csv"
   ]
  },
  {
   "cell_type": "code",
   "execution_count": 2,
   "id": "a77070ae",
   "metadata": {
    "execution": {
     "iopub.execute_input": "2023-08-22T06:03:29.158690Z",
     "iopub.status.busy": "2023-08-22T06:03:29.157083Z",
     "iopub.status.idle": "2023-08-22T06:03:29.225172Z",
     "shell.execute_reply": "2023-08-22T06:03:29.224024Z"
    },
    "papermill": {
     "duration": 0.083984,
     "end_time": "2023-08-22T06:03:29.227379",
     "exception": false,
     "start_time": "2023-08-22T06:03:29.143395",
     "status": "completed"
    },
    "tags": []
   },
   "outputs": [
    {
     "data": {
      "text/html": [
       "<div>\n",
       "<style scoped>\n",
       "    .dataframe tbody tr th:only-of-type {\n",
       "        vertical-align: middle;\n",
       "    }\n",
       "\n",
       "    .dataframe tbody tr th {\n",
       "        vertical-align: top;\n",
       "    }\n",
       "\n",
       "    .dataframe thead th {\n",
       "        text-align: right;\n",
       "    }\n",
       "</style>\n",
       "<table border=\"1\" class=\"dataframe\">\n",
       "  <thead>\n",
       "    <tr style=\"text-align: right;\">\n",
       "      <th></th>\n",
       "      <th>id</th>\n",
       "      <th>keyword</th>\n",
       "      <th>location</th>\n",
       "      <th>text</th>\n",
       "      <th>target</th>\n",
       "    </tr>\n",
       "  </thead>\n",
       "  <tbody>\n",
       "    <tr>\n",
       "      <th>1461</th>\n",
       "      <td>2109</td>\n",
       "      <td>catastrophe</td>\n",
       "      <td>NaN</td>\n",
       "      <td>.@robdelaney  Catastrophe is anything but! I literally have been unable to stop ejaculating.</td>\n",
       "      <td>1</td>\n",
       "    </tr>\n",
       "    <tr>\n",
       "      <th>1837</th>\n",
       "      <td>2642</td>\n",
       "      <td>crashed</td>\n",
       "      <td>too far</td>\n",
       "      <td>He was only .4 of a second faster than me and I overtook him twice (then crashed) tru luv &amp;lt;3 &amp;lt;3</td>\n",
       "      <td>0</td>\n",
       "    </tr>\n",
       "    <tr>\n",
       "      <th>6144</th>\n",
       "      <td>8763</td>\n",
       "      <td>siren</td>\n",
       "      <td>NaN</td>\n",
       "      <td>Internet firms to be subject to new cybersecurity rules in EU... http://t.co/lafTJ2GyLY</td>\n",
       "      <td>0</td>\n",
       "    </tr>\n",
       "    <tr>\n",
       "      <th>2354</th>\n",
       "      <td>3389</td>\n",
       "      <td>demolition</td>\n",
       "      <td>ÌÏT: 36.142163,-95.979189</td>\n",
       "      <td>@samajp32 really needs to tone it down some in the weight room. RT @SoonerSportsTV: Demolition (cont) http://t.co/2o7Eva1cOe</td>\n",
       "      <td>0</td>\n",
       "    </tr>\n",
       "    <tr>\n",
       "      <th>4765</th>\n",
       "      <td>6781</td>\n",
       "      <td>lightning</td>\n",
       "      <td>Elchilicitanierraversal</td>\n",
       "      <td>#NowPlaying 'The Lightning Strike' de Snow Patrol de A Hundred Million Suns ? http://t.co/GrzcHkDF37</td>\n",
       "      <td>0</td>\n",
       "    </tr>\n",
       "    <tr>\n",
       "      <th>6882</th>\n",
       "      <td>9866</td>\n",
       "      <td>traumatised</td>\n",
       "      <td>cork</td>\n",
       "      <td>@AnnmarieRonan @niamhosullivanx I can't watch tat show its like a horror movie to me I get flashbacks an everything #traumatised</td>\n",
       "      <td>0</td>\n",
       "    </tr>\n",
       "    <tr>\n",
       "      <th>3566</th>\n",
       "      <td>5097</td>\n",
       "      <td>famine</td>\n",
       "      <td>NaN</td>\n",
       "      <td>when things become terrible more than the great Ethiopian famine...</td>\n",
       "      <td>0</td>\n",
       "    </tr>\n",
       "    <tr>\n",
       "      <th>1847</th>\n",
       "      <td>2657</td>\n",
       "      <td>crush</td>\n",
       "      <td>NaN</td>\n",
       "      <td>'@jorrynja: 6. @ your bf/gf/crush ??' @Ter_ell ??</td>\n",
       "      <td>1</td>\n",
       "    </tr>\n",
       "    <tr>\n",
       "      <th>4961</th>\n",
       "      <td>7071</td>\n",
       "      <td>meltdown</td>\n",
       "      <td>Colorado, USA</td>\n",
       "      <td>@nprfreshair I really can't believe he is skipping out before the Republican meltdown...I mean 'debate'.</td>\n",
       "      <td>0</td>\n",
       "    </tr>\n",
       "    <tr>\n",
       "      <th>7021</th>\n",
       "      <td>10064</td>\n",
       "      <td>typhoon</td>\n",
       "      <td>Ibadan,Oyo state</td>\n",
       "      <td>Obama Declares Disaster for Typhoon-Devastated Saipan: Obama signs disaster declaration for Northern Marians a... http://t.co/UsVyHdG9OG</td>\n",
       "      <td>1</td>\n",
       "    </tr>\n",
       "  </tbody>\n",
       "</table>\n",
       "</div>"
      ],
      "text/plain": [
       "         id      keyword                   location  \\\n",
       "1461  2109   catastrophe  NaN                         \n",
       "1837  2642   crashed      too far                     \n",
       "6144  8763   siren        NaN                         \n",
       "2354  3389   demolition   ÌÏT: 36.142163,-95.979189   \n",
       "4765  6781   lightning    Elchilicitanierraversal     \n",
       "6882  9866   traumatised  cork                        \n",
       "3566  5097   famine       NaN                         \n",
       "1847  2657   crush        NaN                         \n",
       "4961  7071   meltdown     Colorado, USA               \n",
       "7021  10064  typhoon      Ibadan,Oyo state            \n",
       "\n",
       "                                                                                                                                          text  \\\n",
       "1461  .@robdelaney  Catastrophe is anything but! I literally have been unable to stop ejaculating.                                               \n",
       "1837  He was only .4 of a second faster than me and I overtook him twice (then crashed) tru luv &lt;3 &lt;3                                      \n",
       "6144  Internet firms to be subject to new cybersecurity rules in EU... http://t.co/lafTJ2GyLY                                                    \n",
       "2354  @samajp32 really needs to tone it down some in the weight room. RT @SoonerSportsTV: Demolition (cont) http://t.co/2o7Eva1cOe               \n",
       "4765  #NowPlaying 'The Lightning Strike' de Snow Patrol de A Hundred Million Suns ? http://t.co/GrzcHkDF37                                       \n",
       "6882  @AnnmarieRonan @niamhosullivanx I can't watch tat show its like a horror movie to me I get flashbacks an everything #traumatised           \n",
       "3566  when things become terrible more than the great Ethiopian famine...                                                                        \n",
       "1847  '@jorrynja: 6. @ your bf/gf/crush ??' @Ter_ell ??                                                                                          \n",
       "4961  @nprfreshair I really can't believe he is skipping out before the Republican meltdown...I mean 'debate'.                                   \n",
       "7021  Obama Declares Disaster for Typhoon-Devastated Saipan: Obama signs disaster declaration for Northern Marians a... http://t.co/UsVyHdG9OG   \n",
       "\n",
       "      target  \n",
       "1461  1       \n",
       "1837  0       \n",
       "6144  0       \n",
       "2354  0       \n",
       "4765  0       \n",
       "6882  0       \n",
       "3566  0       \n",
       "1847  1       \n",
       "4961  0       \n",
       "7021  1       "
      ]
     },
     "execution_count": 2,
     "metadata": {},
     "output_type": "execute_result"
    }
   ],
   "source": [
    "train_data = pd.read_csv('/kaggle/input/nlp-getting-started/train.csv')\n",
    "\n",
    "train_data.sample(n=10, random_state=23)"
   ]
  },
  {
   "cell_type": "code",
   "execution_count": 3,
   "id": "eec27882",
   "metadata": {
    "execution": {
     "iopub.execute_input": "2023-08-22T06:03:29.254361Z",
     "iopub.status.busy": "2023-08-22T06:03:29.253423Z",
     "iopub.status.idle": "2023-08-22T06:03:29.261543Z",
     "shell.execute_reply": "2023-08-22T06:03:29.260392Z"
    },
    "papermill": {
     "duration": 0.02352,
     "end_time": "2023-08-22T06:03:29.263657",
     "exception": false,
     "start_time": "2023-08-22T06:03:29.240137",
     "status": "completed"
    },
    "tags": []
   },
   "outputs": [
    {
     "data": {
      "text/plain": [
       "'Obama Declares Disaster for Typhoon-Devastated Saipan: Obama signs disaster declaration for Northern Marians a... http://t.co/UsVyHdG9OG'"
      ]
     },
     "execution_count": 3,
     "metadata": {},
     "output_type": "execute_result"
    }
   ],
   "source": [
    "sample_sentence = train_data.iloc[[7021]].text.to_string(header=False, index=False)\n",
    "sample_sentence"
   ]
  },
  {
   "cell_type": "code",
   "execution_count": 4,
   "id": "a113c8cb",
   "metadata": {
    "execution": {
     "iopub.execute_input": "2023-08-22T06:03:29.290913Z",
     "iopub.status.busy": "2023-08-22T06:03:29.289742Z",
     "iopub.status.idle": "2023-08-22T06:03:29.304920Z",
     "shell.execute_reply": "2023-08-22T06:03:29.303729Z"
    },
    "papermill": {
     "duration": 0.031165,
     "end_time": "2023-08-22T06:03:29.307202",
     "exception": false,
     "start_time": "2023-08-22T06:03:29.276037",
     "status": "completed"
    },
    "tags": []
   },
   "outputs": [
    {
     "data": {
      "text/plain": [
       "0    4342\n",
       "1    3271\n",
       "Name: target, dtype: int64"
      ]
     },
     "execution_count": 4,
     "metadata": {},
     "output_type": "execute_result"
    }
   ],
   "source": [
    "#df = train_data.drop(['id','keyword','location'],axis=1)\n",
    "df = train_data.drop(['id'],axis=1)\n",
    "df.sample(10, random_state=23)\n",
    "\n",
    "# Is the dataset is balanced: count of both class labels (0 and 1):\n",
    "\n",
    "df['target'].value_counts()"
   ]
  },
  {
   "cell_type": "markdown",
   "id": "c5bb418f",
   "metadata": {
    "papermill": {
     "duration": 0.012714,
     "end_time": "2023-08-22T06:03:29.332929",
     "exception": false,
     "start_time": "2023-08-22T06:03:29.320215",
     "status": "completed"
    },
    "tags": []
   },
   "source": [
    "### Optional undersampling step"
   ]
  },
  {
   "cell_type": "code",
   "execution_count": 5,
   "id": "63270bd2",
   "metadata": {
    "execution": {
     "iopub.execute_input": "2023-08-22T06:03:29.360217Z",
     "iopub.status.busy": "2023-08-22T06:03:29.359839Z",
     "iopub.status.idle": "2023-08-22T06:03:29.370913Z",
     "shell.execute_reply": "2023-08-22T06:03:29.369906Z"
    },
    "papermill": {
     "duration": 0.027427,
     "end_time": "2023-08-22T06:03:29.373227",
     "exception": false,
     "start_time": "2023-08-22T06:03:29.345800",
     "status": "completed"
    },
    "tags": []
   },
   "outputs": [],
   "source": [
    "if True:\n",
    "    df_0_class = df[df['target']==0]\n",
    "    df_1_class = df[df['target']==1]\n",
    "    df_0_class_undersampled = df_0_class.sample(df_1_class.shape[0])\n",
    "    df = pd.concat([df_0_class_undersampled, df_1_class], axis=0)\n",
    "\n",
    "    df['target'].value_counts()"
   ]
  },
  {
   "cell_type": "markdown",
   "id": "18ceed14",
   "metadata": {
    "papermill": {
     "duration": 0.016246,
     "end_time": "2023-08-22T06:03:29.402432",
     "exception": false,
     "start_time": "2023-08-22T06:03:29.386186",
     "status": "completed"
    },
    "tags": []
   },
   "source": [
    "### Process Tweets"
   ]
  },
  {
   "cell_type": "code",
   "execution_count": 6,
   "id": "92aafbca",
   "metadata": {
    "execution": {
     "iopub.execute_input": "2023-08-22T06:03:29.430589Z",
     "iopub.status.busy": "2023-08-22T06:03:29.430219Z",
     "iopub.status.idle": "2023-08-22T06:03:44.730921Z",
     "shell.execute_reply": "2023-08-22T06:03:44.729676Z"
    },
    "papermill": {
     "duration": 15.318423,
     "end_time": "2023-08-22T06:03:44.734037",
     "exception": false,
     "start_time": "2023-08-22T06:03:29.415614",
     "status": "completed"
    },
    "tags": []
   },
   "outputs": [
    {
     "name": "stdout",
     "output_type": "stream",
     "text": [
      "Collecting contractions\r\n",
      "  Downloading contractions-0.1.73-py2.py3-none-any.whl (8.7 kB)\r\n",
      "Collecting textsearch>=0.0.21 (from contractions)\r\n",
      "  Downloading textsearch-0.0.24-py2.py3-none-any.whl (7.6 kB)\r\n",
      "Collecting anyascii (from textsearch>=0.0.21->contractions)\r\n",
      "  Downloading anyascii-0.3.2-py3-none-any.whl (289 kB)\r\n",
      "\u001b[2K     \u001b[90m━━━━━━━━━━━━━━━━━━━━━━━━━━━━━━━━━━━━━━━\u001b[0m \u001b[32m289.9/289.9 kB\u001b[0m \u001b[31m5.8 MB/s\u001b[0m eta \u001b[36m0:00:00\u001b[0m\r\n",
      "\u001b[?25hCollecting pyahocorasick (from textsearch>=0.0.21->contractions)\r\n",
      "  Downloading pyahocorasick-2.0.0-cp310-cp310-manylinux_2_5_x86_64.manylinux1_x86_64.manylinux_2_12_x86_64.manylinux2010_x86_64.whl (110 kB)\r\n",
      "\u001b[2K     \u001b[90m━━━━━━━━━━━━━━━━━━━━━━━━━━━━━━━━━━━━━━\u001b[0m \u001b[32m110.8/110.8 kB\u001b[0m \u001b[31m10.8 MB/s\u001b[0m eta \u001b[36m0:00:00\u001b[0m\r\n",
      "\u001b[?25hInstalling collected packages: pyahocorasick, anyascii, textsearch, contractions\r\n",
      "Successfully installed anyascii-0.3.2 contractions-0.1.73 pyahocorasick-2.0.0 textsearch-0.0.24\r\n"
     ]
    }
   ],
   "source": [
    "!pip install contractions\n",
    "\n",
    "import contractions, emoji, re, unidecode\n",
    "\n",
    "from nltk.stem import PorterStemmer\n",
    "\n",
    "class TweetSweeper:\n",
    "    def __init__(self, tweets):\n",
    "        self.tweets = tweets\n",
    "        # Tweet Text\n",
    "        self.stemmer = PorterStemmer()\n",
    "        self.tweets['text_clean'] = self.tweets['text'].apply(lambda x: contractions.fix(x))\n",
    "        self.tweets['text_clean'] = self.tweets['text_clean'].apply(lambda x: self.demojize(x))\n",
    "        self.tweets['hashtags'] = self.tweets['text'].apply(lambda x: [x for x in x.split(\" \") if x.startswith(\"#\")])\n",
    "        # Keyword\n",
    "        self.tweets['keyword'] = self.tweets['keyword'].apply(str)\n",
    "        self.tweets['keyword'] = self.tweets['keyword'].apply(lambda x: self.clean_keywords(x))\n",
    "        self.tweets['keyword'] = self.tweets['keyword'].apply(lambda x: self.remove_accents(x))\n",
    "        self.tweets['keyword'] = self.tweets['keyword'].apply(lambda x: self.remove_punctuation(x))\n",
    "        self.tweets['stems'] = self.tweets['keyword'].apply(lambda x: self.stemmer.stem(x))\n",
    "        # Location\n",
    "        self.tweets['location'] = self.tweets['location'].apply(str)\n",
    "        self.tweets['location'] = self.tweets['location'].apply(lambda x: self.remove_accents(x))\n",
    "        self.tweets['location'] = self.tweets['location'].apply(lambda x: self.remove_punctuation(x))\n",
    "        self.tweets['location'] = self.tweets['location'].apply(lambda x: self.remove_extra_w_space(x))\n",
    "        self.tweets['location'] = self.tweets['location'].apply(lambda x: self.remove_nums(x))\n",
    "        \n",
    "        # Counts\n",
    "        self.tweets['emojis'] = self.tweets['text'].apply(self.emoji_count)\n",
    "        self.tweets['num_hashtags'] = self.tweets['text'].apply(self.hash_count)\n",
    "        self.tweets['token_count'] = self.tweets['text'].apply(lambda x: len(x))\n",
    "        \n",
    "    def demojize(self, tweet):\n",
    "        emojis = re.compile(\"[\"\n",
    "            u\"\\U0001F600-\\U0001F64F\"  # emoticons\n",
    "            u\"\\U0001F300-\\U0001F5FF\"  # symbols & pictographs\n",
    "            u\"\\U0001F680-\\U0001F6FF\"  # transport & map symbols\n",
    "            u\"\\U0001F1E0-\\U0001F1FF\"  # flags (iOS)\n",
    "            u\"\\U00002702-\\U000027B0\"\n",
    "            u\"\\U000024C2-\\U0001F251\"\n",
    "            \"]+\", flags = re.UNICODE)\n",
    "        cleaned_text = emojis.sub(r'', tweet)\n",
    "        return cleaned_text\n",
    "    \n",
    "    def emoji_count(self, tweet):\n",
    "        tweet = emoji.demojize(tweet, delimiters=('__','__'))\n",
    "        pattern = r'_+[a-z_&]+_+'\n",
    "        return len(re.findall(pattern, tweet))\n",
    "    \n",
    "    def hash_count(self, string):\n",
    "        words = string.split()\n",
    "        hashtags = [word for word in words if word.startswith('#')]\n",
    "        return len(hashtags)\n",
    "    \n",
    "    def clean_keywords(self, keyword):\n",
    "        cleaned = re.sub(r'%20', ' ', keyword)\n",
    "        return cleaned\n",
    "    \n",
    "    def remove_accents(self, keyword):\n",
    "        cleaned = unidecode.unidecode(keyword)\n",
    "        return cleaned\n",
    "    \n",
    "    def remove_punctuation(self, keyword):\n",
    "        cleaned = re.sub(r\"[!\\\"#$%&()*+-./:;<=>?@[\\]^_`{|}~\\n -' ]\",\" \",keyword)\n",
    "        return cleaned\n",
    "    \n",
    "    def remove_nums(self, location):\n",
    "        cleaned = re.sub(r'\\d+', '', location)\n",
    "        return cleaned\n",
    "\n",
    "    def remove_extra_w_space(self, location):\n",
    "        cleaned_text = re.sub(r\"\\s+\",\" \", location).strip()\n",
    "        return cleaned_text"
   ]
  },
  {
   "cell_type": "markdown",
   "id": "07080082",
   "metadata": {
    "papermill": {
     "duration": 0.013314,
     "end_time": "2023-08-22T06:03:44.761641",
     "exception": false,
     "start_time": "2023-08-22T06:03:44.748327",
     "status": "completed"
    },
    "tags": []
   },
   "source": [
    "Process the tweets now .."
   ]
  },
  {
   "cell_type": "code",
   "execution_count": 7,
   "id": "fd4c0691",
   "metadata": {
    "execution": {
     "iopub.execute_input": "2023-08-22T06:03:44.793397Z",
     "iopub.status.busy": "2023-08-22T06:03:44.792214Z",
     "iopub.status.idle": "2023-08-22T06:03:47.043261Z",
     "shell.execute_reply": "2023-08-22T06:03:47.041956Z"
    },
    "papermill": {
     "duration": 2.269493,
     "end_time": "2023-08-22T06:03:47.046302",
     "exception": false,
     "start_time": "2023-08-22T06:03:44.776809",
     "status": "completed"
    },
    "tags": []
   },
   "outputs": [
    {
     "data": {
      "text/html": [
       "<div>\n",
       "<style scoped>\n",
       "    .dataframe tbody tr th:only-of-type {\n",
       "        vertical-align: middle;\n",
       "    }\n",
       "\n",
       "    .dataframe tbody tr th {\n",
       "        vertical-align: top;\n",
       "    }\n",
       "\n",
       "    .dataframe thead th {\n",
       "        text-align: right;\n",
       "    }\n",
       "</style>\n",
       "<table border=\"1\" class=\"dataframe\">\n",
       "  <thead>\n",
       "    <tr style=\"text-align: right;\">\n",
       "      <th></th>\n",
       "      <th>id</th>\n",
       "      <th>keyword</th>\n",
       "      <th>location</th>\n",
       "      <th>text</th>\n",
       "      <th>target</th>\n",
       "      <th>text_clean</th>\n",
       "      <th>hashtags</th>\n",
       "      <th>stems</th>\n",
       "      <th>emojis</th>\n",
       "      <th>num_hashtags</th>\n",
       "      <th>token_count</th>\n",
       "    </tr>\n",
       "  </thead>\n",
       "  <tbody>\n",
       "    <tr>\n",
       "      <th>0</th>\n",
       "      <td>1</td>\n",
       "      <td>nan</td>\n",
       "      <td>nan</td>\n",
       "      <td>Our Deeds are the Reason of this #earthquake May ALLAH Forgive us all</td>\n",
       "      <td>1</td>\n",
       "      <td>Our Deeds are the Reason of this #earthquake May ALLAH Forgive us all</td>\n",
       "      <td>[#earthquake]</td>\n",
       "      <td>nan</td>\n",
       "      <td>0</td>\n",
       "      <td>1</td>\n",
       "      <td>69</td>\n",
       "    </tr>\n",
       "    <tr>\n",
       "      <th>1</th>\n",
       "      <td>4</td>\n",
       "      <td>nan</td>\n",
       "      <td>nan</td>\n",
       "      <td>Forest fire near La Ronge Sask. Canada</td>\n",
       "      <td>1</td>\n",
       "      <td>Forest fire near La Ronge Sask. Canada</td>\n",
       "      <td>[]</td>\n",
       "      <td>nan</td>\n",
       "      <td>0</td>\n",
       "      <td>0</td>\n",
       "      <td>38</td>\n",
       "    </tr>\n",
       "    <tr>\n",
       "      <th>2</th>\n",
       "      <td>5</td>\n",
       "      <td>nan</td>\n",
       "      <td>nan</td>\n",
       "      <td>All residents asked to 'shelter in place' are being notified by officers. No other evacuation or shelter in place orders are expected</td>\n",
       "      <td>1</td>\n",
       "      <td>All residents asked to 'shelter in place' are being notified by officers. No other evacuation or shelter in place orders are expected</td>\n",
       "      <td>[]</td>\n",
       "      <td>nan</td>\n",
       "      <td>0</td>\n",
       "      <td>0</td>\n",
       "      <td>133</td>\n",
       "    </tr>\n",
       "    <tr>\n",
       "      <th>3</th>\n",
       "      <td>6</td>\n",
       "      <td>nan</td>\n",
       "      <td>nan</td>\n",
       "      <td>13,000 people receive #wildfires evacuation orders in California</td>\n",
       "      <td>1</td>\n",
       "      <td>13,000 people receive #wildfires evacuation orders in California</td>\n",
       "      <td>[#wildfires]</td>\n",
       "      <td>nan</td>\n",
       "      <td>0</td>\n",
       "      <td>1</td>\n",
       "      <td>65</td>\n",
       "    </tr>\n",
       "    <tr>\n",
       "      <th>4</th>\n",
       "      <td>7</td>\n",
       "      <td>nan</td>\n",
       "      <td>nan</td>\n",
       "      <td>Just got sent this photo from Ruby #Alaska as smoke from #wildfires pours into a school</td>\n",
       "      <td>1</td>\n",
       "      <td>Just got sent this photo from Ruby #Alaska as smoke from #wildfires pours into a school</td>\n",
       "      <td>[#Alaska, #wildfires]</td>\n",
       "      <td>nan</td>\n",
       "      <td>0</td>\n",
       "      <td>2</td>\n",
       "      <td>88</td>\n",
       "    </tr>\n",
       "  </tbody>\n",
       "</table>\n",
       "</div>"
      ],
      "text/plain": [
       "   id keyword location  \\\n",
       "0  1   nan     nan       \n",
       "1  4   nan     nan       \n",
       "2  5   nan     nan       \n",
       "3  6   nan     nan       \n",
       "4  7   nan     nan       \n",
       "\n",
       "                                                                                                                                    text  \\\n",
       "0  Our Deeds are the Reason of this #earthquake May ALLAH Forgive us all                                                                   \n",
       "1  Forest fire near La Ronge Sask. Canada                                                                                                  \n",
       "2  All residents asked to 'shelter in place' are being notified by officers. No other evacuation or shelter in place orders are expected   \n",
       "3  13,000 people receive #wildfires evacuation orders in California                                                                        \n",
       "4  Just got sent this photo from Ruby #Alaska as smoke from #wildfires pours into a school                                                 \n",
       "\n",
       "   target  \\\n",
       "0  1        \n",
       "1  1        \n",
       "2  1        \n",
       "3  1        \n",
       "4  1        \n",
       "\n",
       "                                                                                                                              text_clean  \\\n",
       "0  Our Deeds are the Reason of this #earthquake May ALLAH Forgive us all                                                                   \n",
       "1  Forest fire near La Ronge Sask. Canada                                                                                                  \n",
       "2  All residents asked to 'shelter in place' are being notified by officers. No other evacuation or shelter in place orders are expected   \n",
       "3  13,000 people receive #wildfires evacuation orders in California                                                                        \n",
       "4  Just got sent this photo from Ruby #Alaska as smoke from #wildfires pours into a school                                                 \n",
       "\n",
       "                hashtags stems  emojis  num_hashtags  token_count  \n",
       "0  [#earthquake]          nan   0       1             69           \n",
       "1  []                     nan   0       0             38           \n",
       "2  []                     nan   0       0             133          \n",
       "3  [#wildfires]           nan   0       1             65           \n",
       "4  [#Alaska, #wildfires]  nan   0       2             88           "
      ]
     },
     "execution_count": 7,
     "metadata": {},
     "output_type": "execute_result"
    }
   ],
   "source": [
    "sweep_data = TweetSweeper(train_data).tweets.copy()\n",
    "sweep_data.head()"
   ]
  },
  {
   "cell_type": "code",
   "execution_count": 8,
   "id": "833a5972",
   "metadata": {
    "execution": {
     "iopub.execute_input": "2023-08-22T06:03:47.076286Z",
     "iopub.status.busy": "2023-08-22T06:03:47.075908Z",
     "iopub.status.idle": "2023-08-22T06:03:47.093838Z",
     "shell.execute_reply": "2023-08-22T06:03:47.092633Z"
    },
    "papermill": {
     "duration": 0.035813,
     "end_time": "2023-08-22T06:03:47.097224",
     "exception": false,
     "start_time": "2023-08-22T06:03:47.061411",
     "status": "completed"
    },
    "tags": []
   },
   "outputs": [
    {
     "data": {
      "text/html": [
       "<div>\n",
       "<style scoped>\n",
       "    .dataframe tbody tr th:only-of-type {\n",
       "        vertical-align: middle;\n",
       "    }\n",
       "\n",
       "    .dataframe tbody tr th {\n",
       "        vertical-align: top;\n",
       "    }\n",
       "\n",
       "    .dataframe thead th {\n",
       "        text-align: right;\n",
       "    }\n",
       "</style>\n",
       "<table border=\"1\" class=\"dataframe\">\n",
       "  <thead>\n",
       "    <tr style=\"text-align: right;\">\n",
       "      <th></th>\n",
       "      <th>text</th>\n",
       "      <th>text_clean</th>\n",
       "    </tr>\n",
       "  </thead>\n",
       "  <tbody>\n",
       "    <tr>\n",
       "      <th>7</th>\n",
       "      <td>I'm on top of the hill and I can see a fire in the woods...</td>\n",
       "      <td>I am on top of the hill and I can see a fire in the woods...</td>\n",
       "    </tr>\n",
       "    <tr>\n",
       "      <th>8</th>\n",
       "      <td>There's an emergency evacuation happening now in the building across the street</td>\n",
       "      <td>There is an emergency evacuation happening now in the building across the street</td>\n",
       "    </tr>\n",
       "    <tr>\n",
       "      <th>9</th>\n",
       "      <td>I'm afraid that the tornado is coming to our area...</td>\n",
       "      <td>I am afraid that the tornado is coming to our area...</td>\n",
       "    </tr>\n",
       "    <tr>\n",
       "      <th>11</th>\n",
       "      <td>Haha South Tampa is getting flooded hah- WAIT A SECOND I LIVE IN SOUTH TAMPA WHAT AM I GONNA DO WHAT AM I GONNA DO FVCK #flooding</td>\n",
       "      <td>Haha South Tampa is getting flooded hah- WAIT A SECOND I LIVE IN SOUTH TAMPA WHAT AM I GOING TO DO WHAT AM I GOING TO DO FVCK #flooding</td>\n",
       "    </tr>\n",
       "    <tr>\n",
       "      <th>12</th>\n",
       "      <td>#raining #flooding #Florida #TampaBay #Tampa 18 or 19 days. I've lost count</td>\n",
       "      <td>#raining #flooding #Florida #TampaBay #Tampa 18 or 19 days. I have lost count</td>\n",
       "    </tr>\n",
       "    <tr>\n",
       "      <th>15</th>\n",
       "      <td>What's up man?</td>\n",
       "      <td>What is up man?</td>\n",
       "    </tr>\n",
       "    <tr>\n",
       "      <th>25</th>\n",
       "      <td>No way...I can't eat that shit</td>\n",
       "      <td>No way...I cannot eat that shit</td>\n",
       "    </tr>\n",
       "    <tr>\n",
       "      <th>36</th>\n",
       "      <td>@PhDSquares #mufc they've built so much hype around new acquisitions but I doubt they will set the EPL ablaze this season.</td>\n",
       "      <td>@PhDSquares #mufc they have built so much hype around new acquisitions but I doubt they will set the EPL ablaze this season.</td>\n",
       "    </tr>\n",
       "    <tr>\n",
       "      <th>41</th>\n",
       "      <td>on the outside you're ablaze and alive\\nbut you're dead inside</td>\n",
       "      <td>on the outside you are ablaze and alive\\nbut you are dead inside</td>\n",
       "    </tr>\n",
       "    <tr>\n",
       "      <th>49</th>\n",
       "      <td>First night with retainers in. It's quite weird. Better get used to it; I have to wear them every single night for the next year at least.</td>\n",
       "      <td>First night with retainers in. It is quite weird. Better get used to it; I have to wear them every single night for the next year at least.</td>\n",
       "    </tr>\n",
       "  </tbody>\n",
       "</table>\n",
       "</div>"
      ],
      "text/plain": [
       "                                                                                                                                          text  \\\n",
       "7   I'm on top of the hill and I can see a fire in the woods...                                                                                  \n",
       "8   There's an emergency evacuation happening now in the building across the street                                                              \n",
       "9   I'm afraid that the tornado is coming to our area...                                                                                         \n",
       "11  Haha South Tampa is getting flooded hah- WAIT A SECOND I LIVE IN SOUTH TAMPA WHAT AM I GONNA DO WHAT AM I GONNA DO FVCK #flooding            \n",
       "12  #raining #flooding #Florida #TampaBay #Tampa 18 or 19 days. I've lost count                                                                  \n",
       "15  What's up man?                                                                                                                               \n",
       "25  No way...I can't eat that shit                                                                                                               \n",
       "36  @PhDSquares #mufc they've built so much hype around new acquisitions but I doubt they will set the EPL ablaze this season.                   \n",
       "41  on the outside you're ablaze and alive\\nbut you're dead inside                                                                               \n",
       "49  First night with retainers in. It's quite weird. Better get used to it; I have to wear them every single night for the next year at least.   \n",
       "\n",
       "                                                                                                                                     text_clean  \n",
       "7   I am on top of the hill and I can see a fire in the woods...                                                                                 \n",
       "8   There is an emergency evacuation happening now in the building across the street                                                             \n",
       "9   I am afraid that the tornado is coming to our area...                                                                                        \n",
       "11  Haha South Tampa is getting flooded hah- WAIT A SECOND I LIVE IN SOUTH TAMPA WHAT AM I GOING TO DO WHAT AM I GOING TO DO FVCK #flooding      \n",
       "12  #raining #flooding #Florida #TampaBay #Tampa 18 or 19 days. I have lost count                                                                \n",
       "15  What is up man?                                                                                                                              \n",
       "25  No way...I cannot eat that shit                                                                                                              \n",
       "36  @PhDSquares #mufc they have built so much hype around new acquisitions but I doubt they will set the EPL ablaze this season.                 \n",
       "41  on the outside you are ablaze and alive\\nbut you are dead inside                                                                             \n",
       "49  First night with retainers in. It is quite weird. Better get used to it; I have to wear them every single night for the next year at least.  "
      ]
     },
     "execution_count": 8,
     "metadata": {},
     "output_type": "execute_result"
    }
   ],
   "source": [
    "# Do we really see difference?\n",
    "sweep_data[['text', 'text_clean']][sweep_data['text'] != sweep_data['text_clean']].head(10)"
   ]
  },
  {
   "cell_type": "markdown",
   "id": "0baec921",
   "metadata": {
    "papermill": {
     "duration": 0.013459,
     "end_time": "2023-08-22T06:03:47.125955",
     "exception": false,
     "start_time": "2023-08-22T06:03:47.112496",
     "status": "completed"
    },
    "tags": []
   },
   "source": [
    "### Feature Engineering"
   ]
  },
  {
   "cell_type": "markdown",
   "id": "c36e1e6a",
   "metadata": {
    "papermill": {
     "duration": 0.013686,
     "end_time": "2023-08-22T06:03:47.153764",
     "exception": false,
     "start_time": "2023-08-22T06:03:47.140078",
     "status": "completed"
    },
    "tags": []
   },
   "source": [
    "Create a utility function that converts each training, validation, and test set DataFrame into a **tf.data.Dataset**, then shuffles and batches the data."
   ]
  },
  {
   "cell_type": "code",
   "execution_count": 9,
   "id": "9bafc596",
   "metadata": {
    "execution": {
     "iopub.execute_input": "2023-08-22T06:03:47.183570Z",
     "iopub.status.busy": "2023-08-22T06:03:47.182677Z",
     "iopub.status.idle": "2023-08-22T06:03:47.189937Z",
     "shell.execute_reply": "2023-08-22T06:03:47.188849Z"
    },
    "papermill": {
     "duration": 0.024664,
     "end_time": "2023-08-22T06:03:47.192309",
     "exception": false,
     "start_time": "2023-08-22T06:03:47.167645",
     "status": "completed"
    },
    "tags": []
   },
   "outputs": [],
   "source": [
    "def df_to_dataset(dataframe, shuffle=True, batch_size=32):\n",
    "    df = dataframe.copy()\n",
    "    labels = df.pop('target')\n",
    "    df = {key: value[:,tf.newaxis] for key, value in dataframe.items()}\n",
    "    ds = tf.data.Dataset.from_tensor_slices((dict(df), labels))\n",
    "    if shuffle:\n",
    "        ds = ds.shuffle(buffer_size=len(dataframe))\n",
    "    ds = ds.batch(batch_size)\n",
    "    ds = ds.prefetch(batch_size)\n",
    "    return ds"
   ]
  },
  {
   "cell_type": "code",
   "execution_count": 10,
   "id": "7632669d",
   "metadata": {
    "execution": {
     "iopub.execute_input": "2023-08-22T06:03:47.222694Z",
     "iopub.status.busy": "2023-08-22T06:03:47.221647Z",
     "iopub.status.idle": "2023-08-22T06:03:50.800814Z",
     "shell.execute_reply": "2023-08-22T06:03:50.799405Z"
    },
    "papermill": {
     "duration": 3.597069,
     "end_time": "2023-08-22T06:03:50.803539",
     "exception": false,
     "start_time": "2023-08-22T06:03:47.206470",
     "status": "completed"
    },
    "tags": []
   },
   "outputs": [
    {
     "name": "stdout",
     "output_type": "stream",
     "text": [
      "Every feature: ['id', 'keyword', 'location', 'text', 'target', 'text_clean', 'hashtags', 'stems', 'emojis', 'num_hashtags', 'token_count']\n",
      "A batch of keyword: tf.Tensor(\n",
      "[[b'devastation']\n",
      " [b'thunder']\n",
      " [b'bloody']\n",
      " [b'harm']\n",
      " [b'suicide bombing']], shape=(5, 1), dtype=string)\n",
      "A batch of targets: tf.Tensor([1 0 0 0 1], shape=(5,), dtype=int64)\n"
     ]
    }
   ],
   "source": [
    "batch_size = 5 # just for limited investigation\n",
    "\n",
    "# ValueError: Failed to convert a NumPy array to a Tensor (Unsupported object type float).\n",
    "sweep_data.dtypes\n",
    "sweep_data['keyword'] = sweep_data['keyword'].apply(str)\n",
    "sweep_data['location'] = sweep_data['location'].apply(str)\n",
    "# TODO: Failed to convert a NumPy array to a Tensor (Unsupported object type list).\n",
    "sweep_data['hashtags'] = sweep_data['hashtags'].apply(str)\n",
    "\n",
    "train_ds = df_to_dataset(sweep_data, batch_size=batch_size)\n",
    "\n",
    "[(train_features, label_batch)] = train_ds.take(1)\n",
    "print('Every feature:', list(train_features.keys()))\n",
    "print('A batch of keyword:', train_features['keyword'])\n",
    "print('A batch of targets:', label_batch )"
   ]
  },
  {
   "cell_type": "markdown",
   "id": "33d51b47",
   "metadata": {
    "papermill": {
     "duration": 0.014583,
     "end_time": "2023-08-22T06:03:50.833116",
     "exception": false,
     "start_time": "2023-08-22T06:03:50.818533",
     "status": "completed"
    },
    "tags": []
   },
   "source": [
    "#### Numerical columns"
   ]
  },
  {
   "cell_type": "code",
   "execution_count": 11,
   "id": "f07d4b6a",
   "metadata": {
    "execution": {
     "iopub.execute_input": "2023-08-22T06:03:50.869808Z",
     "iopub.status.busy": "2023-08-22T06:03:50.862944Z",
     "iopub.status.idle": "2023-08-22T06:03:50.875724Z",
     "shell.execute_reply": "2023-08-22T06:03:50.874542Z"
    },
    "papermill": {
     "duration": 0.031223,
     "end_time": "2023-08-22T06:03:50.878640",
     "exception": false,
     "start_time": "2023-08-22T06:03:50.847417",
     "status": "completed"
    },
    "tags": []
   },
   "outputs": [],
   "source": [
    "def get_normalization_layer(name, dataset):\n",
    "    # Create a Normalization layer for the feature.\n",
    "    normalizer = layers.Normalization(axis=None)\n",
    "\n",
    "    # Prepare a Dataset that only yields the feature.\n",
    "    feature_ds = dataset.map(lambda x, y: x[name])\n",
    "\n",
    "    # Learn the statistics of the data.\n",
    "    normalizer.adapt(feature_ds)\n",
    "\n",
    "    return normalizer"
   ]
  },
  {
   "cell_type": "code",
   "execution_count": 12,
   "id": "8fd91fe7",
   "metadata": {
    "execution": {
     "iopub.execute_input": "2023-08-22T06:03:50.909159Z",
     "iopub.status.busy": "2023-08-22T06:03:50.908757Z",
     "iopub.status.idle": "2023-08-22T06:03:53.665492Z",
     "shell.execute_reply": "2023-08-22T06:03:53.664297Z"
    },
    "papermill": {
     "duration": 2.774929,
     "end_time": "2023-08-22T06:03:53.668111",
     "exception": false,
     "start_time": "2023-08-22T06:03:50.893182",
     "status": "completed"
    },
    "tags": []
   },
   "outputs": [
    {
     "data": {
      "text/plain": [
       "<tf.Tensor: shape=(5, 1), dtype=float32, numpy=\n",
       "array([[ 1.0054314],\n",
       "       [-1.4813154],\n",
       "       [ 1.2718686],\n",
       "       [ 1.153452 ],\n",
       "       [ 0.916619 ]], dtype=float32)>"
      ]
     },
     "execution_count": 12,
     "metadata": {},
     "output_type": "execute_result"
    }
   ],
   "source": [
    "token_count_col = train_features['token_count']\n",
    "layer = get_normalization_layer('token_count', train_ds)\n",
    "layer(token_count_col)"
   ]
  },
  {
   "cell_type": "markdown",
   "id": "e99e329c",
   "metadata": {
    "papermill": {
     "duration": 0.014084,
     "end_time": "2023-08-22T06:03:53.697154",
     "exception": false,
     "start_time": "2023-08-22T06:03:53.683070",
     "status": "completed"
    },
    "tags": []
   },
   "source": [
    "#### Categorical columns"
   ]
  },
  {
   "cell_type": "code",
   "execution_count": 13,
   "id": "95519677",
   "metadata": {
    "execution": {
     "iopub.execute_input": "2023-08-22T06:03:53.728122Z",
     "iopub.status.busy": "2023-08-22T06:03:53.727716Z",
     "iopub.status.idle": "2023-08-22T06:03:53.735365Z",
     "shell.execute_reply": "2023-08-22T06:03:53.734150Z"
    },
    "papermill": {
     "duration": 0.025939,
     "end_time": "2023-08-22T06:03:53.738030",
     "exception": false,
     "start_time": "2023-08-22T06:03:53.712091",
     "status": "completed"
    },
    "tags": []
   },
   "outputs": [],
   "source": [
    "def get_category_encoding_layer(name, dataset, dtype, max_tokens=None):\n",
    "    # Create a layer that turns strings into integer indices.\n",
    "    if dtype == 'string':\n",
    "        index = layers.StringLookup(max_tokens=max_tokens)\n",
    "    # Otherwise, create a layer that turns integer values into integer indices.\n",
    "    else:\n",
    "        index = layers.IntegerLookup(max_tokens=max_tokens)\n",
    "\n",
    "    # Prepare a `tf.data.Dataset` that only yields the feature.\n",
    "    feature_ds = dataset.map(lambda x, y: x[name])\n",
    "\n",
    "    # Learn the set of possible values and assign them a fixed integer index.\n",
    "    index.adapt(feature_ds)\n",
    "\n",
    "    # Encode the integer indices.\n",
    "    encoder = layers.CategoryEncoding(num_tokens=index.vocabulary_size())\n",
    "\n",
    "    # Apply multi-hot encoding to the indices. The lambda function captures the\n",
    "    # layer, so you can use them, or include them in the Keras Functional model later.\n",
    "    return lambda feature: encoder(index(feature))"
   ]
  },
  {
   "cell_type": "code",
   "execution_count": 14,
   "id": "3578bc18",
   "metadata": {
    "execution": {
     "iopub.execute_input": "2023-08-22T06:03:53.768921Z",
     "iopub.status.busy": "2023-08-22T06:03:53.767940Z",
     "iopub.status.idle": "2023-08-22T06:03:56.043161Z",
     "shell.execute_reply": "2023-08-22T06:03:56.042036Z"
    },
    "papermill": {
     "duration": 2.293117,
     "end_time": "2023-08-22T06:03:56.045824",
     "exception": false,
     "start_time": "2023-08-22T06:03:53.752707",
     "status": "completed"
    },
    "tags": []
   },
   "outputs": [
    {
     "data": {
      "text/plain": [
       "<tf.Tensor: shape=(5, 168), dtype=float32, numpy=\n",
       "array([[0., 0., 0., 0., 0., 0., 0., 0., 0., 0., 0., 0., 0., 0., 0., 0.,\n",
       "        0., 0., 0., 0., 0., 0., 0., 0., 0., 0., 0., 0., 0., 0., 0., 0.,\n",
       "        1., 0., 0., 0., 0., 0., 0., 0., 0., 0., 0., 0., 0., 0., 0., 0.,\n",
       "        0., 0., 0., 0., 0., 0., 0., 0., 0., 0., 0., 0., 0., 0., 0., 0.,\n",
       "        0., 0., 0., 0., 0., 0., 0., 0., 0., 0., 0., 0., 0., 0., 0., 0.,\n",
       "        0., 0., 0., 0., 0., 0., 0., 0., 0., 0., 0., 0., 0., 0., 0., 0.,\n",
       "        0., 0., 0., 0., 0., 0., 0., 0., 0., 0., 0., 0., 0., 0., 0., 0.,\n",
       "        0., 0., 0., 0., 0., 0., 0., 0., 0., 0., 0., 0., 0., 0., 0., 0.,\n",
       "        0., 0., 0., 0., 0., 0., 0., 0., 0., 0., 0., 0., 0., 0., 0., 0.,\n",
       "        0., 0., 0., 0., 0., 0., 0., 0., 0., 0., 0., 0., 0., 0., 0., 0.,\n",
       "        0., 0., 0., 0., 0., 0., 0., 0.],\n",
       "       [0., 0., 0., 0., 0., 0., 0., 0., 0., 0., 0., 0., 0., 0., 0., 0.,\n",
       "        0., 0., 0., 0., 0., 0., 0., 0., 0., 0., 0., 0., 0., 0., 0., 0.,\n",
       "        0., 0., 0., 0., 0., 0., 0., 0., 0., 0., 0., 0., 0., 0., 0., 0.,\n",
       "        0., 0., 0., 0., 0., 0., 0., 0., 0., 0., 0., 0., 0., 0., 0., 0.,\n",
       "        0., 0., 1., 0., 0., 0., 0., 0., 0., 0., 0., 0., 0., 0., 0., 0.,\n",
       "        0., 0., 0., 0., 0., 0., 0., 0., 0., 0., 0., 0., 0., 0., 0., 0.,\n",
       "        0., 0., 0., 0., 0., 0., 0., 0., 0., 0., 0., 0., 0., 0., 0., 0.,\n",
       "        0., 0., 0., 0., 0., 0., 0., 0., 0., 0., 0., 0., 0., 0., 0., 0.,\n",
       "        0., 0., 0., 0., 0., 0., 0., 0., 0., 0., 0., 0., 0., 0., 0., 0.,\n",
       "        0., 0., 0., 0., 0., 0., 0., 0., 0., 0., 0., 0., 0., 0., 0., 0.,\n",
       "        0., 0., 0., 0., 0., 0., 0., 0.],\n",
       "       [0., 0., 0., 0., 0., 0., 0., 0., 0., 0., 0., 0., 0., 0., 0., 0.,\n",
       "        0., 0., 0., 0., 0., 0., 0., 0., 0., 0., 0., 0., 0., 0., 0., 0.,\n",
       "        0., 0., 0., 0., 0., 0., 0., 0., 0., 0., 0., 0., 0., 0., 0., 0.,\n",
       "        0., 0., 0., 0., 0., 0., 0., 0., 0., 0., 0., 0., 0., 0., 0., 0.,\n",
       "        0., 0., 0., 0., 0., 0., 0., 0., 0., 0., 0., 0., 0., 0., 0., 0.,\n",
       "        0., 0., 0., 0., 0., 0., 0., 0., 0., 0., 0., 0., 0., 0., 0., 0.,\n",
       "        0., 0., 0., 0., 0., 0., 0., 0., 0., 0., 1., 0., 0., 0., 0., 0.,\n",
       "        0., 0., 0., 0., 0., 0., 0., 0., 0., 0., 0., 0., 0., 0., 0., 0.,\n",
       "        0., 0., 0., 0., 0., 0., 0., 0., 0., 0., 0., 0., 0., 0., 0., 0.,\n",
       "        0., 0., 0., 0., 0., 0., 0., 0., 0., 0., 0., 0., 0., 0., 0., 0.,\n",
       "        0., 0., 0., 0., 0., 0., 0., 0.],\n",
       "       [0., 0., 0., 0., 0., 0., 0., 0., 0., 0., 0., 0., 0., 0., 0., 0.,\n",
       "        0., 0., 0., 0., 0., 0., 0., 0., 0., 0., 0., 0., 0., 0., 0., 0.,\n",
       "        0., 0., 0., 0., 0., 0., 0., 0., 0., 0., 0., 0., 0., 0., 0., 0.,\n",
       "        1., 0., 0., 0., 0., 0., 0., 0., 0., 0., 0., 0., 0., 0., 0., 0.,\n",
       "        0., 0., 0., 0., 0., 0., 0., 0., 0., 0., 0., 0., 0., 0., 0., 0.,\n",
       "        0., 0., 0., 0., 0., 0., 0., 0., 0., 0., 0., 0., 0., 0., 0., 0.,\n",
       "        0., 0., 0., 0., 0., 0., 0., 0., 0., 0., 0., 0., 0., 0., 0., 0.,\n",
       "        0., 0., 0., 0., 0., 0., 0., 0., 0., 0., 0., 0., 0., 0., 0., 0.,\n",
       "        0., 0., 0., 0., 0., 0., 0., 0., 0., 0., 0., 0., 0., 0., 0., 0.,\n",
       "        0., 0., 0., 0., 0., 0., 0., 0., 0., 0., 0., 0., 0., 0., 0., 0.,\n",
       "        0., 0., 0., 0., 0., 0., 0., 0.],\n",
       "       [0., 0., 0., 0., 0., 0., 0., 0., 0., 0., 1., 0., 0., 0., 0., 0.,\n",
       "        0., 0., 0., 0., 0., 0., 0., 0., 0., 0., 0., 0., 0., 0., 0., 0.,\n",
       "        0., 0., 0., 0., 0., 0., 0., 0., 0., 0., 0., 0., 0., 0., 0., 0.,\n",
       "        0., 0., 0., 0., 0., 0., 0., 0., 0., 0., 0., 0., 0., 0., 0., 0.,\n",
       "        0., 0., 0., 0., 0., 0., 0., 0., 0., 0., 0., 0., 0., 0., 0., 0.,\n",
       "        0., 0., 0., 0., 0., 0., 0., 0., 0., 0., 0., 0., 0., 0., 0., 0.,\n",
       "        0., 0., 0., 0., 0., 0., 0., 0., 0., 0., 0., 0., 0., 0., 0., 0.,\n",
       "        0., 0., 0., 0., 0., 0., 0., 0., 0., 0., 0., 0., 0., 0., 0., 0.,\n",
       "        0., 0., 0., 0., 0., 0., 0., 0., 0., 0., 0., 0., 0., 0., 0., 0.,\n",
       "        0., 0., 0., 0., 0., 0., 0., 0., 0., 0., 0., 0., 0., 0., 0., 0.,\n",
       "        0., 0., 0., 0., 0., 0., 0., 0.]], dtype=float32)>"
      ]
     },
     "execution_count": 14,
     "metadata": {},
     "output_type": "execute_result"
    }
   ],
   "source": [
    "# using `stems` as categorical for testing\n",
    "test_stems_col = train_features['stems']\n",
    "test_stems_layer = get_category_encoding_layer(name='stems',\n",
    "                                               dataset=train_ds,\n",
    "                                               dtype='string')\n",
    "test_stems_layer(test_stems_col)"
   ]
  },
  {
   "cell_type": "markdown",
   "id": "7ab770c0",
   "metadata": {
    "papermill": {
     "duration": 0.015666,
     "end_time": "2023-08-22T06:03:56.076866",
     "exception": false,
     "start_time": "2023-08-22T06:03:56.061200",
     "status": "completed"
    },
    "tags": []
   },
   "source": [
    "## BERT Preprocessor & Encoder"
   ]
  },
  {
   "cell_type": "code",
   "execution_count": 15,
   "id": "3bb4306d",
   "metadata": {
    "execution": {
     "iopub.execute_input": "2023-08-22T06:03:56.110048Z",
     "iopub.status.busy": "2023-08-22T06:03:56.109625Z",
     "iopub.status.idle": "2023-08-22T06:03:56.126315Z",
     "shell.execute_reply": "2023-08-22T06:03:56.125159Z"
    },
    "papermill": {
     "duration": 0.036651,
     "end_time": "2023-08-22T06:03:56.129003",
     "exception": false,
     "start_time": "2023-08-22T06:03:56.092352",
     "status": "completed"
    },
    "tags": []
   },
   "outputs": [],
   "source": [
    "map_name_to_handle = {\n",
    "    'bert_en_uncased_L-12_H-768_A-12':\n",
    "        'https://tfhub.dev/tensorflow/bert_en_uncased_L-12_H-768_A-12/3',\n",
    "    'bert_en_cased_L-12_H-768_A-12':\n",
    "        'https://tfhub.dev/tensorflow/bert_en_cased_L-12_H-768_A-12/3',\n",
    "    'bert_multi_cased_L-12_H-768_A-12':\n",
    "        'https://tfhub.dev/tensorflow/bert_multi_cased_L-12_H-768_A-12/3',\n",
    "    'small_bert/bert_en_uncased_L-2_H-128_A-2':\n",
    "        'https://tfhub.dev/tensorflow/small_bert/bert_en_uncased_L-2_H-128_A-2/1',\n",
    "    'small_bert/bert_en_uncased_L-2_H-256_A-4':\n",
    "        'https://tfhub.dev/tensorflow/small_bert/bert_en_uncased_L-2_H-256_A-4/1',\n",
    "    'small_bert/bert_en_uncased_L-2_H-512_A-8':\n",
    "        'https://tfhub.dev/tensorflow/small_bert/bert_en_uncased_L-2_H-512_A-8/1',\n",
    "    'small_bert/bert_en_uncased_L-2_H-768_A-12':\n",
    "        'https://tfhub.dev/tensorflow/small_bert/bert_en_uncased_L-2_H-768_A-12/1',\n",
    "    'small_bert/bert_en_uncased_L-4_H-128_A-2':\n",
    "        'https://tfhub.dev/tensorflow/small_bert/bert_en_uncased_L-4_H-128_A-2/1',\n",
    "    'small_bert/bert_en_uncased_L-4_H-256_A-4':\n",
    "        'https://tfhub.dev/tensorflow/small_bert/bert_en_uncased_L-4_H-256_A-4/1',\n",
    "    'small_bert/bert_en_uncased_L-4_H-512_A-8':\n",
    "        'https://tfhub.dev/tensorflow/small_bert/bert_en_uncased_L-4_H-512_A-8/1',\n",
    "    'small_bert/bert_en_uncased_L-4_H-768_A-12':\n",
    "        'https://tfhub.dev/tensorflow/small_bert/bert_en_uncased_L-4_H-768_A-12/1',\n",
    "    'small_bert/bert_en_uncased_L-6_H-128_A-2':\n",
    "        'https://tfhub.dev/tensorflow/small_bert/bert_en_uncased_L-6_H-128_A-2/1',\n",
    "    'small_bert/bert_en_uncased_L-6_H-256_A-4':\n",
    "        'https://tfhub.dev/tensorflow/small_bert/bert_en_uncased_L-6_H-256_A-4/1',\n",
    "    'small_bert/bert_en_uncased_L-6_H-512_A-8':\n",
    "        'https://tfhub.dev/tensorflow/small_bert/bert_en_uncased_L-6_H-512_A-8/1',\n",
    "    'small_bert/bert_en_uncased_L-6_H-768_A-12':\n",
    "        'https://tfhub.dev/tensorflow/small_bert/bert_en_uncased_L-6_H-768_A-12/1',\n",
    "    'small_bert/bert_en_uncased_L-8_H-128_A-2':\n",
    "        'https://tfhub.dev/tensorflow/small_bert/bert_en_uncased_L-8_H-128_A-2/1',\n",
    "    'small_bert/bert_en_uncased_L-8_H-256_A-4':\n",
    "        'https://tfhub.dev/tensorflow/small_bert/bert_en_uncased_L-8_H-256_A-4/1',\n",
    "    'small_bert/bert_en_uncased_L-8_H-512_A-8':\n",
    "        'https://tfhub.dev/tensorflow/small_bert/bert_en_uncased_L-8_H-512_A-8/1',\n",
    "    'small_bert/bert_en_uncased_L-8_H-768_A-12':\n",
    "        'https://tfhub.dev/tensorflow/small_bert/bert_en_uncased_L-8_H-768_A-12/1',\n",
    "    'small_bert/bert_en_uncased_L-10_H-128_A-2':\n",
    "        'https://tfhub.dev/tensorflow/small_bert/bert_en_uncased_L-10_H-128_A-2/1',\n",
    "    'small_bert/bert_en_uncased_L-10_H-256_A-4':\n",
    "        'https://tfhub.dev/tensorflow/small_bert/bert_en_uncased_L-10_H-256_A-4/1',\n",
    "    'small_bert/bert_en_uncased_L-10_H-512_A-8':\n",
    "        'https://tfhub.dev/tensorflow/small_bert/bert_en_uncased_L-10_H-512_A-8/1',\n",
    "    'small_bert/bert_en_uncased_L-10_H-768_A-12':\n",
    "        'https://tfhub.dev/tensorflow/small_bert/bert_en_uncased_L-10_H-768_A-12/1',\n",
    "    'small_bert/bert_en_uncased_L-12_H-128_A-2':\n",
    "        'https://tfhub.dev/tensorflow/small_bert/bert_en_uncased_L-12_H-128_A-2/1',\n",
    "    'small_bert/bert_en_uncased_L-12_H-256_A-4':\n",
    "        'https://tfhub.dev/tensorflow/small_bert/bert_en_uncased_L-12_H-256_A-4/1',\n",
    "    'small_bert/bert_en_uncased_L-12_H-512_A-8':\n",
    "        'https://tfhub.dev/tensorflow/small_bert/bert_en_uncased_L-12_H-512_A-8/1',\n",
    "    'small_bert/bert_en_uncased_L-12_H-768_A-12':\n",
    "        'https://tfhub.dev/tensorflow/small_bert/bert_en_uncased_L-12_H-768_A-12/1',\n",
    "    'albert_en_base':\n",
    "        'https://tfhub.dev/tensorflow/albert_en_base/2',\n",
    "    'electra_small':\n",
    "        'https://tfhub.dev/google/electra_small/2',\n",
    "    'electra_base':\n",
    "        'https://tfhub.dev/google/electra_base/2',\n",
    "    'experts_pubmed':\n",
    "        'https://tfhub.dev/google/experts/bert/pubmed/2',\n",
    "    'experts_wiki_books':\n",
    "        'https://tfhub.dev/google/experts/bert/wiki_books/2',\n",
    "    'talking-heads_base':\n",
    "        'https://tfhub.dev/tensorflow/talkheads_ggelu_bert_en_base/1',\n",
    "}\n",
    "\n",
    "map_model_to_preprocess = {\n",
    "    'bert_en_uncased_L-12_H-768_A-12':\n",
    "        'https://tfhub.dev/tensorflow/bert_en_uncased_preprocess/3',\n",
    "    'bert_en_cased_L-12_H-768_A-12':\n",
    "        'https://tfhub.dev/tensorflow/bert_en_cased_preprocess/3',\n",
    "    'small_bert/bert_en_uncased_L-2_H-128_A-2':\n",
    "        'https://tfhub.dev/tensorflow/bert_en_uncased_preprocess/3',\n",
    "    'small_bert/bert_en_uncased_L-2_H-256_A-4':\n",
    "        'https://tfhub.dev/tensorflow/bert_en_uncased_preprocess/3',\n",
    "    'small_bert/bert_en_uncased_L-2_H-512_A-8':\n",
    "        'https://tfhub.dev/tensorflow/bert_en_uncased_preprocess/3',\n",
    "    'small_bert/bert_en_uncased_L-2_H-768_A-12':\n",
    "        'https://tfhub.dev/tensorflow/bert_en_uncased_preprocess/3',\n",
    "    'small_bert/bert_en_uncased_L-4_H-128_A-2':\n",
    "        'https://tfhub.dev/tensorflow/bert_en_uncased_preprocess/3',\n",
    "    'small_bert/bert_en_uncased_L-4_H-256_A-4':\n",
    "        'https://tfhub.dev/tensorflow/bert_en_uncased_preprocess/3',\n",
    "    'small_bert/bert_en_uncased_L-4_H-512_A-8':\n",
    "        'https://tfhub.dev/tensorflow/bert_en_uncased_preprocess/3',\n",
    "    'small_bert/bert_en_uncased_L-4_H-768_A-12':\n",
    "        'https://tfhub.dev/tensorflow/bert_en_uncased_preprocess/3',\n",
    "    'small_bert/bert_en_uncased_L-6_H-128_A-2':\n",
    "        'https://tfhub.dev/tensorflow/bert_en_uncased_preprocess/3',\n",
    "    'small_bert/bert_en_uncased_L-6_H-256_A-4':\n",
    "        'https://tfhub.dev/tensorflow/bert_en_uncased_preprocess/3',\n",
    "    'small_bert/bert_en_uncased_L-6_H-512_A-8':\n",
    "        'https://tfhub.dev/tensorflow/bert_en_uncased_preprocess/3',\n",
    "    'small_bert/bert_en_uncased_L-6_H-768_A-12':\n",
    "        'https://tfhub.dev/tensorflow/bert_en_uncased_preprocess/3',\n",
    "    'small_bert/bert_en_uncased_L-8_H-128_A-2':\n",
    "        'https://tfhub.dev/tensorflow/bert_en_uncased_preprocess/3',\n",
    "    'small_bert/bert_en_uncased_L-8_H-256_A-4':\n",
    "        'https://tfhub.dev/tensorflow/bert_en_uncased_preprocess/3',\n",
    "    'small_bert/bert_en_uncased_L-8_H-512_A-8':\n",
    "        'https://tfhub.dev/tensorflow/bert_en_uncased_preprocess/3',\n",
    "    'small_bert/bert_en_uncased_L-8_H-768_A-12':\n",
    "        'https://tfhub.dev/tensorflow/bert_en_uncased_preprocess/3',\n",
    "    'small_bert/bert_en_uncased_L-10_H-128_A-2':\n",
    "        'https://tfhub.dev/tensorflow/bert_en_uncased_preprocess/3',\n",
    "    'small_bert/bert_en_uncased_L-10_H-256_A-4':\n",
    "        'https://tfhub.dev/tensorflow/bert_en_uncased_preprocess/3',\n",
    "    'small_bert/bert_en_uncased_L-10_H-512_A-8':\n",
    "        'https://tfhub.dev/tensorflow/bert_en_uncased_preprocess/3',\n",
    "    'small_bert/bert_en_uncased_L-10_H-768_A-12':\n",
    "        'https://tfhub.dev/tensorflow/bert_en_uncased_preprocess/3',\n",
    "    'small_bert/bert_en_uncased_L-12_H-128_A-2':\n",
    "        'https://tfhub.dev/tensorflow/bert_en_uncased_preprocess/3',\n",
    "    'small_bert/bert_en_uncased_L-12_H-256_A-4':\n",
    "        'https://tfhub.dev/tensorflow/bert_en_uncased_preprocess/3',\n",
    "    'small_bert/bert_en_uncased_L-12_H-512_A-8':\n",
    "        'https://tfhub.dev/tensorflow/bert_en_uncased_preprocess/3',\n",
    "    'small_bert/bert_en_uncased_L-12_H-768_A-12':\n",
    "        'https://tfhub.dev/tensorflow/bert_en_uncased_preprocess/3',\n",
    "    'bert_multi_cased_L-12_H-768_A-12':\n",
    "        'https://tfhub.dev/tensorflow/bert_multi_cased_preprocess/3',\n",
    "    'albert_en_base':\n",
    "        'https://tfhub.dev/tensorflow/albert_en_preprocess/3',\n",
    "    'electra_small':\n",
    "        'https://tfhub.dev/tensorflow/bert_en_uncased_preprocess/3',\n",
    "    'electra_base':\n",
    "        'https://tfhub.dev/tensorflow/bert_en_uncased_preprocess/3',\n",
    "    'experts_pubmed':\n",
    "        'https://tfhub.dev/tensorflow/bert_en_uncased_preprocess/3',\n",
    "    'experts_wiki_books':\n",
    "        'https://tfhub.dev/tensorflow/bert_en_uncased_preprocess/3',\n",
    "    'talking-heads_base':\n",
    "        'https://tfhub.dev/tensorflow/bert_en_uncased_preprocess/3',\n",
    "}"
   ]
  },
  {
   "cell_type": "code",
   "execution_count": 16,
   "id": "8e2706b9",
   "metadata": {
    "execution": {
     "iopub.execute_input": "2023-08-22T06:03:56.161407Z",
     "iopub.status.busy": "2023-08-22T06:03:56.161023Z",
     "iopub.status.idle": "2023-08-22T06:03:56.166853Z",
     "shell.execute_reply": "2023-08-22T06:03:56.165765Z"
    },
    "papermill": {
     "duration": 0.025416,
     "end_time": "2023-08-22T06:03:56.169749",
     "exception": false,
     "start_time": "2023-08-22T06:03:56.144333",
     "status": "completed"
    },
    "tags": []
   },
   "outputs": [
    {
     "name": "stdout",
     "output_type": "stream",
     "text": [
      "https://tfhub.dev/tensorflow/bert_en_uncased_preprocess/3\n",
      "https://tfhub.dev/tensorflow/small_bert/bert_en_uncased_L-2_H-768_A-12/1\n"
     ]
    }
   ],
   "source": [
    "bert_model_name = 'small_bert/bert_en_uncased_L-2_H-768_A-12'\n",
    "\n",
    "print(map_model_to_preprocess[bert_model_name])\n",
    "print(map_name_to_handle[bert_model_name])"
   ]
  },
  {
   "cell_type": "markdown",
   "id": "743f49b8",
   "metadata": {
    "papermill": {
     "duration": 0.015021,
     "end_time": "2023-08-22T06:03:56.200067",
     "exception": false,
     "start_time": "2023-08-22T06:03:56.185046",
     "status": "completed"
    },
    "tags": []
   },
   "source": [
    "### Build Classification Model\n",
    "\n",
    "Using the **Keras Functional API**:\n",
    "\n",
    "The Keras preprocessing layers allow you to build Keras-native input processing pipelines, which can be used as independent preprocessing code in non-Keras workflows, combined directly with Keras models, and exported as part of a Keras SavedModel."
   ]
  },
  {
   "cell_type": "code",
   "execution_count": 17,
   "id": "a9a5a15a",
   "metadata": {
    "execution": {
     "iopub.execute_input": "2023-08-22T06:03:56.232608Z",
     "iopub.status.busy": "2023-08-22T06:03:56.232204Z",
     "iopub.status.idle": "2023-08-22T06:04:12.669072Z",
     "shell.execute_reply": "2023-08-22T06:04:12.668080Z"
    },
    "papermill": {
     "duration": 16.494619,
     "end_time": "2023-08-22T06:04:12.710056",
     "exception": false,
     "start_time": "2023-08-22T06:03:56.215437",
     "status": "completed"
    },
    "tags": []
   },
   "outputs": [
    {
     "name": "stdout",
     "output_type": "stream",
     "text": [
      "Model: \"model\"\n",
      "__________________________________________________________________________________________________\n",
      " Layer (type)                   Output Shape         Param #     Connected to                     \n",
      "==================================================================================================\n",
      " stems (InputLayer)             [(None, 1)]          0           []                               \n",
      "                                                                                                  \n",
      " text_clean (InputLayer)        [(None,)]            0           []                               \n",
      "                                                                                                  \n",
      " token_count (InputLayer)       [(None, 1)]          0           []                               \n",
      "                                                                                                  \n",
      " num_hashtags (InputLayer)      [(None, 1)]          0           []                               \n",
      "                                                                                                  \n",
      " string_lookup_1 (StringLookup)  (None, 1)           0           ['stems[0][0]']                  \n",
      "                                                                                                  \n",
      " preprocessing (KerasLayer)     {'input_mask': (Non  0           ['text_clean[0][0]']             \n",
      "                                e, 128),                                                          \n",
      "                                 'input_type_ids':                                                \n",
      "                                (None, 128),                                                      \n",
      "                                 'input_word_ids':                                                \n",
      "                                (None, 128)}                                                      \n",
      "                                                                                                  \n",
      " normalization_1 (Normalization  (None, 1)           3           ['token_count[0][0]']            \n",
      " )                                                                                                \n",
      "                                                                                                  \n",
      " normalization_2 (Normalization  (None, 1)           3           ['num_hashtags[0][0]']           \n",
      " )                                                                                                \n",
      "                                                                                                  \n",
      " category_encoding_1 (CategoryE  (None, 100)         0           ['string_lookup_1[0][0]']        \n",
      " ncoding)                                                                                         \n",
      "                                                                                                  \n",
      " BERT_encoder (KerasLayer)      {'sequence_output':  38603521    ['preprocessing[0][0]',          \n",
      "                                 (None, 128, 768),                'preprocessing[0][1]',          \n",
      "                                 'pooled_output': (               'preprocessing[0][2]']          \n",
      "                                None, 768),                                                       \n",
      "                                 'default': (None,                                                \n",
      "                                768),                                                             \n",
      "                                 'encoder_outputs':                                               \n",
      "                                 [(None, 128, 768),                                               \n",
      "                                 (None, 128, 768)]}                                               \n",
      "                                                                                                  \n",
      " concatenate (Concatenate)      (None, 870)          0           ['normalization_1[0][0]',        \n",
      "                                                                  'normalization_2[0][0]',        \n",
      "                                                                  'category_encoding_1[0][0]',    \n",
      "                                                                  'BERT_encoder[0][3]']           \n",
      "                                                                                                  \n",
      " dense (Dense)                  (None, 32)           27872       ['concatenate[0][0]']            \n",
      "                                                                                                  \n",
      " dropout (Dropout)              (None, 32)           0           ['dense[0][0]']                  \n",
      "                                                                                                  \n",
      " classifier (Dense)             (None, 1)            33          ['dropout[0][0]']                \n",
      "                                                                                                  \n",
      "==================================================================================================\n",
      "Total params: 38,631,432\n",
      "Trainable params: 38,631,425\n",
      "Non-trainable params: 7\n",
      "__________________________________________________________________________________________________\n"
     ]
    }
   ],
   "source": [
    "def build_classifier_model(bert_model_name, train=train_ds):\n",
    "    all_inputs = []\n",
    "    encoded_features = []\n",
    "\n",
    "    # Numerical features\n",
    "    for header in ['token_count', 'num_hashtags']:\n",
    "        numeric_col = tf.keras.Input(shape=(1,), name=header)\n",
    "        normalization_layer = get_normalization_layer(header, train)\n",
    "        encoded_numeric_col = normalization_layer(numeric_col)\n",
    "        all_inputs.append(numeric_col)\n",
    "        encoded_features.append(encoded_numeric_col)\n",
    "    \n",
    "    # Categorical features\n",
    "    for header in ['stems']:\n",
    "        categorical_col = tf.keras.Input(shape=(1,), name=header, dtype='string')\n",
    "        encoding_layer = get_category_encoding_layer(name=header,\n",
    "                                                     dataset=train,\n",
    "                                                     dtype='string',\n",
    "                                                     max_tokens=100)\n",
    "        encoded_categorical_col = encoding_layer(categorical_col)\n",
    "        all_inputs.append(categorical_col)\n",
    "        encoded_features.append(encoded_categorical_col)\n",
    "    \n",
    "    # BERT Text\n",
    "    text_col = tf.keras.layers.Input(shape=(), dtype=tf.string, name='text_clean')\n",
    "    bert_preprocess = hub.KerasLayer(map_model_to_preprocess[bert_model_name], name='preprocessing')\n",
    "    encoder_inputs = bert_preprocess(text_col)\n",
    "    \n",
    "    bert_encoder = hub.KerasLayer(map_name_to_handle[bert_model_name], trainable=True, name='BERT_encoder')\n",
    "    encoded_text_col = bert_encoder(encoder_inputs)\n",
    "    all_inputs.append(text_col)\n",
    "    encoded_features.append(encoded_text_col['pooled_output'])\n",
    "    \n",
    "    # Concat layers\n",
    "    all_features = tf.keras.layers.concatenate(encoded_features)\n",
    "    dense = tf.keras.layers.Dense(32, activation='relu', name='dense')(all_features)\n",
    "    dropout = tf.keras.layers.Dropout(0.5, name='dropout')(dense)\n",
    "    \n",
    "    # final output layer has N neurons that makes it: 1) N=1 multi-label 2) N>1 multi-class problem.\n",
    "    # \"Binary is 0 or 1. You only need one node to represent 0 or 1\"\n",
    "    # \"The number of nodes in your final layer should be equal to the number of classes you'd like to predict.\"\n",
    "    output = tf.keras.layers.Dense(1, activation='sigmoid', name='classifier')(dropout) # sigmoid: binary activation output\n",
    "    \n",
    "    model = tf.keras.Model(all_inputs, output)\n",
    "    \n",
    "    #Refer to the SO thread Changing Keras Model from Binary Classification to Multi-classification for more details.\n",
    "    # https://stackoverflow.com/questions/62903698/changing-keras-model-from-binary-classification-to-multi-classification\n",
    "    loss = tf.keras.losses.BinaryCrossentropy(from_logits=True)\n",
    "\n",
    "    metrics = [\n",
    "        tf.keras.metrics.BinaryAccuracy()\n",
    "    ]\n",
    "    \n",
    "    model.compile(optimizer='adam', loss=loss, metrics=metrics)\n",
    "    return model\n",
    "\n",
    "model = build_classifier_model(bert_model_name)\n",
    "model.summary()"
   ]
  },
  {
   "cell_type": "code",
   "execution_count": 18,
   "id": "e905514c",
   "metadata": {
    "execution": {
     "iopub.execute_input": "2023-08-22T06:04:12.750749Z",
     "iopub.status.busy": "2023-08-22T06:04:12.750348Z",
     "iopub.status.idle": "2023-08-22T06:04:13.079884Z",
     "shell.execute_reply": "2023-08-22T06:04:13.078956Z"
    },
    "papermill": {
     "duration": 0.352028,
     "end_time": "2023-08-22T06:04:13.082317",
     "exception": false,
     "start_time": "2023-08-22T06:04:12.730289",
     "status": "completed"
    },
    "tags": []
   },
   "outputs": [
    {
     "data": {
      "image/png": "[encoded data removed]",
      "text/plain": [
       "<IPython.core.display.Image object>"
      ]
     },
     "execution_count": 18,
     "metadata": {},
     "output_type": "execute_result"
    }
   ],
   "source": [
    "tf.keras.utils.plot_model(model, show_shapes=True) #, rankdir=\"LR\")"
   ]
  },
  {
   "cell_type": "markdown",
   "id": "d6dcc57d",
   "metadata": {
    "papermill": {
     "duration": 0.020771,
     "end_time": "2023-08-22T06:04:13.123867",
     "exception": false,
     "start_time": "2023-08-22T06:04:13.103096",
     "status": "completed"
    },
    "tags": []
   },
   "source": [
    "## Model Training"
   ]
  },
  {
   "cell_type": "code",
   "execution_count": 19,
   "id": "25345dc3",
   "metadata": {
    "execution": {
     "iopub.execute_input": "2023-08-22T06:04:13.168032Z",
     "iopub.status.busy": "2023-08-22T06:04:13.166830Z",
     "iopub.status.idle": "2023-08-22T06:04:13.214480Z",
     "shell.execute_reply": "2023-08-22T06:04:13.212261Z"
    },
    "papermill": {
     "duration": 0.072441,
     "end_time": "2023-08-22T06:04:13.217179",
     "exception": false,
     "start_time": "2023-08-22T06:04:13.144738",
     "status": "completed"
    },
    "tags": []
   },
   "outputs": [
    {
     "name": "stdout",
     "output_type": "stream",
     "text": [
      "6090 training examples\n",
      "761 validation examples\n",
      "762 test examples\n"
     ]
    }
   ],
   "source": [
    "#feature_cols = ['token_count', 'stems', 'text_clean']\n",
    "\n",
    "## Stratify important: Using SKLearn\n",
    "#X_train, X_test, y_train, y_test = train_test_split(sweep_data[feature_cols], sweep_data['target'], test_size=0.1, stratify=sweep_data['target'], random_state=1) # 0.9 train, 0.1 test\n",
    "#X_train, X_val, y_train, y_val = train_test_split(X_train, y_train, test_size=0.15, random_state=1) # 0.15 x 0.9 = 0.135 val\n",
    "\n",
    "#train_df = pd.concat([X_train, y_train], axis=1)\n",
    "#val_df = pd.concat([X_val, y_val], axis=1)\n",
    "#test_df = pd.concat([X_test, y_test], axis=1)\n",
    "\n",
    "# Tensorflow: For now, override the ValueError\n",
    "train_df, val_df, test_df = np.split(sweep_data.sample(frac=1), [int(0.8*len(sweep_data)), int(0.9*len(sweep_data))])\n",
    "\n",
    "batch_size = 256\n",
    "\n",
    "# ResourceExhaustedError: Graph execution error:\n",
    "# failed to allocate memory\n",
    "# \t [[{{node transformer/layer_1/activation/Gelu/Pow}}]]\n",
    "# batch_size = 512\n",
    "\n",
    "train_ds = df_to_dataset(train_df, batch_size=batch_size)\n",
    "val_ds = df_to_dataset(val_df, shuffle=False, batch_size=batch_size)\n",
    "test_ds = df_to_dataset(test_df, shuffle=False, batch_size=batch_size)\n",
    "\n",
    "print(len(train_df), 'training examples')\n",
    "print(len(val_df), 'validation examples')\n",
    "print(len(test_df), 'test examples')"
   ]
  },
  {
   "cell_type": "code",
   "execution_count": 20,
   "id": "88f2744f",
   "metadata": {
    "execution": {
     "iopub.execute_input": "2023-08-22T06:04:13.273030Z",
     "iopub.status.busy": "2023-08-22T06:04:13.268304Z",
     "iopub.status.idle": "2023-08-22T06:13:56.293595Z",
     "shell.execute_reply": "2023-08-22T06:13:56.292419Z"
    },
    "papermill": {
     "duration": 583.057058,
     "end_time": "2023-08-22T06:13:56.297119",
     "exception": false,
     "start_time": "2023-08-22T06:04:13.240061",
     "status": "completed"
    },
    "tags": []
   },
   "outputs": [
    {
     "name": "stdout",
     "output_type": "stream",
     "text": [
      "Epoch 1/100\n",
      "24/24 [==============================] - 100s 4s/step - loss: 0.6431 - binary_accuracy: 0.6475 - val_loss: 0.5356 - val_binary_accuracy: 0.7280\n",
      "Epoch 2/100\n",
      "24/24 [==============================] - 83s 3s/step - loss: 0.4603 - binary_accuracy: 0.8113 - val_loss: 0.5562 - val_binary_accuracy: 0.7819\n",
      "Epoch 3/100\n",
      "24/24 [==============================] - 84s 4s/step - loss: 0.2791 - binary_accuracy: 0.8934 - val_loss: 0.6047 - val_binary_accuracy: 0.7700\n",
      "Epoch 4/100\n",
      "24/24 [==============================] - 83s 3s/step - loss: 0.1678 - binary_accuracy: 0.9360 - val_loss: 0.7699 - val_binary_accuracy: 0.7503\n",
      "Epoch 5/100\n",
      "24/24 [==============================] - 86s 4s/step - loss: 0.1160 - binary_accuracy: 0.9642 - val_loss: 0.9439 - val_binary_accuracy: 0.7543\n",
      "Epoch 6/100\n",
      "24/24 [==============================] - 84s 4s/step - loss: 0.1004 - binary_accuracy: 0.9675 - val_loss: 1.1455 - val_binary_accuracy: 0.7635\n",
      "Epoch 6: early stopping\n"
     ]
    }
   ],
   "source": [
    "early_stopping = EarlyStopping(monitor='val_loss', mode='auto', verbose=1, patience=5)\n",
    "\n",
    "model = build_classifier_model(bert_model_name, train_ds)\n",
    "history = model.fit(train_ds, validation_data=val_ds, epochs=100, callbacks=[early_stopping])"
   ]
  },
  {
   "cell_type": "code",
   "execution_count": 21,
   "id": "48c40f91",
   "metadata": {
    "execution": {
     "iopub.execute_input": "2023-08-22T06:13:56.416916Z",
     "iopub.status.busy": "2023-08-22T06:13:56.416419Z",
     "iopub.status.idle": "2023-08-22T06:14:04.565670Z",
     "shell.execute_reply": "2023-08-22T06:14:04.563636Z"
    },
    "papermill": {
     "duration": 8.214939,
     "end_time": "2023-08-22T06:14:04.568575",
     "exception": false,
     "start_time": "2023-08-22T06:13:56.353636",
     "status": "completed"
    },
    "tags": []
   },
   "outputs": [
    {
     "name": "stdout",
     "output_type": "stream",
     "text": [
      "Accuracy: 0.765\n"
     ]
    }
   ],
   "source": [
    "loss, binary_acc = model.evaluate(test_ds, verbose=0)\n",
    "\n",
    "print('Accuracy: %.3f' % (binary_acc))"
   ]
  },
  {
   "cell_type": "code",
   "execution_count": 22,
   "id": "a7553bef",
   "metadata": {
    "execution": {
     "iopub.execute_input": "2023-08-22T06:14:04.636865Z",
     "iopub.status.busy": "2023-08-22T06:14:04.636456Z",
     "iopub.status.idle": "2023-08-22T06:14:54.348067Z",
     "shell.execute_reply": "2023-08-22T06:14:54.346949Z"
    },
    "papermill": {
     "duration": 49.781944,
     "end_time": "2023-08-22T06:14:54.384159",
     "exception": false,
     "start_time": "2023-08-22T06:14:04.602215",
     "status": "completed"
    },
    "tags": []
   },
   "outputs": [
    {
     "data": {
      "image/png": "[encoded data removed]",
      "text/plain": [
       "<Figure size 640x480 with 1 Axes>"
      ]
     },
     "metadata": {},
     "output_type": "display_data"
    }
   ],
   "source": [
    "pyplot.plot(history.history['loss'], label='train')\n",
    "pyplot.plot(history.history['val_loss'], label='val')\n",
    "pyplot.legend()\n",
    "pyplot.show()"
   ]
  },
  {
   "cell_type": "markdown",
   "id": "4082e48d",
   "metadata": {
    "papermill": {
     "duration": 0.033683,
     "end_time": "2023-08-22T06:14:54.451919",
     "exception": false,
     "start_time": "2023-08-22T06:14:54.418236",
     "status": "completed"
    },
    "tags": []
   },
   "source": [
    "## Classification Report\n",
    "\n",
    "A confusion matrix and classification report is a very statistically neat way to understand the performance of your model and take decisions accordingly, in case any improvement is required.\n",
    "\n",
    "**Note:** Evaluate the final model on the \"test\" split.Evaluate the final model on the \"test\" split."
   ]
  },
  {
   "cell_type": "code",
   "execution_count": 23,
   "id": "04aa9175",
   "metadata": {
    "execution": {
     "iopub.execute_input": "2023-08-22T06:14:54.523187Z",
     "iopub.status.busy": "2023-08-22T06:14:54.522782Z",
     "iopub.status.idle": "2023-08-22T06:15:04.312463Z",
     "shell.execute_reply": "2023-08-22T06:15:04.311368Z"
    },
    "papermill": {
     "duration": 9.82805,
     "end_time": "2023-08-22T06:15:04.314917",
     "exception": false,
     "start_time": "2023-08-22T06:14:54.486867",
     "status": "completed"
    },
    "tags": []
   },
   "outputs": [
    {
     "name": "stdout",
     "output_type": "stream",
     "text": [
      "3/3 [==============================] - 9s 3s/step\n"
     ]
    },
    {
     "data": {
      "image/png": "[encoded data removed]",
      "text/plain": [
       "<Figure size 800x600 with 2 Axes>"
      ]
     },
     "metadata": {},
     "output_type": "display_data"
    }
   ],
   "source": [
    "y_predicted = model.predict(test_ds)\n",
    "y_predicted = y_predicted.flatten()\n",
    "y_predicted = np.where(y_predicted > 0.5, 1, 0)\n",
    "\n",
    "y_test = tf.concat([y for x, y in test_ds], axis=0)\n",
    "\n",
    "matrix = confusion_matrix(y_predicted, y_test)\n",
    "\n",
    "def plot_confusion_matrix(confusion_matrix, labels):\n",
    "    plt.figure(figsize=(8, 6))\n",
    "    sns.heatmap(confusion_matrix, annot=True, cmap='Blues', fmt='d', xticklabels=labels, yticklabels=labels)\n",
    "    plt.xlabel('Predicted Labels')\n",
    "    plt.ylabel('True Labels')\n",
    "    plt.title('Confusion Matrix')\n",
    "    plt.show()\n",
    "    \n",
    "class_labels = ['Target 0', 'Target 1']\n",
    "plot_confusion_matrix(matrix, class_labels)"
   ]
  },
  {
   "cell_type": "code",
   "execution_count": 24,
   "id": "7ae07050",
   "metadata": {
    "execution": {
     "iopub.execute_input": "2023-08-22T06:15:04.390170Z",
     "iopub.status.busy": "2023-08-22T06:15:04.389733Z",
     "iopub.status.idle": "2023-08-22T06:15:04.406575Z",
     "shell.execute_reply": "2023-08-22T06:15:04.405246Z"
    },
    "papermill": {
     "duration": 0.057814,
     "end_time": "2023-08-22T06:15:04.409675",
     "exception": false,
     "start_time": "2023-08-22T06:15:04.351861",
     "status": "completed"
    },
    "tags": []
   },
   "outputs": [
    {
     "name": "stdout",
     "output_type": "stream",
     "text": [
      "              precision    recall  f1-score   support\n",
      "\n",
      "           0       0.80      0.79      0.80       447\n",
      "           1       0.71      0.72      0.72       315\n",
      "\n",
      "    accuracy                           0.77       762\n",
      "   macro avg       0.76      0.76      0.76       762\n",
      "weighted avg       0.77      0.77      0.77       762\n",
      "\n"
     ]
    }
   ],
   "source": [
    "print(classification_report(y_test, y_predicted))"
   ]
  },
  {
   "cell_type": "markdown",
   "id": "8a63cc19",
   "metadata": {
    "papermill": {
     "duration": 0.036336,
     "end_time": "2023-08-22T06:15:04.485216",
     "exception": false,
     "start_time": "2023-08-22T06:15:04.448880",
     "status": "completed"
    },
    "tags": []
   },
   "source": [
    "We used f1_score to validate our results, this is a competition requirement."
   ]
  },
  {
   "cell_type": "code",
   "execution_count": 25,
   "id": "2b5c127b",
   "metadata": {
    "execution": {
     "iopub.execute_input": "2023-08-22T06:15:04.560864Z",
     "iopub.status.busy": "2023-08-22T06:15:04.558564Z",
     "iopub.status.idle": "2023-08-22T06:15:04.574495Z",
     "shell.execute_reply": "2023-08-22T06:15:04.573013Z"
    },
    "papermill": {
     "duration": 0.055639,
     "end_time": "2023-08-22T06:15:04.577169",
     "exception": false,
     "start_time": "2023-08-22T06:15:04.521530",
     "status": "completed"
    },
    "tags": []
   },
   "outputs": [
    {
     "name": "stdout",
     "output_type": "stream",
     "text": [
      "ROC-AUC: 75.9%\n",
      "f1: 71.8%\n"
     ]
    }
   ],
   "source": [
    "auc_roc = roc_auc_score(y_test, y_predicted)\n",
    "f1 = f1_score(y_test, y_predicted)\n",
    "\n",
    "print(f'ROC-AUC: {auc_roc:.1%}')\n",
    "print(f'f1: {f1:.1%}')"
   ]
  },
  {
   "cell_type": "markdown",
   "id": "55a9ab95",
   "metadata": {
    "papermill": {
     "duration": 0.035185,
     "end_time": "2023-08-22T06:15:04.651271",
     "exception": false,
     "start_time": "2023-08-22T06:15:04.616086",
     "status": "completed"
    },
    "tags": []
   },
   "source": [
    "## Submission"
   ]
  },
  {
   "cell_type": "code",
   "execution_count": 26,
   "id": "76713276",
   "metadata": {
    "execution": {
     "iopub.execute_input": "2023-08-22T06:15:04.726202Z",
     "iopub.status.busy": "2023-08-22T06:15:04.725149Z",
     "iopub.status.idle": "2023-08-22T06:15:40.687021Z",
     "shell.execute_reply": "2023-08-22T06:15:40.685866Z"
    },
    "papermill": {
     "duration": 36.002553,
     "end_time": "2023-08-22T06:15:40.689542",
     "exception": false,
     "start_time": "2023-08-22T06:15:04.686989",
     "status": "completed"
    },
    "tags": []
   },
   "outputs": [
    {
     "name": "stdout",
     "output_type": "stream",
     "text": [
      "13/13 [==============================] - 35s 3s/step\n"
     ]
    },
    {
     "data": {
      "text/html": [
       "<div>\n",
       "<style scoped>\n",
       "    .dataframe tbody tr th:only-of-type {\n",
       "        vertical-align: middle;\n",
       "    }\n",
       "\n",
       "    .dataframe tbody tr th {\n",
       "        vertical-align: top;\n",
       "    }\n",
       "\n",
       "    .dataframe thead th {\n",
       "        text-align: right;\n",
       "    }\n",
       "</style>\n",
       "<table border=\"1\" class=\"dataframe\">\n",
       "  <thead>\n",
       "    <tr style=\"text-align: right;\">\n",
       "      <th></th>\n",
       "      <th>id</th>\n",
       "      <th>target</th>\n",
       "    </tr>\n",
       "  </thead>\n",
       "  <tbody>\n",
       "    <tr>\n",
       "      <th>0</th>\n",
       "      <td>0</td>\n",
       "      <td>0</td>\n",
       "    </tr>\n",
       "    <tr>\n",
       "      <th>1</th>\n",
       "      <td>2</td>\n",
       "      <td>1</td>\n",
       "    </tr>\n",
       "    <tr>\n",
       "      <th>2</th>\n",
       "      <td>3</td>\n",
       "      <td>1</td>\n",
       "    </tr>\n",
       "    <tr>\n",
       "      <th>3</th>\n",
       "      <td>9</td>\n",
       "      <td>1</td>\n",
       "    </tr>\n",
       "    <tr>\n",
       "      <th>4</th>\n",
       "      <td>11</td>\n",
       "      <td>1</td>\n",
       "    </tr>\n",
       "  </tbody>\n",
       "</table>\n",
       "</div>"
      ],
      "text/plain": [
       "   id  target\n",
       "0  0   0     \n",
       "1  2   1     \n",
       "2  3   1     \n",
       "3  9   1     \n",
       "4  11  1     "
      ]
     },
     "execution_count": 26,
     "metadata": {},
     "output_type": "execute_result"
    }
   ],
   "source": [
    "submission_data = pd.read_csv('/kaggle/input/nlp-getting-started/test.csv', index_col='id')\n",
    "\n",
    "sweep_submission = TweetSweeper(submission_data).tweets.copy()\n",
    "sweep_submission['target'] = 0 # pop 'target'\n",
    "sweep_submission['keyword'] = sweep_submission['keyword'].apply(str)\n",
    "sweep_submission['location'] = sweep_submission['location'].apply(str)\n",
    "# TODO: Failed to convert a NumPy array to a Tensor (Unsupported object type list).\n",
    "sweep_submission['hashtags'] = sweep_submission['hashtags'].apply(str)\n",
    "\n",
    "submission_ds = df_to_dataset(sweep_submission, shuffle=False, batch_size=batch_size)\n",
    "\n",
    "submission = model.predict(submission_ds)\n",
    "submission = submission.flatten()\n",
    "\n",
    "submission_predicted = np.where(submission > 0.5, 1, 0)\n",
    "submission_data['target'] = submission_predicted.tolist()\n",
    "submission_data.reset_index(inplace=True)\n",
    "\n",
    "submission_data = submission_data[['id', 'target']]\n",
    "submission_data.head()"
   ]
  },
  {
   "cell_type": "code",
   "execution_count": 27,
   "id": "3cf33441",
   "metadata": {
    "execution": {
     "iopub.execute_input": "2023-08-22T06:15:40.768924Z",
     "iopub.status.busy": "2023-08-22T06:15:40.767839Z",
     "iopub.status.idle": "2023-08-22T06:15:41.922805Z",
     "shell.execute_reply": "2023-08-22T06:15:41.921171Z"
    },
    "papermill": {
     "duration": 1.198387,
     "end_time": "2023-08-22T06:15:41.926050",
     "exception": false,
     "start_time": "2023-08-22T06:15:40.727663",
     "status": "completed"
    },
    "tags": []
   },
   "outputs": [
    {
     "name": "stdout",
     "output_type": "stream",
     "text": [
      "id,target\r\n",
      "0,0\r\n",
      "2,1\r\n",
      "3,1\r\n",
      "9,1\r\n"
     ]
    }
   ],
   "source": [
    "submission_data.to_csv('submission.csv', index= False)\n",
    "\n",
    "!head -5 submission.csv"
   ]
  }
 ],
 "metadata": {
  "kernelspec": {
   "display_name": "Python 3",
   "language": "python",
   "name": "python3"
  },
  "language_info": {
   "codemirror_mode": {
    "name": "ipython",
    "version": 3
   },
   "file_extension": ".py",
   "mimetype": "text/x-python",
   "name": "python",
   "nbconvert_exporter": "python",
   "pygments_lexer": "ipython3",
   "version": "3.10.12"
  },
  "papermill": {
   "default_parameters": {},
   "duration": 758.35159,
   "end_time": "2023-08-22T06:15:45.023083",
   "environment_variables": {},
   "exception": null,
   "input_path": "__notebook__.ipynb",
   "output_path": "__notebook__.ipynb",
   "parameters": {},
   "start_time": "2023-08-22T06:03:06.671493",
   "version": "2.4.0"
  }
 },
 "nbformat": 4,
 "nbformat_minor": 5
}
