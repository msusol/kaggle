{
 "cells": [
  {
   "cell_type": "markdown",
   "id": "e2550b63",
   "metadata": {
    "papermill": {
     "duration": 0.008153,
     "end_time": "2023-08-18T16:43:43.228245",
     "exception": false,
     "start_time": "2023-08-18T16:43:43.220092",
     "status": "completed"
    },
    "tags": []
   },
   "source": [
    "# Disaster Tweets\n",
    "\n",
    "Competition: [Natural Language Processing with Disaster Tweets](https://www.kaggle.com/competitions/nlp-getting-started)\n",
    "\n",
    "References:\n",
    "\n",
    "1. [Disaster Tweet Classification using BERT & Neural Network](https://www.analyticsvidhya.com/blog/2021/12/disaster-tweet-classification-using-bert-neural-network/) - Analytics Vidhya.\n",
    "2. [Handling imbalanced dataset in Machine Learning](https://www.youtube.com/watch?v=JnlM4yLFNuo) – YouTube.\n",
    "3. [What is the Difference Between Test and Validation Datasets?](https://machinelearningmastery.com/difference-test-validation-datasets/) - Machine Learning Mastery.\n",
    "4. [Natural Language Processing: Cleaning up Tweets](https://medium.com/codex/natural-language-processing-cleaning-up-tweets-2b71793e91b5) - Medium.\n",
    "5. [Use Early Stopping to Halt the Training of Neural Networks At the Right Time](https://machinelearningmastery.com/how-to-stop-training-deep-neural-networks-at-the-right-time-using-early-stopping/https://machinelearningmastery.com/how-to-stop-training-deep-neural-networks-at-the-right-time-using-early-stopping/) - Machine Learning Mastery.\n",
    "6. [How to split data into three sets (train, validation, and test) And why?How to split data into three sets (train, validation, and test) And why?](https://towardsdatascience.com/how-to-split-data-into-three-sets-train-validation-and-test-and-why-e50d22d3e54c) - Towards Data Science."
   ]
  },
  {
   "cell_type": "markdown",
   "id": "a956de06",
   "metadata": {
    "papermill": {
     "duration": 0.007294,
     "end_time": "2023-08-18T16:43:43.243235",
     "exception": false,
     "start_time": "2023-08-18T16:43:43.235941",
     "status": "completed"
    },
    "tags": []
   },
   "source": [
    "## Imports"
   ]
  },
  {
   "cell_type": "code",
   "execution_count": 1,
   "id": "b6c8e7ea",
   "metadata": {
    "execution": {
     "iopub.execute_input": "2023-08-18T16:43:43.260230Z",
     "iopub.status.busy": "2023-08-18T16:43:43.259489Z",
     "iopub.status.idle": "2023-08-18T16:43:51.045230Z",
     "shell.execute_reply": "2023-08-18T16:43:51.044223Z"
    },
    "papermill": {
     "duration": 7.797218,
     "end_time": "2023-08-18T16:43:51.047863",
     "exception": false,
     "start_time": "2023-08-18T16:43:43.250645",
     "status": "completed"
    },
    "tags": []
   },
   "outputs": [
    {
     "name": "stderr",
     "output_type": "stream",
     "text": [
      "/opt/conda/lib/python3.10/site-packages/scipy/__init__.py:146: UserWarning: A NumPy version >=1.16.5 and <1.23.0 is required for this version of SciPy (detected version 1.23.5\n",
      "  warnings.warn(f\"A NumPy version >={np_minversion} and <{np_maxversion}\"\n",
      "/opt/conda/lib/python3.10/site-packages/tensorflow_io/python/ops/__init__.py:98: UserWarning: unable to load libtensorflow_io_plugins.so: unable to open file: libtensorflow_io_plugins.so, from paths: ['/opt/conda/lib/python3.10/site-packages/tensorflow_io/python/ops/libtensorflow_io_plugins.so']\n",
      "caused by: ['/opt/conda/lib/python3.10/site-packages/tensorflow_io/python/ops/libtensorflow_io_plugins.so: undefined symbol: _ZN3tsl6StatusC1EN10tensorflow5error4CodeESt17basic_string_viewIcSt11char_traitsIcEENS_14SourceLocationE']\n",
      "  warnings.warn(f\"unable to load libtensorflow_io_plugins.so: {e}\")\n",
      "/opt/conda/lib/python3.10/site-packages/tensorflow_io/python/ops/__init__.py:104: UserWarning: file system plugins are not loaded: unable to open file: libtensorflow_io.so, from paths: ['/opt/conda/lib/python3.10/site-packages/tensorflow_io/python/ops/libtensorflow_io.so']\n",
      "caused by: ['/opt/conda/lib/python3.10/site-packages/tensorflow_io/python/ops/libtensorflow_io.so: undefined symbol: _ZTVN10tensorflow13GcsFileSystemE']\n",
      "  warnings.warn(f\"file system plugins are not loaded: {e}\")\n"
     ]
    }
   ],
   "source": [
    "import numpy as np\n",
    "import pandas as pd\n",
    "import warnings\n",
    "\n",
    "import tensorflow as tf\n",
    "import tensorflow_hub as hub\n",
    "import tensorflow_text as text\n",
    "\n",
    "from matplotlib import pyplot\n",
    "from keras.callbacks import EarlyStopping\n",
    "from sklearn.metrics import confusion_matrix, classification_report, f1_score, roc_auc_score\n",
    "from sklearn.model_selection import train_test_split\n",
    "\n",
    "warnings.filterwarnings('ignore')\n",
    "pd.options.display.max_colwidth = 0"
   ]
  },
  {
   "cell_type": "markdown",
   "id": "0d596f54",
   "metadata": {
    "papermill": {
     "duration": 0.007538,
     "end_time": "2023-08-18T16:43:51.063800",
     "exception": false,
     "start_time": "2023-08-18T16:43:51.056262",
     "status": "completed"
    },
    "tags": []
   },
   "source": [
    "## Data Prep"
   ]
  },
  {
   "cell_type": "markdown",
   "id": "566f1ff3",
   "metadata": {
    "papermill": {
     "duration": 0.007395,
     "end_time": "2023-08-18T16:43:51.078576",
     "exception": false,
     "start_time": "2023-08-18T16:43:51.071181",
     "status": "completed"
    },
    "tags": []
   },
   "source": [
    "- /kaggle/input/nlp-getting-started/sample_submission.csv\n",
    "- /kaggle/input/nlp-getting-started/train.csv\n",
    "- /kaggle/input/nlp-getting-started/test.csv"
   ]
  },
  {
   "cell_type": "code",
   "execution_count": 2,
   "id": "d34dc28b",
   "metadata": {
    "execution": {
     "iopub.execute_input": "2023-08-18T16:43:51.096856Z",
     "iopub.status.busy": "2023-08-18T16:43:51.094939Z",
     "iopub.status.idle": "2023-08-18T16:43:51.165259Z",
     "shell.execute_reply": "2023-08-18T16:43:51.164283Z"
    },
    "papermill": {
     "duration": 0.081589,
     "end_time": "2023-08-18T16:43:51.167529",
     "exception": false,
     "start_time": "2023-08-18T16:43:51.085940",
     "status": "completed"
    },
    "tags": []
   },
   "outputs": [
    {
     "data": {
      "text/html": [
       "<div>\n",
       "<style scoped>\n",
       "    .dataframe tbody tr th:only-of-type {\n",
       "        vertical-align: middle;\n",
       "    }\n",
       "\n",
       "    .dataframe tbody tr th {\n",
       "        vertical-align: top;\n",
       "    }\n",
       "\n",
       "    .dataframe thead th {\n",
       "        text-align: right;\n",
       "    }\n",
       "</style>\n",
       "<table border=\"1\" class=\"dataframe\">\n",
       "  <thead>\n",
       "    <tr style=\"text-align: right;\">\n",
       "      <th></th>\n",
       "      <th>id</th>\n",
       "      <th>keyword</th>\n",
       "      <th>location</th>\n",
       "      <th>text</th>\n",
       "      <th>target</th>\n",
       "    </tr>\n",
       "  </thead>\n",
       "  <tbody>\n",
       "    <tr>\n",
       "      <th>1461</th>\n",
       "      <td>2109</td>\n",
       "      <td>catastrophe</td>\n",
       "      <td>NaN</td>\n",
       "      <td>.@robdelaney  Catastrophe is anything but! I literally have been unable to stop ejaculating.</td>\n",
       "      <td>1</td>\n",
       "    </tr>\n",
       "    <tr>\n",
       "      <th>1837</th>\n",
       "      <td>2642</td>\n",
       "      <td>crashed</td>\n",
       "      <td>too far</td>\n",
       "      <td>He was only .4 of a second faster than me and I overtook him twice (then crashed) tru luv &amp;lt;3 &amp;lt;3</td>\n",
       "      <td>0</td>\n",
       "    </tr>\n",
       "    <tr>\n",
       "      <th>6144</th>\n",
       "      <td>8763</td>\n",
       "      <td>siren</td>\n",
       "      <td>NaN</td>\n",
       "      <td>Internet firms to be subject to new cybersecurity rules in EU... http://t.co/lafTJ2GyLY</td>\n",
       "      <td>0</td>\n",
       "    </tr>\n",
       "    <tr>\n",
       "      <th>2354</th>\n",
       "      <td>3389</td>\n",
       "      <td>demolition</td>\n",
       "      <td>ÌÏT: 36.142163,-95.979189</td>\n",
       "      <td>@samajp32 really needs to tone it down some in the weight room. RT @SoonerSportsTV: Demolition (cont) http://t.co/2o7Eva1cOe</td>\n",
       "      <td>0</td>\n",
       "    </tr>\n",
       "    <tr>\n",
       "      <th>4765</th>\n",
       "      <td>6781</td>\n",
       "      <td>lightning</td>\n",
       "      <td>Elchilicitanierraversal</td>\n",
       "      <td>#NowPlaying 'The Lightning Strike' de Snow Patrol de A Hundred Million Suns ? http://t.co/GrzcHkDF37</td>\n",
       "      <td>0</td>\n",
       "    </tr>\n",
       "    <tr>\n",
       "      <th>6882</th>\n",
       "      <td>9866</td>\n",
       "      <td>traumatised</td>\n",
       "      <td>cork</td>\n",
       "      <td>@AnnmarieRonan @niamhosullivanx I can't watch tat show its like a horror movie to me I get flashbacks an everything #traumatised</td>\n",
       "      <td>0</td>\n",
       "    </tr>\n",
       "    <tr>\n",
       "      <th>3566</th>\n",
       "      <td>5097</td>\n",
       "      <td>famine</td>\n",
       "      <td>NaN</td>\n",
       "      <td>when things become terrible more than the great Ethiopian famine...</td>\n",
       "      <td>0</td>\n",
       "    </tr>\n",
       "    <tr>\n",
       "      <th>1847</th>\n",
       "      <td>2657</td>\n",
       "      <td>crush</td>\n",
       "      <td>NaN</td>\n",
       "      <td>'@jorrynja: 6. @ your bf/gf/crush ??' @Ter_ell ??</td>\n",
       "      <td>1</td>\n",
       "    </tr>\n",
       "    <tr>\n",
       "      <th>4961</th>\n",
       "      <td>7071</td>\n",
       "      <td>meltdown</td>\n",
       "      <td>Colorado, USA</td>\n",
       "      <td>@nprfreshair I really can't believe he is skipping out before the Republican meltdown...I mean 'debate'.</td>\n",
       "      <td>0</td>\n",
       "    </tr>\n",
       "    <tr>\n",
       "      <th>7021</th>\n",
       "      <td>10064</td>\n",
       "      <td>typhoon</td>\n",
       "      <td>Ibadan,Oyo state</td>\n",
       "      <td>Obama Declares Disaster for Typhoon-Devastated Saipan: Obama signs disaster declaration for Northern Marians a... http://t.co/UsVyHdG9OG</td>\n",
       "      <td>1</td>\n",
       "    </tr>\n",
       "  </tbody>\n",
       "</table>\n",
       "</div>"
      ],
      "text/plain": [
       "         id      keyword                   location  \\\n",
       "1461  2109   catastrophe  NaN                         \n",
       "1837  2642   crashed      too far                     \n",
       "6144  8763   siren        NaN                         \n",
       "2354  3389   demolition   ÌÏT: 36.142163,-95.979189   \n",
       "4765  6781   lightning    Elchilicitanierraversal     \n",
       "6882  9866   traumatised  cork                        \n",
       "3566  5097   famine       NaN                         \n",
       "1847  2657   crush        NaN                         \n",
       "4961  7071   meltdown     Colorado, USA               \n",
       "7021  10064  typhoon      Ibadan,Oyo state            \n",
       "\n",
       "                                                                                                                                          text  \\\n",
       "1461  .@robdelaney  Catastrophe is anything but! I literally have been unable to stop ejaculating.                                               \n",
       "1837  He was only .4 of a second faster than me and I overtook him twice (then crashed) tru luv &lt;3 &lt;3                                      \n",
       "6144  Internet firms to be subject to new cybersecurity rules in EU... http://t.co/lafTJ2GyLY                                                    \n",
       "2354  @samajp32 really needs to tone it down some in the weight room. RT @SoonerSportsTV: Demolition (cont) http://t.co/2o7Eva1cOe               \n",
       "4765  #NowPlaying 'The Lightning Strike' de Snow Patrol de A Hundred Million Suns ? http://t.co/GrzcHkDF37                                       \n",
       "6882  @AnnmarieRonan @niamhosullivanx I can't watch tat show its like a horror movie to me I get flashbacks an everything #traumatised           \n",
       "3566  when things become terrible more than the great Ethiopian famine...                                                                        \n",
       "1847  '@jorrynja: 6. @ your bf/gf/crush ??' @Ter_ell ??                                                                                          \n",
       "4961  @nprfreshair I really can't believe he is skipping out before the Republican meltdown...I mean 'debate'.                                   \n",
       "7021  Obama Declares Disaster for Typhoon-Devastated Saipan: Obama signs disaster declaration for Northern Marians a... http://t.co/UsVyHdG9OG   \n",
       "\n",
       "      target  \n",
       "1461  1       \n",
       "1837  0       \n",
       "6144  0       \n",
       "2354  0       \n",
       "4765  0       \n",
       "6882  0       \n",
       "3566  0       \n",
       "1847  1       \n",
       "4961  0       \n",
       "7021  1       "
      ]
     },
     "execution_count": 2,
     "metadata": {},
     "output_type": "execute_result"
    }
   ],
   "source": [
    "train_data = pd.read_csv('/kaggle/input/nlp-getting-started/train.csv')\n",
    "\n",
    "train_data.sample(n=10, random_state=23)"
   ]
  },
  {
   "cell_type": "code",
   "execution_count": 3,
   "id": "757e4385",
   "metadata": {
    "execution": {
     "iopub.execute_input": "2023-08-18T16:43:51.184727Z",
     "iopub.status.busy": "2023-08-18T16:43:51.184448Z",
     "iopub.status.idle": "2023-08-18T16:43:51.191542Z",
     "shell.execute_reply": "2023-08-18T16:43:51.190624Z"
    },
    "papermill": {
     "duration": 0.018174,
     "end_time": "2023-08-18T16:43:51.193680",
     "exception": false,
     "start_time": "2023-08-18T16:43:51.175506",
     "status": "completed"
    },
    "tags": []
   },
   "outputs": [
    {
     "data": {
      "text/plain": [
       "'Obama Declares Disaster for Typhoon-Devastated Saipan: Obama signs disaster declaration for Northern Marians a... http://t.co/UsVyHdG9OG'"
      ]
     },
     "execution_count": 3,
     "metadata": {},
     "output_type": "execute_result"
    }
   ],
   "source": [
    "sample_sentence = train_data.iloc[[7021]].text.to_string(header=False, index=False)\n",
    "sample_sentence"
   ]
  },
  {
   "cell_type": "code",
   "execution_count": 4,
   "id": "8e3d588a",
   "metadata": {
    "execution": {
     "iopub.execute_input": "2023-08-18T16:43:51.211352Z",
     "iopub.status.busy": "2023-08-18T16:43:51.210475Z",
     "iopub.status.idle": "2023-08-18T16:43:51.222612Z",
     "shell.execute_reply": "2023-08-18T16:43:51.221537Z"
    },
    "papermill": {
     "duration": 0.022918,
     "end_time": "2023-08-18T16:43:51.224613",
     "exception": false,
     "start_time": "2023-08-18T16:43:51.201695",
     "status": "completed"
    },
    "tags": []
   },
   "outputs": [
    {
     "data": {
      "text/plain": [
       "0    4342\n",
       "1    3271\n",
       "Name: target, dtype: int64"
      ]
     },
     "execution_count": 4,
     "metadata": {},
     "output_type": "execute_result"
    }
   ],
   "source": [
    "#df = train_data.drop(['id','keyword','location'],axis=1)\n",
    "df = train_data.drop(['id'],axis=1)\n",
    "df.sample(10, random_state=23)\n",
    "\n",
    "# Is the dataset is balanced: count of both class labels (0 and 1):\n",
    "\n",
    "df['target'].value_counts()"
   ]
  },
  {
   "cell_type": "markdown",
   "id": "021e857f",
   "metadata": {
    "papermill": {
     "duration": 0.00856,
     "end_time": "2023-08-18T16:43:51.241818",
     "exception": false,
     "start_time": "2023-08-18T16:43:51.233258",
     "status": "completed"
    },
    "tags": []
   },
   "source": [
    "### Optional undersampling step"
   ]
  },
  {
   "cell_type": "code",
   "execution_count": 5,
   "id": "6762df8e",
   "metadata": {
    "execution": {
     "iopub.execute_input": "2023-08-18T16:43:51.259697Z",
     "iopub.status.busy": "2023-08-18T16:43:51.258910Z",
     "iopub.status.idle": "2023-08-18T16:43:51.264294Z",
     "shell.execute_reply": "2023-08-18T16:43:51.263421Z"
    },
    "papermill": {
     "duration": 0.016352,
     "end_time": "2023-08-18T16:43:51.266313",
     "exception": false,
     "start_time": "2023-08-18T16:43:51.249961",
     "status": "completed"
    },
    "tags": []
   },
   "outputs": [],
   "source": [
    "if False:\n",
    "    df_0_class = df[df['target']==0]\n",
    "    df_1_class = df[df['target']==1]\n",
    "    df_0_class_undersampled = df_0_class.sample(df_1_class.shape[0])\n",
    "    df = pd.concat([df_0_class_undersampled, df_1_class], axis=0)\n",
    "\n",
    "    df['target'].value_counts()"
   ]
  },
  {
   "cell_type": "markdown",
   "id": "37b98994",
   "metadata": {
    "papermill": {
     "duration": 0.008082,
     "end_time": "2023-08-18T16:43:51.282335",
     "exception": false,
     "start_time": "2023-08-18T16:43:51.274253",
     "status": "completed"
    },
    "tags": []
   },
   "source": [
    "### Process Tweets"
   ]
  },
  {
   "cell_type": "code",
   "execution_count": 6,
   "id": "28e6f5ef",
   "metadata": {
    "execution": {
     "iopub.execute_input": "2023-08-18T16:43:51.300023Z",
     "iopub.status.busy": "2023-08-18T16:43:51.299756Z",
     "iopub.status.idle": "2023-08-18T16:44:05.593252Z",
     "shell.execute_reply": "2023-08-18T16:44:05.592251Z"
    },
    "papermill": {
     "duration": 14.305358,
     "end_time": "2023-08-18T16:44:05.595774",
     "exception": false,
     "start_time": "2023-08-18T16:43:51.290416",
     "status": "completed"
    },
    "tags": []
   },
   "outputs": [
    {
     "name": "stdout",
     "output_type": "stream",
     "text": [
      "Collecting contractions\r\n",
      "  Downloading contractions-0.1.73-py2.py3-none-any.whl (8.7 kB)\r\n",
      "Collecting textsearch>=0.0.21 (from contractions)\r\n",
      "  Downloading textsearch-0.0.24-py2.py3-none-any.whl (7.6 kB)\r\n",
      "Collecting anyascii (from textsearch>=0.0.21->contractions)\r\n",
      "  Downloading anyascii-0.3.2-py3-none-any.whl (289 kB)\r\n",
      "\u001b[2K     \u001b[90m━━━━━━━━━━━━━━━━━━━━━━━━━━━━━━━━━━━━━━\u001b[0m \u001b[32m289.9/289.9 kB\u001b[0m \u001b[31m15.1 MB/s\u001b[0m eta \u001b[36m0:00:00\u001b[0m\r\n",
      "\u001b[?25hCollecting pyahocorasick (from textsearch>=0.0.21->contractions)\r\n",
      "  Downloading pyahocorasick-2.0.0-cp310-cp310-manylinux_2_5_x86_64.manylinux1_x86_64.manylinux_2_12_x86_64.manylinux2010_x86_64.whl (110 kB)\r\n",
      "\u001b[2K     \u001b[90m━━━━━━━━━━━━━━━━━━━━━━━━━━━━━━━━━━━━━━\u001b[0m \u001b[32m110.8/110.8 kB\u001b[0m \u001b[31m12.4 MB/s\u001b[0m eta \u001b[36m0:00:00\u001b[0m\r\n",
      "\u001b[?25hInstalling collected packages: pyahocorasick, anyascii, textsearch, contractions\r\n",
      "Successfully installed anyascii-0.3.2 contractions-0.1.73 pyahocorasick-2.0.0 textsearch-0.0.24\r\n"
     ]
    },
    {
     "data": {
      "text/html": [
       "<div>\n",
       "<style scoped>\n",
       "    .dataframe tbody tr th:only-of-type {\n",
       "        vertical-align: middle;\n",
       "    }\n",
       "\n",
       "    .dataframe tbody tr th {\n",
       "        vertical-align: top;\n",
       "    }\n",
       "\n",
       "    .dataframe thead th {\n",
       "        text-align: right;\n",
       "    }\n",
       "</style>\n",
       "<table border=\"1\" class=\"dataframe\">\n",
       "  <thead>\n",
       "    <tr style=\"text-align: right;\">\n",
       "      <th></th>\n",
       "      <th>id</th>\n",
       "      <th>keyword</th>\n",
       "      <th>location</th>\n",
       "      <th>text</th>\n",
       "      <th>target</th>\n",
       "      <th>hashtags</th>\n",
       "      <th>stems</th>\n",
       "      <th>emojis</th>\n",
       "      <th>num_hashtags</th>\n",
       "    </tr>\n",
       "  </thead>\n",
       "  <tbody>\n",
       "    <tr>\n",
       "      <th>1461</th>\n",
       "      <td>2109</td>\n",
       "      <td>catastrophe</td>\n",
       "      <td>nan</td>\n",
       "      <td>.@robdelaney  Catastrophe is anything but! I literally have been unable to stop ejaculating.</td>\n",
       "      <td>1</td>\n",
       "      <td>[]</td>\n",
       "      <td>catastroph</td>\n",
       "      <td>0</td>\n",
       "      <td>0</td>\n",
       "    </tr>\n",
       "    <tr>\n",
       "      <th>1837</th>\n",
       "      <td>2642</td>\n",
       "      <td>crashed</td>\n",
       "      <td>too far</td>\n",
       "      <td>He was only .4 of a second faster than me and I overtook him twice (then crashed) tru love &amp;lt;3 &amp;lt;3</td>\n",
       "      <td>0</td>\n",
       "      <td>[]</td>\n",
       "      <td>crash</td>\n",
       "      <td>0</td>\n",
       "      <td>0</td>\n",
       "    </tr>\n",
       "    <tr>\n",
       "      <th>6144</th>\n",
       "      <td>8763</td>\n",
       "      <td>siren</td>\n",
       "      <td>nan</td>\n",
       "      <td>Internet firms to be subject to new cybersecurity rules in EU... http://t.co/lafTJ2GyLY</td>\n",
       "      <td>0</td>\n",
       "      <td>[]</td>\n",
       "      <td>siren</td>\n",
       "      <td>0</td>\n",
       "      <td>0</td>\n",
       "    </tr>\n",
       "    <tr>\n",
       "      <th>2354</th>\n",
       "      <td>3389</td>\n",
       "      <td>demolition</td>\n",
       "      <td>IIT</td>\n",
       "      <td>@samajp32 really needs to tone it down some in the weight room. RT @SoonerSportsTV: Demolition (cont) http://t.co/2o7Eva1cOe</td>\n",
       "      <td>0</td>\n",
       "      <td>[]</td>\n",
       "      <td>demolit</td>\n",
       "      <td>0</td>\n",
       "      <td>0</td>\n",
       "    </tr>\n",
       "    <tr>\n",
       "      <th>4765</th>\n",
       "      <td>6781</td>\n",
       "      <td>lightning</td>\n",
       "      <td>Elchilicitanierraversal</td>\n",
       "      <td>#NowPlaying 'The Lightning Strike' de Snow Patrol de A Hundred Million Suns ? http://t.co/GrzcHkDF37</td>\n",
       "      <td>0</td>\n",
       "      <td>[#NowPlaying]</td>\n",
       "      <td>lightn</td>\n",
       "      <td>0</td>\n",
       "      <td>1</td>\n",
       "    </tr>\n",
       "    <tr>\n",
       "      <th>6882</th>\n",
       "      <td>9866</td>\n",
       "      <td>traumatised</td>\n",
       "      <td>cork</td>\n",
       "      <td>@AnnmarieRonan @niamhosullivanx I cannot watch tat show its like a horror movie to me I get flashbacks an everything #traumatised</td>\n",
       "      <td>0</td>\n",
       "      <td>[#traumatised]</td>\n",
       "      <td>traumatis</td>\n",
       "      <td>0</td>\n",
       "      <td>1</td>\n",
       "    </tr>\n",
       "    <tr>\n",
       "      <th>3566</th>\n",
       "      <td>5097</td>\n",
       "      <td>famine</td>\n",
       "      <td>nan</td>\n",
       "      <td>when things become terrible more than the great Ethiopian famine...</td>\n",
       "      <td>0</td>\n",
       "      <td>[]</td>\n",
       "      <td>famin</td>\n",
       "      <td>0</td>\n",
       "      <td>0</td>\n",
       "    </tr>\n",
       "    <tr>\n",
       "      <th>1847</th>\n",
       "      <td>2657</td>\n",
       "      <td>crush</td>\n",
       "      <td>nan</td>\n",
       "      <td>'@jorrynja: 6. @ your bf/gf/crush ??' @Ter_ell ??</td>\n",
       "      <td>1</td>\n",
       "      <td>[]</td>\n",
       "      <td>crush</td>\n",
       "      <td>0</td>\n",
       "      <td>0</td>\n",
       "    </tr>\n",
       "    <tr>\n",
       "      <th>4961</th>\n",
       "      <td>7071</td>\n",
       "      <td>meltdown</td>\n",
       "      <td>Colorado USA</td>\n",
       "      <td>@nprfreshair I really cannot believe he is skipping out before the Republican meltdown...I mean 'debate'.</td>\n",
       "      <td>0</td>\n",
       "      <td>[]</td>\n",
       "      <td>meltdown</td>\n",
       "      <td>0</td>\n",
       "      <td>0</td>\n",
       "    </tr>\n",
       "    <tr>\n",
       "      <th>7021</th>\n",
       "      <td>10064</td>\n",
       "      <td>typhoon</td>\n",
       "      <td>Ibadan Oyo state</td>\n",
       "      <td>Obama Declares Disaster for Typhoon-Devastated Saipan: Obama signs disaster declaration for Northern Marians a... http://t.co/UsVyHdG9OG</td>\n",
       "      <td>1</td>\n",
       "      <td>[]</td>\n",
       "      <td>typhoon</td>\n",
       "      <td>0</td>\n",
       "      <td>0</td>\n",
       "    </tr>\n",
       "  </tbody>\n",
       "</table>\n",
       "</div>"
      ],
      "text/plain": [
       "         id      keyword                 location  \\\n",
       "1461  2109   catastrophe  nan                       \n",
       "1837  2642   crashed      too far                   \n",
       "6144  8763   siren        nan                       \n",
       "2354  3389   demolition   IIT                       \n",
       "4765  6781   lightning    Elchilicitanierraversal   \n",
       "6882  9866   traumatised  cork                      \n",
       "3566  5097   famine       nan                       \n",
       "1847  2657   crush        nan                       \n",
       "4961  7071   meltdown     Colorado USA              \n",
       "7021  10064  typhoon      Ibadan Oyo state          \n",
       "\n",
       "                                                                                                                                          text  \\\n",
       "1461  .@robdelaney  Catastrophe is anything but! I literally have been unable to stop ejaculating.                                               \n",
       "1837  He was only .4 of a second faster than me and I overtook him twice (then crashed) tru love &lt;3 &lt;3                                     \n",
       "6144  Internet firms to be subject to new cybersecurity rules in EU... http://t.co/lafTJ2GyLY                                                    \n",
       "2354  @samajp32 really needs to tone it down some in the weight room. RT @SoonerSportsTV: Demolition (cont) http://t.co/2o7Eva1cOe               \n",
       "4765  #NowPlaying 'The Lightning Strike' de Snow Patrol de A Hundred Million Suns ? http://t.co/GrzcHkDF37                                       \n",
       "6882  @AnnmarieRonan @niamhosullivanx I cannot watch tat show its like a horror movie to me I get flashbacks an everything #traumatised          \n",
       "3566  when things become terrible more than the great Ethiopian famine...                                                                        \n",
       "1847  '@jorrynja: 6. @ your bf/gf/crush ??' @Ter_ell ??                                                                                          \n",
       "4961  @nprfreshair I really cannot believe he is skipping out before the Republican meltdown...I mean 'debate'.                                  \n",
       "7021  Obama Declares Disaster for Typhoon-Devastated Saipan: Obama signs disaster declaration for Northern Marians a... http://t.co/UsVyHdG9OG   \n",
       "\n",
       "      target        hashtags       stems  emojis  num_hashtags  \n",
       "1461  1       []              catastroph  0       0             \n",
       "1837  0       []              crash       0       0             \n",
       "6144  0       []              siren       0       0             \n",
       "2354  0       []              demolit     0       0             \n",
       "4765  0       [#NowPlaying]   lightn      0       1             \n",
       "6882  0       [#traumatised]  traumatis   0       1             \n",
       "3566  0       []              famin       0       0             \n",
       "1847  1       []              crush       0       0             \n",
       "4961  0       []              meltdown    0       0             \n",
       "7021  1       []              typhoon     0       0             "
      ]
     },
     "execution_count": 6,
     "metadata": {},
     "output_type": "execute_result"
    }
   ],
   "source": [
    "!pip install contractions\n",
    "\n",
    "import contractions, emoji, re, unidecode\n",
    "\n",
    "from nltk.stem import PorterStemmer\n",
    "\n",
    "class TweetSweeper:\n",
    "    def __init__(self, tweets):\n",
    "        self.tweets = tweets\n",
    "        self.stemmer = PorterStemmer()\n",
    "        self.tweets['text'] = self.tweets['text'].apply(lambda x: contractions.fix(x))\n",
    "        self.tweets['text'] = self.tweets['text'].apply(lambda x: self.demojize(x))\n",
    "        self.tweets['hashtags'] = self.tweets['text'].apply(lambda x: [x for x in x.split(\" \") if x.startswith(\"#\")])\n",
    "        # Keyword\n",
    "        self.tweets['keyword'] = self.tweets['keyword'].apply(str)\n",
    "        self.tweets['keyword'] = self.tweets['keyword'].apply(lambda x: self.clean_keywords(x))\n",
    "        self.tweets['keyword'] = self.tweets['keyword'].apply(lambda x: self.remove_accents(x))\n",
    "        self.tweets['keyword'] = self.tweets['keyword'].apply(lambda x: self.remove_punctuation(x))\n",
    "        self.tweets['stems'] = self.tweets['keyword'].apply(lambda x: self.stemmer.stem(x))\n",
    "        # Location\n",
    "        self.tweets['location'] = self.tweets['location'].apply(str)\n",
    "        self.tweets['location'] = self.tweets['location'].apply(lambda x: self.remove_accents(x))\n",
    "        self.tweets['location'] = self.tweets['location'].apply(lambda x: self.remove_punctuation(x))\n",
    "        self.tweets['location'] = self.tweets['location'].apply(lambda x: self.remove_extra_w_space(x))\n",
    "        self.tweets['location'] = self.tweets['location'].apply(lambda x: self.remove_nums(x))\n",
    "        \n",
    "        # Counts\n",
    "        self.tweets['emojis'] = self.tweets['text'].apply(self.emoji_count)\n",
    "        self.tweets['num_hashtags'] = self.tweets['text'].apply(self.hash_count)\n",
    "        \n",
    "    def demojize(self, tweet):\n",
    "        emojis = re.compile(\"[\"\n",
    "            u\"\\U0001F600-\\U0001F64F\"  # emoticons\n",
    "            u\"\\U0001F300-\\U0001F5FF\"  # symbols & pictographs\n",
    "            u\"\\U0001F680-\\U0001F6FF\"  # transport & map symbols\n",
    "            u\"\\U0001F1E0-\\U0001F1FF\"  # flags (iOS)\n",
    "            u\"\\U00002702-\\U000027B0\"\n",
    "            u\"\\U000024C2-\\U0001F251\"\n",
    "            \"]+\", flags = re.UNICODE)\n",
    "        cleaned_text = emojis.sub(r'', tweet)\n",
    "        return cleaned_text\n",
    "    \n",
    "    def emoji_count(self, tweet):\n",
    "        tweet = emoji.demojize(tweet, delimiters=('__','__'))\n",
    "        pattern = r'_+[a-z_&]+_+'\n",
    "        return len(re.findall(pattern, tweet))\n",
    "    \n",
    "    def hash_count(self, string):\n",
    "        words = string.split()\n",
    "        hashtags = [word for word in words if word.startswith('#')]\n",
    "        return len(hashtags)\n",
    "    \n",
    "    def clean_keywords(self, keyword):\n",
    "        cleaned = re.sub(r'%20', ' ', keyword)\n",
    "        return cleaned\n",
    "    \n",
    "    def remove_accents(self, keyword):\n",
    "        cleaned = unidecode.unidecode(keyword)\n",
    "        return cleaned\n",
    "    \n",
    "    def remove_punctuation(self, keyword):\n",
    "        cleaned = re.sub(r\"[!\\\"#$%&()*+-./:;<=>?@[\\]^_`{|}~\\n -' ]\",\" \",keyword)\n",
    "        return cleaned\n",
    "    \n",
    "    def remove_nums(self, location):\n",
    "        cleaned = re.sub(r'\\d+', '', location)\n",
    "        return cleaned\n",
    "\n",
    "    def remove_extra_w_space(self, location):\n",
    "        cleaned_text = re.sub(r\"\\s+\",\" \", location).strip()\n",
    "        return cleaned_text\n",
    "\n",
    "tweets = train_data.sample(n=10, random_state=23)\n",
    "test = TweetSweeper(tweets)\n",
    "test.tweets"
   ]
  },
  {
   "cell_type": "markdown",
   "id": "d9673994",
   "metadata": {
    "papermill": {
     "duration": 0.014231,
     "end_time": "2023-08-18T16:44:05.619818",
     "exception": false,
     "start_time": "2023-08-18T16:44:05.605587",
     "status": "completed"
    },
    "tags": []
   },
   "source": [
    "Process the tweets now .."
   ]
  },
  {
   "cell_type": "code",
   "execution_count": 7,
   "id": "825f6152",
   "metadata": {
    "execution": {
     "iopub.execute_input": "2023-08-18T16:44:05.640077Z",
     "iopub.status.busy": "2023-08-18T16:44:05.639734Z",
     "iopub.status.idle": "2023-08-18T16:44:05.643411Z",
     "shell.execute_reply": "2023-08-18T16:44:05.642747Z"
    },
    "papermill": {
     "duration": 0.017072,
     "end_time": "2023-08-18T16:44:05.646059",
     "exception": false,
     "start_time": "2023-08-18T16:44:05.628987",
     "status": "completed"
    },
    "tags": []
   },
   "outputs": [],
   "source": [
    "#sweep = TweetSweeper(df)\n",
    "#df['text'] = sweep.tweets['text'] "
   ]
  },
  {
   "cell_type": "markdown",
   "id": "16367200",
   "metadata": {
    "papermill": {
     "duration": 0.008924,
     "end_time": "2023-08-18T16:44:05.664015",
     "exception": false,
     "start_time": "2023-08-18T16:44:05.655091",
     "status": "completed"
    },
    "tags": []
   },
   "source": [
    "## BERT Preprocessor & Encoder"
   ]
  },
  {
   "cell_type": "code",
   "execution_count": 8,
   "id": "c66aab40",
   "metadata": {
    "execution": {
     "iopub.execute_input": "2023-08-18T16:44:05.683936Z",
     "iopub.status.busy": "2023-08-18T16:44:05.683139Z",
     "iopub.status.idle": "2023-08-18T16:44:42.561329Z",
     "shell.execute_reply": "2023-08-18T16:44:42.560458Z"
    },
    "papermill": {
     "duration": 36.925008,
     "end_time": "2023-08-18T16:44:42.598154",
     "exception": false,
     "start_time": "2023-08-18T16:44:05.673146",
     "status": "completed"
    },
    "tags": []
   },
   "outputs": [
    {
     "name": "stdout",
     "output_type": "stream",
     "text": [
      "Model: \"model\"\n",
      "__________________________________________________________________________________________________\n",
      " Layer (type)                   Output Shape         Param #     Connected to                     \n",
      "==================================================================================================\n",
      " text-layer (InputLayer)        [(None,)]            0           []                               \n",
      "                                                                                                  \n",
      " keras_layer (KerasLayer)       {'input_word_ids':   0           ['text-layer[0][0]']             \n",
      "                                (None, 128),                                                      \n",
      "                                 'input_type_ids':                                                \n",
      "                                (None, 128),                                                      \n",
      "                                 'input_mask': (Non                                               \n",
      "                                e, 128)}                                                          \n",
      "                                                                                                  \n",
      " keras_layer_1 (KerasLayer)     {'encoder_outputs':  109482241   ['keras_layer[0][0]',            \n",
      "                                 [(None, 128, 768),               'keras_layer[0][1]',            \n",
      "                                 (None, 128, 768),                'keras_layer[0][2]']            \n",
      "                                 (None, 128, 768),                                                \n",
      "                                 (None, 128, 768),                                                \n",
      "                                 (None, 128, 768),                                                \n",
      "                                 (None, 128, 768),                                                \n",
      "                                 (None, 128, 768),                                                \n",
      "                                 (None, 128, 768),                                                \n",
      "                                 (None, 128, 768),                                                \n",
      "                                 (None, 128, 768),                                                \n",
      "                                 (None, 128, 768),                                                \n",
      "                                 (None, 128, 768)],                                               \n",
      "                                 'default': (None,                                                \n",
      "                                768),                                                             \n",
      "                                 'pooled_output': (                                               \n",
      "                                None, 768),                                                       \n",
      "                                 'sequence_output':                                               \n",
      "                                 (None, 128, 768)}                                                \n",
      "                                                                                                  \n",
      " dropout-layer (Dropout)        (None, 768)          0           ['keras_layer_1[0][13]']         \n",
      "                                                                                                  \n",
      " output (Dense)                 (None, 1)            769         ['dropout-layer[0][0]']          \n",
      "                                                                                                  \n",
      "==================================================================================================\n",
      "Total params: 109,483,010\n",
      "Trainable params: 769\n",
      "Non-trainable params: 109,482,241\n",
      "__________________________________________________________________________________________________\n"
     ]
    }
   ],
   "source": [
    "def build_model():\n",
    "    bert_preprocess = hub.KerasLayer(\"https://tfhub.dev/tensorflow/bert_en_uncased_preprocess/3\")\n",
    "    bert_encoder = hub.KerasLayer(\"https://tfhub.dev/tensorflow/bert_en_uncased_L-12_H-768_A-12/4\")\n",
    "\n",
    "    text_input = tf.keras.layers.Input(shape=(), dtype=tf.string, name='text-layer')\n",
    "    preprocessed_text = bert_preprocess(text_input)\n",
    "    outputs = bert_encoder(preprocessed_text)\n",
    "\n",
    "    d_layer = tf.keras.layers.Dropout(0.1, name='dropout-layer')(outputs['pooled_output'])\n",
    "    d_layer = tf.keras.layers.Dense(1, activation='sigmoid', name='output')(d_layer)\n",
    "\n",
    "    model = tf.keras.Model(inputs=[text_input], outputs = [d_layer])\n",
    "    \n",
    "    metrics = [\n",
    "        tf.keras.metrics.BinaryAccuracy(name='accuracy'),\n",
    "        tf.keras.metrics.Recall(name='f1_score')\n",
    "    ]\n",
    "\n",
    "    model.compile(optimizer='adam', loss='binary_crossentropy', metrics=metrics)\n",
    "    return model\n",
    "\n",
    "model = build_model()\n",
    "model.summary()"
   ]
  },
  {
   "cell_type": "markdown",
   "id": "67b2fa71",
   "metadata": {
    "papermill": {
     "duration": 0.015569,
     "end_time": "2023-08-18T16:44:42.626188",
     "exception": false,
     "start_time": "2023-08-18T16:44:42.610619",
     "status": "completed"
    },
    "tags": []
   },
   "source": [
    "### Train / Validation / Test Splits"
   ]
  },
  {
   "cell_type": "markdown",
   "id": "232e6556",
   "metadata": {
    "papermill": {
     "duration": 0.01315,
     "end_time": "2023-08-18T16:44:42.652430",
     "exception": false,
     "start_time": "2023-08-18T16:44:42.639280",
     "status": "completed"
    },
    "tags": []
   },
   "source": [
    "First split your whole data into train and test set. Then split the train set into train and validation sets as shown below."
   ]
  },
  {
   "cell_type": "code",
   "execution_count": 9,
   "id": "2af088cc",
   "metadata": {
    "execution": {
     "iopub.execute_input": "2023-08-18T16:44:42.680750Z",
     "iopub.status.busy": "2023-08-18T16:44:42.680431Z",
     "iopub.status.idle": "2023-08-18T16:44:42.694728Z",
     "shell.execute_reply": "2023-08-18T16:44:42.693779Z"
    },
    "papermill": {
     "duration": 0.031548,
     "end_time": "2023-08-18T16:44:42.697220",
     "exception": false,
     "start_time": "2023-08-18T16:44:42.665672",
     "status": "completed"
    },
    "tags": []
   },
   "outputs": [],
   "source": [
    "# 60/20/20 split\n",
    "X_train, X_test, y_train, y_test = train_test_split(df['text'], df['target'], test_size=0.2, stratify=df['target'], random_state=1) # 0.8 train, 0.2 test\n",
    "\n",
    "X_train, X_val, y_train, y_val = train_test_split(X_train, y_train, test_size=0.25, random_state=1) # 0.25 x 0.8 = 0.2 val"
   ]
  },
  {
   "cell_type": "markdown",
   "id": "00d6dbc4",
   "metadata": {
    "papermill": {
     "duration": 0.013227,
     "end_time": "2023-08-18T16:44:42.724320",
     "exception": false,
     "start_time": "2023-08-18T16:44:42.711093",
     "status": "completed"
    },
    "tags": []
   },
   "source": [
    "## Model Training"
   ]
  },
  {
   "cell_type": "code",
   "execution_count": 10,
   "id": "5a54aabd",
   "metadata": {
    "execution": {
     "iopub.execute_input": "2023-08-18T16:44:42.751996Z",
     "iopub.status.busy": "2023-08-18T16:44:42.751656Z",
     "iopub.status.idle": "2023-08-18T17:50:39.540709Z",
     "shell.execute_reply": "2023-08-18T17:50:39.539279Z"
    },
    "papermill": {
     "duration": 3956.805156,
     "end_time": "2023-08-18T17:50:39.542690",
     "exception": false,
     "start_time": "2023-08-18T16:44:42.737534",
     "status": "completed"
    },
    "tags": []
   },
   "outputs": [
    {
     "name": "stdout",
     "output_type": "stream",
     "text": [
      "Epoch 1/100\n",
      "143/143 [==============================] - 54s 301ms/step - loss: 0.6380 - accuracy: 0.6319 - f1_score: 0.4735 - val_loss: 0.5906 - val_accuracy: 0.7091 - val_f1_score: 0.6992\n",
      "Epoch 2/100\n",
      "143/143 [==============================] - 42s 293ms/step - loss: 0.6024 - accuracy: 0.6845 - f1_score: 0.5698 - val_loss: 0.5760 - val_accuracy: 0.7177 - val_f1_score: 0.7145\n",
      "Epoch 3/100\n",
      "143/143 [==============================] - 42s 293ms/step - loss: 0.5882 - accuracy: 0.7077 - f1_score: 0.6004 - val_loss: 0.5672 - val_accuracy: 0.7196 - val_f1_score: 0.5679\n",
      "Epoch 4/100\n",
      "143/143 [==============================] - 42s 292ms/step - loss: 0.5742 - accuracy: 0.7099 - f1_score: 0.5994 - val_loss: 0.5643 - val_accuracy: 0.7196 - val_f1_score: 0.7405\n",
      "Epoch 5/100\n",
      "143/143 [==============================] - 52s 364ms/step - loss: 0.5678 - accuracy: 0.7145 - f1_score: 0.6177 - val_loss: 0.5530 - val_accuracy: 0.7354 - val_f1_score: 0.5802\n",
      "Epoch 6/100\n",
      "143/143 [==============================] - 42s 293ms/step - loss: 0.5645 - accuracy: 0.7167 - f1_score: 0.6147 - val_loss: 0.5423 - val_accuracy: 0.7479 - val_f1_score: 0.6779\n",
      "Epoch 7/100\n",
      "143/143 [==============================] - 52s 364ms/step - loss: 0.5510 - accuracy: 0.7283 - f1_score: 0.6254 - val_loss: 0.5495 - val_accuracy: 0.7360 - val_f1_score: 0.5389\n",
      "Epoch 8/100\n",
      "143/143 [==============================] - 42s 293ms/step - loss: 0.5469 - accuracy: 0.7383 - f1_score: 0.6340 - val_loss: 0.5446 - val_accuracy: 0.7282 - val_f1_score: 0.7618\n",
      "Epoch 9/100\n",
      "143/143 [==============================] - 52s 365ms/step - loss: 0.5498 - accuracy: 0.7287 - f1_score: 0.6315 - val_loss: 0.5285 - val_accuracy: 0.7485 - val_f1_score: 0.6718\n",
      "Epoch 10/100\n",
      "143/143 [==============================] - 42s 293ms/step - loss: 0.5432 - accuracy: 0.7362 - f1_score: 0.6325 - val_loss: 0.5301 - val_accuracy: 0.7564 - val_f1_score: 0.5954\n",
      "Epoch 11/100\n",
      "143/143 [==============================] - 52s 364ms/step - loss: 0.5406 - accuracy: 0.7337 - f1_score: 0.6361 - val_loss: 0.5299 - val_accuracy: 0.7433 - val_f1_score: 0.7557\n",
      "Epoch 12/100\n",
      "143/143 [==============================] - 52s 366ms/step - loss: 0.5383 - accuracy: 0.7397 - f1_score: 0.6402 - val_loss: 0.5165 - val_accuracy: 0.7518 - val_f1_score: 0.6656\n",
      "Epoch 13/100\n",
      "143/143 [==============================] - 42s 293ms/step - loss: 0.5389 - accuracy: 0.7405 - f1_score: 0.6427 - val_loss: 0.5135 - val_accuracy: 0.7525 - val_f1_score: 0.6656\n",
      "Epoch 14/100\n",
      "143/143 [==============================] - 42s 293ms/step - loss: 0.5310 - accuracy: 0.7462 - f1_score: 0.6448 - val_loss: 0.5147 - val_accuracy: 0.7571 - val_f1_score: 0.7359\n",
      "Epoch 15/100\n",
      "143/143 [==============================] - 52s 365ms/step - loss: 0.5298 - accuracy: 0.7484 - f1_score: 0.6509 - val_loss: 0.5156 - val_accuracy: 0.7518 - val_f1_score: 0.7466\n",
      "Epoch 16/100\n",
      "143/143 [==============================] - 42s 294ms/step - loss: 0.5304 - accuracy: 0.7462 - f1_score: 0.6417 - val_loss: 0.5105 - val_accuracy: 0.7597 - val_f1_score: 0.7466\n",
      "Epoch 17/100\n",
      "143/143 [==============================] - 42s 292ms/step - loss: 0.5250 - accuracy: 0.7532 - f1_score: 0.6570 - val_loss: 0.5047 - val_accuracy: 0.7695 - val_f1_score: 0.6580\n",
      "Epoch 18/100\n",
      "143/143 [==============================] - 52s 364ms/step - loss: 0.5272 - accuracy: 0.7504 - f1_score: 0.6448 - val_loss: 0.5050 - val_accuracy: 0.7656 - val_f1_score: 0.7191\n",
      "Epoch 19/100\n",
      "143/143 [==============================] - 42s 293ms/step - loss: 0.5251 - accuracy: 0.7451 - f1_score: 0.6371 - val_loss: 0.4994 - val_accuracy: 0.7649 - val_f1_score: 0.6748\n",
      "Epoch 20/100\n",
      "143/143 [==============================] - 42s 295ms/step - loss: 0.5133 - accuracy: 0.7631 - f1_score: 0.6697 - val_loss: 0.5083 - val_accuracy: 0.7735 - val_f1_score: 0.6015\n",
      "Epoch 21/100\n",
      "143/143 [==============================] - 42s 292ms/step - loss: 0.5192 - accuracy: 0.7532 - f1_score: 0.6519 - val_loss: 0.4971 - val_accuracy: 0.7715 - val_f1_score: 0.6565\n",
      "Epoch 22/100\n",
      "143/143 [==============================] - 52s 366ms/step - loss: 0.5173 - accuracy: 0.7526 - f1_score: 0.6600 - val_loss: 0.5238 - val_accuracy: 0.7452 - val_f1_score: 0.8015\n",
      "Epoch 23/100\n",
      "143/143 [==============================] - 42s 293ms/step - loss: 0.5183 - accuracy: 0.7559 - f1_score: 0.6611 - val_loss: 0.5308 - val_accuracy: 0.7472 - val_f1_score: 0.4885\n",
      "Epoch 24/100\n",
      "143/143 [==============================] - 42s 293ms/step - loss: 0.5135 - accuracy: 0.7605 - f1_score: 0.6560 - val_loss: 0.4973 - val_accuracy: 0.7669 - val_f1_score: 0.7542\n",
      "Epoch 25/100\n",
      "143/143 [==============================] - 52s 366ms/step - loss: 0.5111 - accuracy: 0.7602 - f1_score: 0.6606 - val_loss: 0.4971 - val_accuracy: 0.7682 - val_f1_score: 0.7557\n",
      "Epoch 26/100\n",
      "143/143 [==============================] - 42s 295ms/step - loss: 0.5130 - accuracy: 0.7629 - f1_score: 0.6667 - val_loss: 0.4913 - val_accuracy: 0.7741 - val_f1_score: 0.7145\n",
      "Epoch 27/100\n",
      "143/143 [==============================] - 52s 365ms/step - loss: 0.5114 - accuracy: 0.7572 - f1_score: 0.6529 - val_loss: 0.4907 - val_accuracy: 0.7741 - val_f1_score: 0.7328\n",
      "Epoch 28/100\n",
      "143/143 [==============================] - 42s 294ms/step - loss: 0.5112 - accuracy: 0.7583 - f1_score: 0.6611 - val_loss: 0.4876 - val_accuracy: 0.7794 - val_f1_score: 0.6931\n",
      "Epoch 29/100\n",
      "143/143 [==============================] - 52s 365ms/step - loss: 0.5122 - accuracy: 0.7631 - f1_score: 0.6611 - val_loss: 0.4910 - val_accuracy: 0.7728 - val_f1_score: 0.6305\n",
      "Epoch 30/100\n",
      "143/143 [==============================] - 52s 365ms/step - loss: 0.5076 - accuracy: 0.7633 - f1_score: 0.6682 - val_loss: 0.4858 - val_accuracy: 0.7794 - val_f1_score: 0.6947\n",
      "Epoch 31/100\n",
      "143/143 [==============================] - 52s 364ms/step - loss: 0.5066 - accuracy: 0.7631 - f1_score: 0.6662 - val_loss: 0.4854 - val_accuracy: 0.7820 - val_f1_score: 0.6763\n",
      "Epoch 32/100\n",
      "143/143 [==============================] - 42s 294ms/step - loss: 0.4996 - accuracy: 0.7721 - f1_score: 0.6825 - val_loss: 0.4996 - val_accuracy: 0.7748 - val_f1_score: 0.5878\n",
      "Epoch 33/100\n",
      "143/143 [==============================] - 52s 365ms/step - loss: 0.5064 - accuracy: 0.7644 - f1_score: 0.6600 - val_loss: 0.4848 - val_accuracy: 0.7754 - val_f1_score: 0.6427\n",
      "Epoch 34/100\n",
      "143/143 [==============================] - 42s 293ms/step - loss: 0.5068 - accuracy: 0.7626 - f1_score: 0.6707 - val_loss: 0.4864 - val_accuracy: 0.7774 - val_f1_score: 0.7511\n",
      "Epoch 35/100\n",
      "143/143 [==============================] - 52s 366ms/step - loss: 0.5010 - accuracy: 0.7670 - f1_score: 0.6743 - val_loss: 0.4819 - val_accuracy: 0.7807 - val_f1_score: 0.6763\n",
      "Epoch 36/100\n",
      "143/143 [==============================] - 42s 294ms/step - loss: 0.5040 - accuracy: 0.7655 - f1_score: 0.6713 - val_loss: 0.4837 - val_accuracy: 0.7768 - val_f1_score: 0.7374\n",
      "Epoch 37/100\n",
      "143/143 [==============================] - 52s 365ms/step - loss: 0.5083 - accuracy: 0.7653 - f1_score: 0.6713 - val_loss: 0.4800 - val_accuracy: 0.7827 - val_f1_score: 0.7191\n",
      "Epoch 38/100\n",
      "143/143 [==============================] - 42s 294ms/step - loss: 0.5060 - accuracy: 0.7679 - f1_score: 0.6784 - val_loss: 0.4830 - val_accuracy: 0.7781 - val_f1_score: 0.7481\n",
      "Epoch 39/100\n",
      "143/143 [==============================] - 52s 366ms/step - loss: 0.5030 - accuracy: 0.7672 - f1_score: 0.6728 - val_loss: 0.4837 - val_accuracy: 0.7853 - val_f1_score: 0.6427\n",
      "Epoch 40/100\n",
      "143/143 [==============================] - 42s 293ms/step - loss: 0.5056 - accuracy: 0.7631 - f1_score: 0.6682 - val_loss: 0.4799 - val_accuracy: 0.7827 - val_f1_score: 0.6550\n",
      "Epoch 41/100\n",
      "143/143 [==============================] - 52s 365ms/step - loss: 0.5043 - accuracy: 0.7661 - f1_score: 0.6631 - val_loss: 0.4779 - val_accuracy: 0.7820 - val_f1_score: 0.7267\n",
      "Epoch 42/100\n",
      "143/143 [==============================] - 42s 294ms/step - loss: 0.5096 - accuracy: 0.7635 - f1_score: 0.6697 - val_loss: 0.4801 - val_accuracy: 0.7800 - val_f1_score: 0.6473\n",
      "Epoch 43/100\n",
      "143/143 [==============================] - 42s 293ms/step - loss: 0.4987 - accuracy: 0.7712 - f1_score: 0.6733 - val_loss: 0.4846 - val_accuracy: 0.7781 - val_f1_score: 0.6214\n",
      "Epoch 44/100\n",
      "143/143 [==============================] - 42s 295ms/step - loss: 0.5004 - accuracy: 0.7743 - f1_score: 0.6723 - val_loss: 0.4752 - val_accuracy: 0.7919 - val_f1_score: 0.7176\n",
      "Epoch 45/100\n",
      "143/143 [==============================] - 52s 366ms/step - loss: 0.5015 - accuracy: 0.7653 - f1_score: 0.6713 - val_loss: 0.4759 - val_accuracy: 0.7820 - val_f1_score: 0.7328\n",
      "Epoch 46/100\n",
      "143/143 [==============================] - 52s 365ms/step - loss: 0.5044 - accuracy: 0.7633 - f1_score: 0.6621 - val_loss: 0.4777 - val_accuracy: 0.7814 - val_f1_score: 0.6489\n",
      "Epoch 47/100\n",
      "143/143 [==============================] - 52s 367ms/step - loss: 0.5003 - accuracy: 0.7699 - f1_score: 0.6820 - val_loss: 0.4752 - val_accuracy: 0.7886 - val_f1_score: 0.7084\n",
      "Epoch 48/100\n",
      "143/143 [==============================] - 42s 293ms/step - loss: 0.4988 - accuracy: 0.7690 - f1_score: 0.6789 - val_loss: 0.4749 - val_accuracy: 0.7840 - val_f1_score: 0.6672\n",
      "Epoch 49/100\n",
      "143/143 [==============================] - 42s 295ms/step - loss: 0.5025 - accuracy: 0.7690 - f1_score: 0.6723 - val_loss: 0.4732 - val_accuracy: 0.7892 - val_f1_score: 0.7069\n",
      "Epoch 50/100\n",
      "143/143 [==============================] - 52s 366ms/step - loss: 0.5022 - accuracy: 0.7672 - f1_score: 0.6764 - val_loss: 0.4865 - val_accuracy: 0.7827 - val_f1_score: 0.6137\n",
      "Epoch 51/100\n",
      "143/143 [==============================] - 52s 366ms/step - loss: 0.4966 - accuracy: 0.7703 - f1_score: 0.6753 - val_loss: 0.4769 - val_accuracy: 0.7879 - val_f1_score: 0.7191\n",
      "Epoch 52/100\n",
      "143/143 [==============================] - 42s 294ms/step - loss: 0.4977 - accuracy: 0.7697 - f1_score: 0.6804 - val_loss: 0.5028 - val_accuracy: 0.7669 - val_f1_score: 0.5450\n",
      "Epoch 53/100\n",
      "143/143 [==============================] - 42s 294ms/step - loss: 0.5011 - accuracy: 0.7659 - f1_score: 0.6743 - val_loss: 0.4737 - val_accuracy: 0.7886 - val_f1_score: 0.6718\n",
      "Epoch 54/100\n",
      "143/143 [==============================] - 42s 296ms/step - loss: 0.5078 - accuracy: 0.7613 - f1_score: 0.6682 - val_loss: 0.4800 - val_accuracy: 0.7827 - val_f1_score: 0.6305\n",
      "Epoch 55/100\n",
      "143/143 [==============================] - 42s 294ms/step - loss: 0.5059 - accuracy: 0.7602 - f1_score: 0.6672 - val_loss: 0.4712 - val_accuracy: 0.7965 - val_f1_score: 0.7023\n",
      "Epoch 56/100\n",
      "143/143 [==============================] - 42s 296ms/step - loss: 0.5032 - accuracy: 0.7681 - f1_score: 0.6789 - val_loss: 0.4846 - val_accuracy: 0.7827 - val_f1_score: 0.6107\n",
      "Epoch 57/100\n",
      "143/143 [==============================] - 52s 367ms/step - loss: 0.4987 - accuracy: 0.7659 - f1_score: 0.6809 - val_loss: 0.4717 - val_accuracy: 0.7951 - val_f1_score: 0.6977\n",
      "Epoch 58/100\n",
      "143/143 [==============================] - 52s 366ms/step - loss: 0.5047 - accuracy: 0.7622 - f1_score: 0.6738 - val_loss: 0.4739 - val_accuracy: 0.7840 - val_f1_score: 0.7435\n",
      "Epoch 59/100\n",
      "143/143 [==============================] - 52s 365ms/step - loss: 0.5043 - accuracy: 0.7642 - f1_score: 0.6702 - val_loss: 0.4729 - val_accuracy: 0.7840 - val_f1_score: 0.7435\n",
      "Epoch 60/100\n",
      "143/143 [==============================] - 42s 294ms/step - loss: 0.4996 - accuracy: 0.7681 - f1_score: 0.6789 - val_loss: 0.4815 - val_accuracy: 0.7722 - val_f1_score: 0.7725\n",
      "Epoch 61/100\n",
      "143/143 [==============================] - 52s 365ms/step - loss: 0.5009 - accuracy: 0.7659 - f1_score: 0.6707 - val_loss: 0.4687 - val_accuracy: 0.7945 - val_f1_score: 0.7160\n",
      "Epoch 62/100\n",
      "143/143 [==============================] - 42s 295ms/step - loss: 0.4998 - accuracy: 0.7646 - f1_score: 0.6769 - val_loss: 0.4772 - val_accuracy: 0.7833 - val_f1_score: 0.6305\n",
      "Epoch 63/100\n",
      "143/143 [==============================] - 52s 366ms/step - loss: 0.4947 - accuracy: 0.7688 - f1_score: 0.6789 - val_loss: 0.4883 - val_accuracy: 0.7820 - val_f1_score: 0.5924\n",
      "Epoch 64/100\n",
      "143/143 [==============================] - 52s 367ms/step - loss: 0.4949 - accuracy: 0.7694 - f1_score: 0.6809 - val_loss: 0.4733 - val_accuracy: 0.7840 - val_f1_score: 0.7511\n",
      "Epoch 65/100\n",
      "143/143 [==============================] - 52s 367ms/step - loss: 0.4881 - accuracy: 0.7736 - f1_score: 0.6871 - val_loss: 0.4886 - val_accuracy: 0.7820 - val_f1_score: 0.5924\n",
      "Epoch 66/100\n",
      "143/143 [==============================] - 52s 366ms/step - loss: 0.5061 - accuracy: 0.7725 - f1_score: 0.6814 - val_loss: 0.4909 - val_accuracy: 0.7800 - val_f1_score: 0.5847\n",
      "Epoch 67/100\n",
      "143/143 [==============================] - 52s 366ms/step - loss: 0.5019 - accuracy: 0.7666 - f1_score: 0.6769 - val_loss: 0.4732 - val_accuracy: 0.7866 - val_f1_score: 0.6443\n",
      "Epoch 68/100\n",
      "143/143 [==============================] - 52s 366ms/step - loss: 0.5064 - accuracy: 0.7651 - f1_score: 0.6672 - val_loss: 0.4667 - val_accuracy: 0.7919 - val_f1_score: 0.7176\n",
      "Epoch 69/100\n",
      "143/143 [==============================] - 52s 365ms/step - loss: 0.4975 - accuracy: 0.7657 - f1_score: 0.6804 - val_loss: 0.4756 - val_accuracy: 0.7853 - val_f1_score: 0.6305\n",
      "Epoch 70/100\n",
      "143/143 [==============================] - 52s 366ms/step - loss: 0.5051 - accuracy: 0.7675 - f1_score: 0.6743 - val_loss: 0.4667 - val_accuracy: 0.7958 - val_f1_score: 0.6962\n",
      "Epoch 71/100\n",
      "143/143 [==============================] - 52s 366ms/step - loss: 0.4954 - accuracy: 0.7710 - f1_score: 0.6733 - val_loss: 0.4806 - val_accuracy: 0.7754 - val_f1_score: 0.7786\n",
      "Epoch 72/100\n",
      "143/143 [==============================] - 43s 298ms/step - loss: 0.4956 - accuracy: 0.7710 - f1_score: 0.6860 - val_loss: 0.4668 - val_accuracy: 0.7978 - val_f1_score: 0.7023\n",
      "Epoch 73/100\n",
      "143/143 [==============================] - 42s 295ms/step - loss: 0.4998 - accuracy: 0.7672 - f1_score: 0.6743 - val_loss: 0.4661 - val_accuracy: 0.7997 - val_f1_score: 0.7084\n",
      "Epoch 74/100\n",
      "143/143 [==============================] - 42s 294ms/step - loss: 0.5001 - accuracy: 0.7692 - f1_score: 0.6774 - val_loss: 0.5071 - val_accuracy: 0.7636 - val_f1_score: 0.5282\n",
      "Epoch 75/100\n",
      "143/143 [==============================] - 52s 366ms/step - loss: 0.5011 - accuracy: 0.7648 - f1_score: 0.6748 - val_loss: 0.4721 - val_accuracy: 0.7833 - val_f1_score: 0.7588\n",
      "Epoch 76/100\n",
      "143/143 [==============================] - 42s 293ms/step - loss: 0.4967 - accuracy: 0.7751 - f1_score: 0.6809 - val_loss: 0.4661 - val_accuracy: 0.7938 - val_f1_score: 0.7221\n",
      "Epoch 77/100\n",
      "143/143 [==============================] - 52s 367ms/step - loss: 0.4936 - accuracy: 0.7727 - f1_score: 0.6840 - val_loss: 0.4660 - val_accuracy: 0.7978 - val_f1_score: 0.6931\n",
      "Epoch 78/100\n",
      "143/143 [==============================] - 42s 294ms/step - loss: 0.4947 - accuracy: 0.7653 - f1_score: 0.6779 - val_loss: 0.4662 - val_accuracy: 0.7971 - val_f1_score: 0.6947\n",
      "Epoch 79/100\n",
      "143/143 [==============================] - 42s 293ms/step - loss: 0.4996 - accuracy: 0.7690 - f1_score: 0.6697 - val_loss: 0.4661 - val_accuracy: 0.7879 - val_f1_score: 0.7298\n",
      "Epoch 80/100\n",
      "143/143 [==============================] - 52s 366ms/step - loss: 0.4942 - accuracy: 0.7743 - f1_score: 0.6784 - val_loss: 0.4770 - val_accuracy: 0.7800 - val_f1_score: 0.7725\n",
      "Epoch 81/100\n",
      "143/143 [==============================] - 42s 294ms/step - loss: 0.4951 - accuracy: 0.7764 - f1_score: 0.6799 - val_loss: 0.4785 - val_accuracy: 0.7768 - val_f1_score: 0.7893\n",
      "Epoch 82/100\n",
      "143/143 [==============================] - 52s 367ms/step - loss: 0.5028 - accuracy: 0.7666 - f1_score: 0.6860 - val_loss: 0.4712 - val_accuracy: 0.7905 - val_f1_score: 0.6458\n",
      "Epoch 83/100\n",
      "143/143 [==============================] - 42s 296ms/step - loss: 0.4997 - accuracy: 0.7611 - f1_score: 0.6713 - val_loss: 0.4744 - val_accuracy: 0.7859 - val_f1_score: 0.6305\n",
      "Epoch 84/100\n",
      "143/143 [==============================] - 52s 367ms/step - loss: 0.4901 - accuracy: 0.7721 - f1_score: 0.6794 - val_loss: 0.4671 - val_accuracy: 0.7879 - val_f1_score: 0.7481\n",
      "Epoch 84: early stopping\n"
     ]
    }
   ],
   "source": [
    "# Use Accuracy: Update the example to monitor accuracy on the test dataset rather than loss,\n",
    "# and plot learning curves showing accuracy.\n",
    "es = EarlyStopping(monitor='val_loss', mode='auto', verbose=1, patience=7)\n",
    "\n",
    "history = model.fit(X_train, y_train, validation_data=(X_val, y_val), epochs=100, callbacks=[es])"
   ]
  },
  {
   "cell_type": "code",
   "execution_count": 11,
   "id": "f271dd4a",
   "metadata": {
    "execution": {
     "iopub.execute_input": "2023-08-18T17:50:41.541556Z",
     "iopub.status.busy": "2023-08-18T17:50:41.540537Z",
     "iopub.status.idle": "2023-08-18T17:52:14.785871Z",
     "shell.execute_reply": "2023-08-18T17:52:14.784853Z"
    },
    "papermill": {
     "duration": 95.216489,
     "end_time": "2023-08-18T17:52:15.732075",
     "exception": false,
     "start_time": "2023-08-18T17:50:40.515586",
     "status": "completed"
    },
    "tags": []
   },
   "outputs": [
    {
     "name": "stdout",
     "output_type": "stream",
     "text": [
      "[ACC] Train: 0.791, Val: 0.788\n",
      "[F1]  Train: 0.746, Val: 0.748\n"
     ]
    }
   ],
   "source": [
    "train_loss, train_acc, train_f1 = model.evaluate(X_train, y_train, verbose=0)\n",
    "val_loss, val_acc, val_f1 = model.evaluate(X_val, y_val, verbose=0)\n",
    "\n",
    "print('[ACC] Train: %.3f, Val: %.3f' % (train_acc, val_acc))\n",
    "print('[F1]  Train: %.3f, Val: %.3f' % (train_f1, val_f1))"
   ]
  },
  {
   "cell_type": "code",
   "execution_count": 12,
   "id": "d6e8412b",
   "metadata": {
    "execution": {
     "iopub.execute_input": "2023-08-18T17:52:17.688951Z",
     "iopub.status.busy": "2023-08-18T17:52:17.688599Z",
     "iopub.status.idle": "2023-08-18T17:52:17.969342Z",
     "shell.execute_reply": "2023-08-18T17:52:17.968294Z"
    },
    "papermill": {
     "duration": 1.233861,
     "end_time": "2023-08-18T17:52:17.971491",
     "exception": false,
     "start_time": "2023-08-18T17:52:16.737630",
     "status": "completed"
    },
    "tags": []
   },
   "outputs": [
    {
     "data": {
      "image/png": "[encoded data removed]",
      "text/plain": [
       "<Figure size 640x480 with 1 Axes>"
      ]
     },
     "metadata": {},
     "output_type": "display_data"
    }
   ],
   "source": [
    "# plot log loss graph to determine how many epochs we need.\n",
    "\n",
    "pyplot.plot(history.history['loss'], label='train')\n",
    "pyplot.plot(history.history['val_loss'], label='val')\n",
    "pyplot.legend()\n",
    "pyplot.show()"
   ]
  },
  {
   "cell_type": "markdown",
   "id": "f74ba0c7",
   "metadata": {
    "papermill": {
     "duration": 0.945007,
     "end_time": "2023-08-18T17:52:19.916352",
     "exception": false,
     "start_time": "2023-08-18T17:52:18.971345",
     "status": "completed"
    },
    "tags": []
   },
   "source": [
    "## Classification Report\n",
    "\n",
    "A confusion matrix and classification report is a very statistically neat way to understand the performance of your model and take decisions accordingly, in case any improvement is required.\n",
    "\n",
    "**Note:** Evaluate the final model on the \"test\" split.Evaluate the final model on the \"test\" split."
   ]
  },
  {
   "cell_type": "code",
   "execution_count": 13,
   "id": "9c6e5d3a",
   "metadata": {
    "execution": {
     "iopub.execute_input": "2023-08-18T17:52:21.877463Z",
     "iopub.status.busy": "2023-08-18T17:52:21.877076Z",
     "iopub.status.idle": "2023-08-18T17:52:33.213239Z",
     "shell.execute_reply": "2023-08-18T17:52:33.212284Z"
    },
    "papermill": {
     "duration": 12.287329,
     "end_time": "2023-08-18T17:52:33.215258",
     "exception": false,
     "start_time": "2023-08-18T17:52:20.927929",
     "status": "completed"
    },
    "tags": []
   },
   "outputs": [
    {
     "name": "stdout",
     "output_type": "stream",
     "text": [
      "48/48 [==============================] - 11s 220ms/step\n"
     ]
    },
    {
     "data": {
      "text/plain": [
       "array([[717, 152],\n",
       "       [171, 483]])"
      ]
     },
     "execution_count": 13,
     "metadata": {},
     "output_type": "execute_result"
    }
   ],
   "source": [
    "y_predicted = model.predict(X_test)\n",
    "y_predicted = y_predicted.flatten()\n",
    "y_predicted = np.where(y_predicted > 0.5, 1, 0)\n",
    "\n",
    "matrix = confusion_matrix(y_test, y_predicted)\n",
    "matrix"
   ]
  },
  {
   "cell_type": "code",
   "execution_count": 14,
   "id": "f19ae6bd",
   "metadata": {
    "execution": {
     "iopub.execute_input": "2023-08-18T17:52:35.252723Z",
     "iopub.status.busy": "2023-08-18T17:52:35.252312Z",
     "iopub.status.idle": "2023-08-18T17:52:35.267700Z",
     "shell.execute_reply": "2023-08-18T17:52:35.266425Z"
    },
    "papermill": {
     "duration": 0.968262,
     "end_time": "2023-08-18T17:52:35.269723",
     "exception": false,
     "start_time": "2023-08-18T17:52:34.301461",
     "status": "completed"
    },
    "tags": []
   },
   "outputs": [
    {
     "name": "stdout",
     "output_type": "stream",
     "text": [
      "              precision    recall  f1-score   support\n",
      "\n",
      "           0       0.81      0.83      0.82       869\n",
      "           1       0.76      0.74      0.75       654\n",
      "\n",
      "    accuracy                           0.79      1523\n",
      "   macro avg       0.78      0.78      0.78      1523\n",
      "weighted avg       0.79      0.79      0.79      1523\n",
      "\n"
     ]
    }
   ],
   "source": [
    "print(classification_report(y_test, y_predicted))"
   ]
  },
  {
   "cell_type": "markdown",
   "id": "aa338e25",
   "metadata": {
    "papermill": {
     "duration": 1.065171,
     "end_time": "2023-08-18T17:52:37.301844",
     "exception": false,
     "start_time": "2023-08-18T17:52:36.236673",
     "status": "completed"
    },
    "tags": []
   },
   "source": [
    "We used f1_score to validate our results, this is a competition requirement."
   ]
  },
  {
   "cell_type": "code",
   "execution_count": 15,
   "id": "9b4bd00e",
   "metadata": {
    "execution": {
     "iopub.execute_input": "2023-08-18T17:52:39.272835Z",
     "iopub.status.busy": "2023-08-18T17:52:39.272465Z",
     "iopub.status.idle": "2023-08-18T17:52:39.287063Z",
     "shell.execute_reply": "2023-08-18T17:52:39.286031Z"
    },
    "papermill": {
     "duration": 1.030467,
     "end_time": "2023-08-18T17:52:39.289450",
     "exception": false,
     "start_time": "2023-08-18T17:52:38.258983",
     "status": "completed"
    },
    "tags": []
   },
   "outputs": [
    {
     "name": "stdout",
     "output_type": "stream",
     "text": [
      "ROC-AUC: 78.2%\n",
      "f1: 74.9%\n"
     ]
    }
   ],
   "source": [
    "auc_roc = roc_auc_score(y_test, y_predicted)\n",
    "f1 = f1_score(y_test, y_predicted)\n",
    "\n",
    "print(f'ROC-AUC: {auc_roc:.1%}')\n",
    "print(f'f1: {f1:.1%}')"
   ]
  },
  {
   "cell_type": "markdown",
   "id": "5d9e0cdc",
   "metadata": {
    "papermill": {
     "duration": 1.011571,
     "end_time": "2023-08-18T17:52:41.256877",
     "exception": false,
     "start_time": "2023-08-18T17:52:40.245306",
     "status": "completed"
    },
    "tags": []
   },
   "source": [
    "## Submission"
   ]
  },
  {
   "cell_type": "code",
   "execution_count": 16,
   "id": "69831392",
   "metadata": {
    "execution": {
     "iopub.execute_input": "2023-08-18T17:52:43.163724Z",
     "iopub.status.busy": "2023-08-18T17:52:43.163331Z",
     "iopub.status.idle": "2023-08-18T17:53:24.210264Z",
     "shell.execute_reply": "2023-08-18T17:53:24.209296Z"
    },
    "papermill": {
     "duration": 43.041783,
     "end_time": "2023-08-18T17:53:25.245596",
     "exception": false,
     "start_time": "2023-08-18T17:52:42.203813",
     "status": "completed"
    },
    "tags": []
   },
   "outputs": [
    {
     "name": "stdout",
     "output_type": "stream",
     "text": [
      "102/102 [==============================] - 22s 219ms/step\n"
     ]
    },
    {
     "data": {
      "text/html": [
       "<div>\n",
       "<style scoped>\n",
       "    .dataframe tbody tr th:only-of-type {\n",
       "        vertical-align: middle;\n",
       "    }\n",
       "\n",
       "    .dataframe tbody tr th {\n",
       "        vertical-align: top;\n",
       "    }\n",
       "\n",
       "    .dataframe thead th {\n",
       "        text-align: right;\n",
       "    }\n",
       "</style>\n",
       "<table border=\"1\" class=\"dataframe\">\n",
       "  <thead>\n",
       "    <tr style=\"text-align: right;\">\n",
       "      <th></th>\n",
       "      <th>id</th>\n",
       "      <th>keyword</th>\n",
       "      <th>location</th>\n",
       "      <th>text</th>\n",
       "      <th>target</th>\n",
       "    </tr>\n",
       "  </thead>\n",
       "  <tbody>\n",
       "    <tr>\n",
       "      <th>0</th>\n",
       "      <td>0</td>\n",
       "      <td>NaN</td>\n",
       "      <td>NaN</td>\n",
       "      <td>Just happened a terrible car crash</td>\n",
       "      <td>1</td>\n",
       "    </tr>\n",
       "    <tr>\n",
       "      <th>1</th>\n",
       "      <td>2</td>\n",
       "      <td>NaN</td>\n",
       "      <td>NaN</td>\n",
       "      <td>Heard about #earthquake is different cities, stay safe everyone.</td>\n",
       "      <td>1</td>\n",
       "    </tr>\n",
       "    <tr>\n",
       "      <th>2</th>\n",
       "      <td>3</td>\n",
       "      <td>NaN</td>\n",
       "      <td>NaN</td>\n",
       "      <td>there is a forest fire at spot pond, geese are fleeing across the street, I cannot save them all</td>\n",
       "      <td>1</td>\n",
       "    </tr>\n",
       "    <tr>\n",
       "      <th>3</th>\n",
       "      <td>9</td>\n",
       "      <td>NaN</td>\n",
       "      <td>NaN</td>\n",
       "      <td>Apocalypse lighting. #Spokane #wildfires</td>\n",
       "      <td>1</td>\n",
       "    </tr>\n",
       "    <tr>\n",
       "      <th>4</th>\n",
       "      <td>11</td>\n",
       "      <td>NaN</td>\n",
       "      <td>NaN</td>\n",
       "      <td>Typhoon Soudelor kills 28 in China and Taiwan</td>\n",
       "      <td>1</td>\n",
       "    </tr>\n",
       "  </tbody>\n",
       "</table>\n",
       "</div>"
      ],
      "text/plain": [
       "   id keyword location  \\\n",
       "0  0   NaN     NaN       \n",
       "1  2   NaN     NaN       \n",
       "2  3   NaN     NaN       \n",
       "3  9   NaN     NaN       \n",
       "4  11  NaN     NaN       \n",
       "\n",
       "                                                                                               text  \\\n",
       "0  Just happened a terrible car crash                                                                 \n",
       "1  Heard about #earthquake is different cities, stay safe everyone.                                   \n",
       "2  there is a forest fire at spot pond, geese are fleeing across the street, I cannot save them all   \n",
       "3  Apocalypse lighting. #Spokane #wildfires                                                           \n",
       "4  Typhoon Soudelor kills 28 in China and Taiwan                                                      \n",
       "\n",
       "   target  \n",
       "0  1       \n",
       "1  1       \n",
       "2  1       \n",
       "3  1       \n",
       "4  1       "
      ]
     },
     "execution_count": 16,
     "metadata": {},
     "output_type": "execute_result"
    }
   ],
   "source": [
    "submission_data = pd.read_csv('/kaggle/input/nlp-getting-started/test.csv', index_col='id')\n",
    "\n",
    "submission = model.predict(submission_data['text'])\n",
    "submission = submission.flatten()\n",
    "\n",
    "submission_predicted = np.where(submission > 0.5, 1, 0)\n",
    "submission_data['target'] = submission_predicted.tolist()\n",
    "submission_data.reset_index(inplace=True)\n",
    "\n",
    "submission_data.head()"
   ]
  },
  {
   "cell_type": "code",
   "execution_count": 17,
   "id": "a90dcb08",
   "metadata": {
    "execution": {
     "iopub.execute_input": "2023-08-18T17:53:27.221827Z",
     "iopub.status.busy": "2023-08-18T17:53:27.221464Z",
     "iopub.status.idle": "2023-08-18T17:53:28.373334Z",
     "shell.execute_reply": "2023-08-18T17:53:28.372021Z"
    },
    "papermill": {
     "duration": 2.174036,
     "end_time": "2023-08-18T17:53:28.375788",
     "exception": false,
     "start_time": "2023-08-18T17:53:26.201752",
     "status": "completed"
    },
    "tags": []
   },
   "outputs": [
    {
     "name": "stdout",
     "output_type": "stream",
     "text": [
      "id,target\r\n",
      "0,1\r\n",
      "2,1\r\n",
      "3,1\r\n",
      "9,1\r\n"
     ]
    }
   ],
   "source": [
    "submission_data[['id', 'target']].to_csv('submission.csv', index= False)\n",
    "\n",
    "!head -5 submission.csv"
   ]
  }
 ],
 "metadata": {
  "kernelspec": {
   "display_name": "Python 3",
   "language": "python",
   "name": "python3"
  },
  "language_info": {
   "codemirror_mode": {
    "name": "ipython",
    "version": 3
   },
   "file_extension": ".py",
   "mimetype": "text/x-python",
   "name": "python",
   "nbconvert_exporter": "python",
   "pygments_lexer": "ipython3",
   "version": "3.10.12"
  },
  "papermill": {
   "default_parameters": {},
   "duration": 4198.415343,
   "end_time": "2023-08-18T17:53:32.368043",
   "environment_variables": {},
   "exception": null,
   "input_path": "__notebook__.ipynb",
   "output_path": "__notebook__.ipynb",
   "parameters": {},
   "start_time": "2023-08-18T16:43:33.952700",
   "version": "2.4.0"
  }
 },
 "nbformat": 4,
 "nbformat_minor": 5
}
