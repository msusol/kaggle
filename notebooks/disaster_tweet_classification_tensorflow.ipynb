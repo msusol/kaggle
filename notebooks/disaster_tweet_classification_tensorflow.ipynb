{
  "cells": [
    {
      "cell_type": "markdown",
      "id": "e2550b63",
      "metadata": {
        "papermill": {
          "duration": 0.008153,
          "end_time": "2023-08-18T16:43:43.228245",
          "exception": false,
          "start_time": "2023-08-18T16:43:43.220092",
          "status": "completed"
        },
        "tags": [],
        "id": "e2550b63"
      },
      "source": [
        "# Disaster Tweets\n",
        "\n",
        "Competition: [Natural Language Processing with Disaster Tweets](https://www.kaggle.com/competitions/nlp-getting-started)\n",
        "\n",
        "References:\n",
        "\n",
        "1. [Disaster Tweet Classification using BERT & Neural Network](https://www.analyticsvidhya.com/blog/2021/12/disaster-tweet-classification-using-bert-neural-network/) - Analytics Vidhya.\n",
        "2. [Handling imbalanced dataset in Machine Learning](https://www.youtube.com/watch?v=JnlM4yLFNuo) – YouTube.\n",
        "3. [What is the Difference Between Test and Validation Datasets?](https://machinelearningmastery.com/difference-test-validation-datasets/) - Machine Learning Mastery.\n",
        "4. [Natural Language Processing: Cleaning up Tweets](https://medium.com/codex/natural-language-processing-cleaning-up-tweets-2b71793e91b5) - Medium.\n",
        "5. [Use Early Stopping to Halt the Training of Neural Networks At the Right Time](https://machinelearningmastery.com/how-to-stop-training-deep-neural-networks-at-the-right-time-using-early-stopping/https://machinelearningmastery.com/how-to-stop-training-deep-neural-networks-at-the-right-time-using-early-stopping/) - Machine Learning Mastery.\n",
        "6. [How to split data into three sets (train, validation, and test) And why?How to split data into three sets (train, validation, and test) And why?](https://towardsdatascience.com/how-to-split-data-into-three-sets-train-validation-and-test-and-why-e50d22d3e54c) - Towards Data Science."
      ]
    },
    {
      "cell_type": "markdown",
      "id": "a956de06",
      "metadata": {
        "papermill": {
          "duration": 0.007294,
          "end_time": "2023-08-18T16:43:43.243235",
          "exception": false,
          "start_time": "2023-08-18T16:43:43.235941",
          "status": "completed"
        },
        "tags": [],
        "id": "a956de06"
      },
      "source": [
        "## Imports"
      ]
    },
    {
      "cell_type": "markdown",
      "source": [
        "You are subscribed to **Colab Pro**. [Lear more.](https://colab.research.google.com/signup?utm_source=resource_tab)\n",
        "\n",
        "Colab: Python 3 Google Compute Engine backend (V100 High-Ram GPU)"
      ],
      "metadata": {
        "id": "eeEucMrsEOcd"
      },
      "id": "eeEucMrsEOcd"
    },
    {
      "cell_type": "code",
      "source": [
        "gpu_info = !nvidia-smi\n",
        "gpu_info = '\\n'.join(gpu_info)\n",
        "if gpu_info.find('failed') >= 0:\n",
        "  print('Not connected to a GPU')\n",
        "else:\n",
        "  print(gpu_info)"
      ],
      "metadata": {
        "colab": {
          "base_uri": "https://localhost:8080/"
        },
        "id": "ajkyCyaFDCCV",
        "outputId": "357e6a8a-2f79-4e78-f756-9633fc23ee9a"
      },
      "id": "ajkyCyaFDCCV",
      "execution_count": 25,
      "outputs": [
        {
          "output_type": "stream",
          "name": "stdout",
          "text": [
            "Sat Jan 13 04:40:52 2024       \n",
            "+---------------------------------------------------------------------------------------+\n",
            "| NVIDIA-SMI 535.104.05             Driver Version: 535.104.05   CUDA Version: 12.2     |\n",
            "|-----------------------------------------+----------------------+----------------------+\n",
            "| GPU  Name                 Persistence-M | Bus-Id        Disp.A | Volatile Uncorr. ECC |\n",
            "| Fan  Temp   Perf          Pwr:Usage/Cap |         Memory-Usage | GPU-Util  Compute M. |\n",
            "|                                         |                      |               MIG M. |\n",
            "|=========================================+======================+======================|\n",
            "|   0  Tesla V100-SXM2-16GB           Off | 00000000:00:04.0 Off |                    0 |\n",
            "| N/A   35C    P0              39W / 300W |   2384MiB / 16384MiB |      0%      Default |\n",
            "|                                         |                      |                  N/A |\n",
            "+-----------------------------------------+----------------------+----------------------+\n",
            "                                                                                         \n",
            "+---------------------------------------------------------------------------------------+\n",
            "| Processes:                                                                            |\n",
            "|  GPU   GI   CI        PID   Type   Process name                            GPU Memory |\n",
            "|        ID   ID                                                             Usage      |\n",
            "|=======================================================================================|\n",
            "+---------------------------------------------------------------------------------------+\n"
          ]
        }
      ]
    },
    {
      "cell_type": "code",
      "source": [
        "from psutil import virtual_memory\n",
        "ram_gb = virtual_memory().total / 1e9\n",
        "print('Your runtime has {:.1f} gigabytes of available RAM\\n'.format(ram_gb))\n",
        "\n",
        "if ram_gb < 20:\n",
        "  print('Not using a high-RAM runtime')\n",
        "else:\n",
        "  print('You are using a high-RAM runtime!')"
      ],
      "metadata": {
        "colab": {
          "base_uri": "https://localhost:8080/"
        },
        "id": "NMV_1oPiLdo7",
        "outputId": "619c289f-8486-40e1-9d86-d2490ef2c31d"
      },
      "id": "NMV_1oPiLdo7",
      "execution_count": 37,
      "outputs": [
        {
          "output_type": "stream",
          "name": "stdout",
          "text": [
            "Your runtime has 54.8 gigabytes of available RAM\n",
            "\n",
            "You are using a high-RAM runtime!\n"
          ]
        }
      ]
    },
    {
      "cell_type": "code",
      "source": [
        "!pip install -U tensorflow_text\n",
        "!pip install -U contractions emoji unidecode"
      ],
      "metadata": {
        "id": "6bSLk8ooAiNx"
      },
      "id": "6bSLk8ooAiNx",
      "execution_count": null,
      "outputs": []
    },
    {
      "cell_type": "code",
      "execution_count": 3,
      "id": "b6c8e7ea",
      "metadata": {
        "execution": {
          "iopub.execute_input": "2023-08-18T16:43:43.260230Z",
          "iopub.status.busy": "2023-08-18T16:43:43.259489Z",
          "iopub.status.idle": "2023-08-18T16:43:51.045230Z",
          "shell.execute_reply": "2023-08-18T16:43:51.044223Z"
        },
        "papermill": {
          "duration": 7.797218,
          "end_time": "2023-08-18T16:43:51.047863",
          "exception": false,
          "start_time": "2023-08-18T16:43:43.250645",
          "status": "completed"
        },
        "tags": [],
        "id": "b6c8e7ea"
      },
      "outputs": [],
      "source": [
        "import os\n",
        "import numpy as np\n",
        "import pandas as pd\n",
        "import warnings\n",
        "\n",
        "import seaborn as sns\n",
        "import tensorflow as tf\n",
        "import tensorflow_hub as hub\n",
        "import tensorflow_text as text\n",
        "\n",
        "from matplotlib import pyplot\n",
        "from keras.callbacks import EarlyStopping\n",
        "from sklearn.metrics import confusion_matrix, classification_report, f1_score, roc_auc_score\n",
        "from sklearn.model_selection import train_test_split\n",
        "\n",
        "warnings.filterwarnings('ignore')\n",
        "pd.options.display.max_colwidth = 0\n",
        "\n",
        "# Turns off TF GPU alerts\n",
        "#os.environ['TF_CPP_MIN_LOG_LEVEL']='3'"
      ]
    },
    {
      "cell_type": "markdown",
      "id": "0d596f54",
      "metadata": {
        "papermill": {
          "duration": 0.007538,
          "end_time": "2023-08-18T16:43:51.063800",
          "exception": false,
          "start_time": "2023-08-18T16:43:51.056262",
          "status": "completed"
        },
        "tags": [],
        "id": "0d596f54"
      },
      "source": [
        "## Data Prep"
      ]
    },
    {
      "cell_type": "code",
      "source": [
        "# @title Default title text\n",
        "HOME_DIR = \"https://raw.githubusercontent.com/msusol/kaggle/main/notebooks/nlp-getting-started/\" # @param [\"/kaggle/input/nlp-getting-started/\", \"https://raw.githubusercontent.com/msusol/kaggle/main/notebooks/nlp-getting-started/\"]"
      ],
      "metadata": {
        "id": "aXBUHUunvdGL",
        "cellView": "form"
      },
      "id": "aXBUHUunvdGL",
      "execution_count": 4,
      "outputs": []
    },
    {
      "cell_type": "code",
      "execution_count": 5,
      "id": "d34dc28b",
      "metadata": {
        "execution": {
          "iopub.execute_input": "2023-08-18T16:43:51.096856Z",
          "iopub.status.busy": "2023-08-18T16:43:51.094939Z",
          "iopub.status.idle": "2023-08-18T16:43:51.165259Z",
          "shell.execute_reply": "2023-08-18T16:43:51.164283Z"
        },
        "papermill": {
          "duration": 0.081589,
          "end_time": "2023-08-18T16:43:51.167529",
          "exception": false,
          "start_time": "2023-08-18T16:43:51.085940",
          "status": "completed"
        },
        "tags": [],
        "id": "d34dc28b",
        "outputId": "bc6cf1a6-84e2-4b6c-ee77-dfe3940aac78",
        "colab": {
          "base_uri": "https://localhost:8080/",
          "height": 363
        }
      },
      "outputs": [
        {
          "output_type": "execute_result",
          "data": {
            "text/plain": [
              "         id      keyword                   location  \\\n",
              "1461  2109   catastrophe  NaN                         \n",
              "1837  2642   crashed      too far                     \n",
              "6144  8763   siren        NaN                         \n",
              "2354  3389   demolition   ÌÏT: 36.142163,-95.979189   \n",
              "4765  6781   lightning    Elchilicitanierraversal     \n",
              "6882  9866   traumatised  cork                        \n",
              "3566  5097   famine       NaN                         \n",
              "1847  2657   crush        NaN                         \n",
              "4961  7071   meltdown     Colorado, USA               \n",
              "7021  10064  typhoon      Ibadan,Oyo state            \n",
              "\n",
              "                                                                                                                                          text  \\\n",
              "1461  .@robdelaney  Catastrophe is anything but! I literally have been unable to stop ejaculating.                                               \n",
              "1837  He was only .4 of a second faster than me and I overtook him twice (then crashed) tru luv &lt;3 &lt;3                                      \n",
              "6144  Internet firms to be subject to new cybersecurity rules in EU... http://t.co/lafTJ2GyLY                                                    \n",
              "2354  @samajp32 really needs to tone it down some in the weight room. RT @SoonerSportsTV: Demolition (cont) http://t.co/2o7Eva1cOe               \n",
              "4765  #NowPlaying 'The Lightning Strike' de Snow Patrol de A Hundred Million Suns ? http://t.co/GrzcHkDF37                                       \n",
              "6882  @AnnmarieRonan @niamhosullivanx I can't watch tat show its like a horror movie to me I get flashbacks an everything #traumatised           \n",
              "3566  when things become terrible more than the great Ethiopian famine...                                                                        \n",
              "1847  '@jorrynja: 6. @ your bf/gf/crush ??' @Ter_ell ??                                                                                          \n",
              "4961  @nprfreshair I really can't believe he is skipping out before the Republican meltdown...I mean 'debate'.                                   \n",
              "7021  Obama Declares Disaster for Typhoon-Devastated Saipan: Obama signs disaster declaration for Northern Marians a... http://t.co/UsVyHdG9OG   \n",
              "\n",
              "      target  \n",
              "1461  1       \n",
              "1837  0       \n",
              "6144  0       \n",
              "2354  0       \n",
              "4765  0       \n",
              "6882  0       \n",
              "3566  0       \n",
              "1847  1       \n",
              "4961  0       \n",
              "7021  1       "
            ],
            "text/html": [
              "\n",
              "  <div id=\"df-01b9459c-3fa2-473a-9afa-52e9e48667aa\" class=\"colab-df-container\">\n",
              "    <div>\n",
              "<style scoped>\n",
              "    .dataframe tbody tr th:only-of-type {\n",
              "        vertical-align: middle;\n",
              "    }\n",
              "\n",
              "    .dataframe tbody tr th {\n",
              "        vertical-align: top;\n",
              "    }\n",
              "\n",
              "    .dataframe thead th {\n",
              "        text-align: right;\n",
              "    }\n",
              "</style>\n",
              "<table border=\"1\" class=\"dataframe\">\n",
              "  <thead>\n",
              "    <tr style=\"text-align: right;\">\n",
              "      <th></th>\n",
              "      <th>id</th>\n",
              "      <th>keyword</th>\n",
              "      <th>location</th>\n",
              "      <th>text</th>\n",
              "      <th>target</th>\n",
              "    </tr>\n",
              "  </thead>\n",
              "  <tbody>\n",
              "    <tr>\n",
              "      <th>1461</th>\n",
              "      <td>2109</td>\n",
              "      <td>catastrophe</td>\n",
              "      <td>NaN</td>\n",
              "      <td>.@robdelaney  Catastrophe is anything but! I literally have been unable to stop ejaculating.</td>\n",
              "      <td>1</td>\n",
              "    </tr>\n",
              "    <tr>\n",
              "      <th>1837</th>\n",
              "      <td>2642</td>\n",
              "      <td>crashed</td>\n",
              "      <td>too far</td>\n",
              "      <td>He was only .4 of a second faster than me and I overtook him twice (then crashed) tru luv &amp;lt;3 &amp;lt;3</td>\n",
              "      <td>0</td>\n",
              "    </tr>\n",
              "    <tr>\n",
              "      <th>6144</th>\n",
              "      <td>8763</td>\n",
              "      <td>siren</td>\n",
              "      <td>NaN</td>\n",
              "      <td>Internet firms to be subject to new cybersecurity rules in EU... http://t.co/lafTJ2GyLY</td>\n",
              "      <td>0</td>\n",
              "    </tr>\n",
              "    <tr>\n",
              "      <th>2354</th>\n",
              "      <td>3389</td>\n",
              "      <td>demolition</td>\n",
              "      <td>ÌÏT: 36.142163,-95.979189</td>\n",
              "      <td>@samajp32 really needs to tone it down some in the weight room. RT @SoonerSportsTV: Demolition (cont) http://t.co/2o7Eva1cOe</td>\n",
              "      <td>0</td>\n",
              "    </tr>\n",
              "    <tr>\n",
              "      <th>4765</th>\n",
              "      <td>6781</td>\n",
              "      <td>lightning</td>\n",
              "      <td>Elchilicitanierraversal</td>\n",
              "      <td>#NowPlaying 'The Lightning Strike' de Snow Patrol de A Hundred Million Suns ? http://t.co/GrzcHkDF37</td>\n",
              "      <td>0</td>\n",
              "    </tr>\n",
              "    <tr>\n",
              "      <th>6882</th>\n",
              "      <td>9866</td>\n",
              "      <td>traumatised</td>\n",
              "      <td>cork</td>\n",
              "      <td>@AnnmarieRonan @niamhosullivanx I can't watch tat show its like a horror movie to me I get flashbacks an everything #traumatised</td>\n",
              "      <td>0</td>\n",
              "    </tr>\n",
              "    <tr>\n",
              "      <th>3566</th>\n",
              "      <td>5097</td>\n",
              "      <td>famine</td>\n",
              "      <td>NaN</td>\n",
              "      <td>when things become terrible more than the great Ethiopian famine...</td>\n",
              "      <td>0</td>\n",
              "    </tr>\n",
              "    <tr>\n",
              "      <th>1847</th>\n",
              "      <td>2657</td>\n",
              "      <td>crush</td>\n",
              "      <td>NaN</td>\n",
              "      <td>'@jorrynja: 6. @ your bf/gf/crush ??' @Ter_ell ??</td>\n",
              "      <td>1</td>\n",
              "    </tr>\n",
              "    <tr>\n",
              "      <th>4961</th>\n",
              "      <td>7071</td>\n",
              "      <td>meltdown</td>\n",
              "      <td>Colorado, USA</td>\n",
              "      <td>@nprfreshair I really can't believe he is skipping out before the Republican meltdown...I mean 'debate'.</td>\n",
              "      <td>0</td>\n",
              "    </tr>\n",
              "    <tr>\n",
              "      <th>7021</th>\n",
              "      <td>10064</td>\n",
              "      <td>typhoon</td>\n",
              "      <td>Ibadan,Oyo state</td>\n",
              "      <td>Obama Declares Disaster for Typhoon-Devastated Saipan: Obama signs disaster declaration for Northern Marians a... http://t.co/UsVyHdG9OG</td>\n",
              "      <td>1</td>\n",
              "    </tr>\n",
              "  </tbody>\n",
              "</table>\n",
              "</div>\n",
              "    <div class=\"colab-df-buttons\">\n",
              "\n",
              "  <div class=\"colab-df-container\">\n",
              "    <button class=\"colab-df-convert\" onclick=\"convertToInteractive('df-01b9459c-3fa2-473a-9afa-52e9e48667aa')\"\n",
              "            title=\"Convert this dataframe to an interactive table.\"\n",
              "            style=\"display:none;\">\n",
              "\n",
              "  <svg xmlns=\"http://www.w3.org/2000/svg\" height=\"24px\" viewBox=\"0 -960 960 960\">\n",
              "    <path d=\"M120-120v-720h720v720H120Zm60-500h600v-160H180v160Zm220 220h160v-160H400v160Zm0 220h160v-160H400v160ZM180-400h160v-160H180v160Zm440 0h160v-160H620v160ZM180-180h160v-160H180v160Zm440 0h160v-160H620v160Z\"/>\n",
              "  </svg>\n",
              "    </button>\n",
              "\n",
              "  <style>\n",
              "    .colab-df-container {\n",
              "      display:flex;\n",
              "      gap: 12px;\n",
              "    }\n",
              "\n",
              "    .colab-df-convert {\n",
              "      background-color: #E8F0FE;\n",
              "      border: none;\n",
              "      border-radius: 50%;\n",
              "      cursor: pointer;\n",
              "      display: none;\n",
              "      fill: #1967D2;\n",
              "      height: 32px;\n",
              "      padding: 0 0 0 0;\n",
              "      width: 32px;\n",
              "    }\n",
              "\n",
              "    .colab-df-convert:hover {\n",
              "      background-color: #E2EBFA;\n",
              "      box-shadow: 0px 1px 2px rgba(60, 64, 67, 0.3), 0px 1px 3px 1px rgba(60, 64, 67, 0.15);\n",
              "      fill: #174EA6;\n",
              "    }\n",
              "\n",
              "    .colab-df-buttons div {\n",
              "      margin-bottom: 4px;\n",
              "    }\n",
              "\n",
              "    [theme=dark] .colab-df-convert {\n",
              "      background-color: #3B4455;\n",
              "      fill: #D2E3FC;\n",
              "    }\n",
              "\n",
              "    [theme=dark] .colab-df-convert:hover {\n",
              "      background-color: #434B5C;\n",
              "      box-shadow: 0px 1px 3px 1px rgba(0, 0, 0, 0.15);\n",
              "      filter: drop-shadow(0px 1px 2px rgba(0, 0, 0, 0.3));\n",
              "      fill: #FFFFFF;\n",
              "    }\n",
              "  </style>\n",
              "\n",
              "    <script>\n",
              "      const buttonEl =\n",
              "        document.querySelector('#df-01b9459c-3fa2-473a-9afa-52e9e48667aa button.colab-df-convert');\n",
              "      buttonEl.style.display =\n",
              "        google.colab.kernel.accessAllowed ? 'block' : 'none';\n",
              "\n",
              "      async function convertToInteractive(key) {\n",
              "        const element = document.querySelector('#df-01b9459c-3fa2-473a-9afa-52e9e48667aa');\n",
              "        const dataTable =\n",
              "          await google.colab.kernel.invokeFunction('convertToInteractive',\n",
              "                                                    [key], {});\n",
              "        if (!dataTable) return;\n",
              "\n",
              "        const docLinkHtml = 'Like what you see? Visit the ' +\n",
              "          '<a target=\"_blank\" href=https://colab.research.google.com/notebooks/data_table.ipynb>data table notebook</a>'\n",
              "          + ' to learn more about interactive tables.';\n",
              "        element.innerHTML = '';\n",
              "        dataTable['output_type'] = 'display_data';\n",
              "        await google.colab.output.renderOutput(dataTable, element);\n",
              "        const docLink = document.createElement('div');\n",
              "        docLink.innerHTML = docLinkHtml;\n",
              "        element.appendChild(docLink);\n",
              "      }\n",
              "    </script>\n",
              "  </div>\n",
              "\n",
              "\n",
              "<div id=\"df-060979e3-ce84-497a-a588-4694f41ce163\">\n",
              "  <button class=\"colab-df-quickchart\" onclick=\"quickchart('df-060979e3-ce84-497a-a588-4694f41ce163')\"\n",
              "            title=\"Suggest charts\"\n",
              "            style=\"display:none;\">\n",
              "\n",
              "<svg xmlns=\"http://www.w3.org/2000/svg\" height=\"24px\"viewBox=\"0 0 24 24\"\n",
              "     width=\"24px\">\n",
              "    <g>\n",
              "        <path d=\"M19 3H5c-1.1 0-2 .9-2 2v14c0 1.1.9 2 2 2h14c1.1 0 2-.9 2-2V5c0-1.1-.9-2-2-2zM9 17H7v-7h2v7zm4 0h-2V7h2v10zm4 0h-2v-4h2v4z\"/>\n",
              "    </g>\n",
              "</svg>\n",
              "  </button>\n",
              "\n",
              "<style>\n",
              "  .colab-df-quickchart {\n",
              "      --bg-color: #E8F0FE;\n",
              "      --fill-color: #1967D2;\n",
              "      --hover-bg-color: #E2EBFA;\n",
              "      --hover-fill-color: #174EA6;\n",
              "      --disabled-fill-color: #AAA;\n",
              "      --disabled-bg-color: #DDD;\n",
              "  }\n",
              "\n",
              "  [theme=dark] .colab-df-quickchart {\n",
              "      --bg-color: #3B4455;\n",
              "      --fill-color: #D2E3FC;\n",
              "      --hover-bg-color: #434B5C;\n",
              "      --hover-fill-color: #FFFFFF;\n",
              "      --disabled-bg-color: #3B4455;\n",
              "      --disabled-fill-color: #666;\n",
              "  }\n",
              "\n",
              "  .colab-df-quickchart {\n",
              "    background-color: var(--bg-color);\n",
              "    border: none;\n",
              "    border-radius: 50%;\n",
              "    cursor: pointer;\n",
              "    display: none;\n",
              "    fill: var(--fill-color);\n",
              "    height: 32px;\n",
              "    padding: 0;\n",
              "    width: 32px;\n",
              "  }\n",
              "\n",
              "  .colab-df-quickchart:hover {\n",
              "    background-color: var(--hover-bg-color);\n",
              "    box-shadow: 0 1px 2px rgba(60, 64, 67, 0.3), 0 1px 3px 1px rgba(60, 64, 67, 0.15);\n",
              "    fill: var(--button-hover-fill-color);\n",
              "  }\n",
              "\n",
              "  .colab-df-quickchart-complete:disabled,\n",
              "  .colab-df-quickchart-complete:disabled:hover {\n",
              "    background-color: var(--disabled-bg-color);\n",
              "    fill: var(--disabled-fill-color);\n",
              "    box-shadow: none;\n",
              "  }\n",
              "\n",
              "  .colab-df-spinner {\n",
              "    border: 2px solid var(--fill-color);\n",
              "    border-color: transparent;\n",
              "    border-bottom-color: var(--fill-color);\n",
              "    animation:\n",
              "      spin 1s steps(1) infinite;\n",
              "  }\n",
              "\n",
              "  @keyframes spin {\n",
              "    0% {\n",
              "      border-color: transparent;\n",
              "      border-bottom-color: var(--fill-color);\n",
              "      border-left-color: var(--fill-color);\n",
              "    }\n",
              "    20% {\n",
              "      border-color: transparent;\n",
              "      border-left-color: var(--fill-color);\n",
              "      border-top-color: var(--fill-color);\n",
              "    }\n",
              "    30% {\n",
              "      border-color: transparent;\n",
              "      border-left-color: var(--fill-color);\n",
              "      border-top-color: var(--fill-color);\n",
              "      border-right-color: var(--fill-color);\n",
              "    }\n",
              "    40% {\n",
              "      border-color: transparent;\n",
              "      border-right-color: var(--fill-color);\n",
              "      border-top-color: var(--fill-color);\n",
              "    }\n",
              "    60% {\n",
              "      border-color: transparent;\n",
              "      border-right-color: var(--fill-color);\n",
              "    }\n",
              "    80% {\n",
              "      border-color: transparent;\n",
              "      border-right-color: var(--fill-color);\n",
              "      border-bottom-color: var(--fill-color);\n",
              "    }\n",
              "    90% {\n",
              "      border-color: transparent;\n",
              "      border-bottom-color: var(--fill-color);\n",
              "    }\n",
              "  }\n",
              "</style>\n",
              "\n",
              "  <script>\n",
              "    async function quickchart(key) {\n",
              "      const quickchartButtonEl =\n",
              "        document.querySelector('#' + key + ' button');\n",
              "      quickchartButtonEl.disabled = true;  // To prevent multiple clicks.\n",
              "      quickchartButtonEl.classList.add('colab-df-spinner');\n",
              "      try {\n",
              "        const charts = await google.colab.kernel.invokeFunction(\n",
              "            'suggestCharts', [key], {});\n",
              "      } catch (error) {\n",
              "        console.error('Error during call to suggestCharts:', error);\n",
              "      }\n",
              "      quickchartButtonEl.classList.remove('colab-df-spinner');\n",
              "      quickchartButtonEl.classList.add('colab-df-quickchart-complete');\n",
              "    }\n",
              "    (() => {\n",
              "      let quickchartButtonEl =\n",
              "        document.querySelector('#df-060979e3-ce84-497a-a588-4694f41ce163 button');\n",
              "      quickchartButtonEl.style.display =\n",
              "        google.colab.kernel.accessAllowed ? 'block' : 'none';\n",
              "    })();\n",
              "  </script>\n",
              "</div>\n",
              "\n",
              "    </div>\n",
              "  </div>\n"
            ]
          },
          "metadata": {},
          "execution_count": 5
        }
      ],
      "source": [
        "train_data = pd.read_csv('%s/train.csv'%(HOME_DIR))\n",
        "\n",
        "train_data.sample(n=10, random_state=23)"
      ]
    },
    {
      "cell_type": "code",
      "execution_count": 6,
      "id": "757e4385",
      "metadata": {
        "execution": {
          "iopub.execute_input": "2023-08-18T16:43:51.184727Z",
          "iopub.status.busy": "2023-08-18T16:43:51.184448Z",
          "iopub.status.idle": "2023-08-18T16:43:51.191542Z",
          "shell.execute_reply": "2023-08-18T16:43:51.190624Z"
        },
        "papermill": {
          "duration": 0.018174,
          "end_time": "2023-08-18T16:43:51.193680",
          "exception": false,
          "start_time": "2023-08-18T16:43:51.175506",
          "status": "completed"
        },
        "tags": [],
        "id": "757e4385",
        "outputId": "7453efe3-6b75-422e-e633-e9363388a9e8",
        "colab": {
          "base_uri": "https://localhost:8080/",
          "height": 35
        }
      },
      "outputs": [
        {
          "output_type": "execute_result",
          "data": {
            "text/plain": [
              "'Obama Declares Disaster for Typhoon-Devastated Saipan: Obama signs disaster declaration for Northern Marians a... http://t.co/UsVyHdG9OG'"
            ],
            "application/vnd.google.colaboratory.intrinsic+json": {
              "type": "string"
            }
          },
          "metadata": {},
          "execution_count": 6
        }
      ],
      "source": [
        "sample_sentence = train_data.iloc[[7021]].text.to_string(header=False, index=False)\n",
        "sample_sentence"
      ]
    },
    {
      "cell_type": "code",
      "execution_count": 7,
      "id": "8e3d588a",
      "metadata": {
        "execution": {
          "iopub.execute_input": "2023-08-18T16:43:51.211352Z",
          "iopub.status.busy": "2023-08-18T16:43:51.210475Z",
          "iopub.status.idle": "2023-08-18T16:43:51.222612Z",
          "shell.execute_reply": "2023-08-18T16:43:51.221537Z"
        },
        "papermill": {
          "duration": 0.022918,
          "end_time": "2023-08-18T16:43:51.224613",
          "exception": false,
          "start_time": "2023-08-18T16:43:51.201695",
          "status": "completed"
        },
        "tags": [],
        "id": "8e3d588a",
        "outputId": "258cbfd9-2aaa-4352-e6ec-59b43d8bdbf0",
        "colab": {
          "base_uri": "https://localhost:8080/"
        }
      },
      "outputs": [
        {
          "output_type": "execute_result",
          "data": {
            "text/plain": [
              "0    4342\n",
              "1    3271\n",
              "Name: target, dtype: int64"
            ]
          },
          "metadata": {},
          "execution_count": 7
        }
      ],
      "source": [
        "#df = train_data.drop(['id','keyword','location'],axis=1)\n",
        "df = train_data.drop(['id'], axis=1)\n",
        "df.sample(10, random_state=23)\n",
        "\n",
        "# Is the dataset is balanced: count of both class labels (0 and 1):\n",
        "\n",
        "df['target'].value_counts()"
      ]
    },
    {
      "cell_type": "markdown",
      "id": "021e857f",
      "metadata": {
        "papermill": {
          "duration": 0.00856,
          "end_time": "2023-08-18T16:43:51.241818",
          "exception": false,
          "start_time": "2023-08-18T16:43:51.233258",
          "status": "completed"
        },
        "tags": [],
        "id": "021e857f"
      },
      "source": [
        "### Optional undersampling step"
      ]
    },
    {
      "cell_type": "code",
      "execution_count": 8,
      "id": "6762df8e",
      "metadata": {
        "execution": {
          "iopub.execute_input": "2023-08-18T16:43:51.259697Z",
          "iopub.status.busy": "2023-08-18T16:43:51.258910Z",
          "iopub.status.idle": "2023-08-18T16:43:51.264294Z",
          "shell.execute_reply": "2023-08-18T16:43:51.263421Z"
        },
        "papermill": {
          "duration": 0.016352,
          "end_time": "2023-08-18T16:43:51.266313",
          "exception": false,
          "start_time": "2023-08-18T16:43:51.249961",
          "status": "completed"
        },
        "tags": [],
        "id": "6762df8e"
      },
      "outputs": [],
      "source": [
        "if False:\n",
        "    df_0_class = df[df['target']==0]\n",
        "    df_1_class = df[df['target']==1]\n",
        "    df_0_class_undersampled = df_0_class.sample(df_1_class.shape[0])\n",
        "    df = pd.concat([df_0_class_undersampled, df_1_class], axis=0)\n",
        "\n",
        "    df['target'].value_counts()"
      ]
    },
    {
      "cell_type": "markdown",
      "id": "37b98994",
      "metadata": {
        "papermill": {
          "duration": 0.008082,
          "end_time": "2023-08-18T16:43:51.282335",
          "exception": false,
          "start_time": "2023-08-18T16:43:51.274253",
          "status": "completed"
        },
        "tags": [],
        "id": "37b98994"
      },
      "source": [
        "### Process Tweets"
      ]
    },
    {
      "cell_type": "code",
      "execution_count": 10,
      "id": "28e6f5ef",
      "metadata": {
        "execution": {
          "iopub.execute_input": "2023-08-18T16:43:51.300023Z",
          "iopub.status.busy": "2023-08-18T16:43:51.299756Z",
          "iopub.status.idle": "2023-08-18T16:44:05.593252Z",
          "shell.execute_reply": "2023-08-18T16:44:05.592251Z"
        },
        "papermill": {
          "duration": 14.305358,
          "end_time": "2023-08-18T16:44:05.595774",
          "exception": false,
          "start_time": "2023-08-18T16:43:51.290416",
          "status": "completed"
        },
        "tags": [],
        "id": "28e6f5ef",
        "outputId": "8e5ca8fe-0c5f-4835-dc37-0bf97d2eb7d4",
        "colab": {
          "base_uri": "https://localhost:8080/",
          "height": 415
        }
      },
      "outputs": [
        {
          "output_type": "execute_result",
          "data": {
            "text/plain": [
              "         id      keyword                 location  \\\n",
              "1461  2109   catastrophe  nan                       \n",
              "1837  2642   crashed      too far                   \n",
              "6144  8763   siren        nan                       \n",
              "2354  3389   demolition   IIT                       \n",
              "4765  6781   lightning    Elchilicitanierraversal   \n",
              "6882  9866   traumatised  cork                      \n",
              "3566  5097   famine       nan                       \n",
              "1847  2657   crush        nan                       \n",
              "4961  7071   meltdown     Colorado USA              \n",
              "7021  10064  typhoon      Ibadan Oyo state          \n",
              "\n",
              "                                                                                                                                          text  \\\n",
              "1461  .@robdelaney  Catastrophe is anything but! I literally have been unable to stop ejaculating.                                               \n",
              "1837  He was only .4 of a second faster than me and I overtook him twice (then crashed) tru love &lt;3 &lt;3                                     \n",
              "6144  Internet firms to be subject to new cybersecurity rules in EU... http://t.co/lafTJ2GyLY                                                    \n",
              "2354  @samajp32 really needs to tone it down some in the weight room. RT @SoonerSportsTV: Demolition (cont) http://t.co/2o7Eva1cOe               \n",
              "4765  #NowPlaying 'The Lightning Strike' de Snow Patrol de A Hundred Million Suns ? http://t.co/GrzcHkDF37                                       \n",
              "6882  @AnnmarieRonan @niamhosullivanx I cannot watch tat show its like a horror movie to me I get flashbacks an everything #traumatised          \n",
              "3566  when things become terrible more than the great Ethiopian famine...                                                                        \n",
              "1847  '@jorrynja: 6. @ your bf/gf/crush ??' @Ter_ell ??                                                                                          \n",
              "4961  @nprfreshair I really cannot believe he is skipping out before the Republican meltdown...I mean 'debate'.                                  \n",
              "7021  Obama Declares Disaster for Typhoon-Devastated Saipan: Obama signs disaster declaration for Northern Marians a... http://t.co/UsVyHdG9OG   \n",
              "\n",
              "      target        hashtags       stems  emojis  num_hashtags  \n",
              "1461  1       []              catastroph  0       0             \n",
              "1837  0       []              crash       0       0             \n",
              "6144  0       []              siren       0       0             \n",
              "2354  0       []              demolit     0       0             \n",
              "4765  0       [#NowPlaying]   lightn      0       1             \n",
              "6882  0       [#traumatised]  traumatis   0       1             \n",
              "3566  0       []              famin       0       0             \n",
              "1847  1       []              crush       0       0             \n",
              "4961  0       []              meltdown    0       0             \n",
              "7021  1       []              typhoon     0       0             "
            ],
            "text/html": [
              "\n",
              "  <div id=\"df-3dd51af0-a8dc-48d4-80cd-dccec6c3f8e7\" class=\"colab-df-container\">\n",
              "    <div>\n",
              "<style scoped>\n",
              "    .dataframe tbody tr th:only-of-type {\n",
              "        vertical-align: middle;\n",
              "    }\n",
              "\n",
              "    .dataframe tbody tr th {\n",
              "        vertical-align: top;\n",
              "    }\n",
              "\n",
              "    .dataframe thead th {\n",
              "        text-align: right;\n",
              "    }\n",
              "</style>\n",
              "<table border=\"1\" class=\"dataframe\">\n",
              "  <thead>\n",
              "    <tr style=\"text-align: right;\">\n",
              "      <th></th>\n",
              "      <th>id</th>\n",
              "      <th>keyword</th>\n",
              "      <th>location</th>\n",
              "      <th>text</th>\n",
              "      <th>target</th>\n",
              "      <th>hashtags</th>\n",
              "      <th>stems</th>\n",
              "      <th>emojis</th>\n",
              "      <th>num_hashtags</th>\n",
              "    </tr>\n",
              "  </thead>\n",
              "  <tbody>\n",
              "    <tr>\n",
              "      <th>1461</th>\n",
              "      <td>2109</td>\n",
              "      <td>catastrophe</td>\n",
              "      <td>nan</td>\n",
              "      <td>.@robdelaney  Catastrophe is anything but! I literally have been unable to stop ejaculating.</td>\n",
              "      <td>1</td>\n",
              "      <td>[]</td>\n",
              "      <td>catastroph</td>\n",
              "      <td>0</td>\n",
              "      <td>0</td>\n",
              "    </tr>\n",
              "    <tr>\n",
              "      <th>1837</th>\n",
              "      <td>2642</td>\n",
              "      <td>crashed</td>\n",
              "      <td>too far</td>\n",
              "      <td>He was only .4 of a second faster than me and I overtook him twice (then crashed) tru love &amp;lt;3 &amp;lt;3</td>\n",
              "      <td>0</td>\n",
              "      <td>[]</td>\n",
              "      <td>crash</td>\n",
              "      <td>0</td>\n",
              "      <td>0</td>\n",
              "    </tr>\n",
              "    <tr>\n",
              "      <th>6144</th>\n",
              "      <td>8763</td>\n",
              "      <td>siren</td>\n",
              "      <td>nan</td>\n",
              "      <td>Internet firms to be subject to new cybersecurity rules in EU... http://t.co/lafTJ2GyLY</td>\n",
              "      <td>0</td>\n",
              "      <td>[]</td>\n",
              "      <td>siren</td>\n",
              "      <td>0</td>\n",
              "      <td>0</td>\n",
              "    </tr>\n",
              "    <tr>\n",
              "      <th>2354</th>\n",
              "      <td>3389</td>\n",
              "      <td>demolition</td>\n",
              "      <td>IIT</td>\n",
              "      <td>@samajp32 really needs to tone it down some in the weight room. RT @SoonerSportsTV: Demolition (cont) http://t.co/2o7Eva1cOe</td>\n",
              "      <td>0</td>\n",
              "      <td>[]</td>\n",
              "      <td>demolit</td>\n",
              "      <td>0</td>\n",
              "      <td>0</td>\n",
              "    </tr>\n",
              "    <tr>\n",
              "      <th>4765</th>\n",
              "      <td>6781</td>\n",
              "      <td>lightning</td>\n",
              "      <td>Elchilicitanierraversal</td>\n",
              "      <td>#NowPlaying 'The Lightning Strike' de Snow Patrol de A Hundred Million Suns ? http://t.co/GrzcHkDF37</td>\n",
              "      <td>0</td>\n",
              "      <td>[#NowPlaying]</td>\n",
              "      <td>lightn</td>\n",
              "      <td>0</td>\n",
              "      <td>1</td>\n",
              "    </tr>\n",
              "    <tr>\n",
              "      <th>6882</th>\n",
              "      <td>9866</td>\n",
              "      <td>traumatised</td>\n",
              "      <td>cork</td>\n",
              "      <td>@AnnmarieRonan @niamhosullivanx I cannot watch tat show its like a horror movie to me I get flashbacks an everything #traumatised</td>\n",
              "      <td>0</td>\n",
              "      <td>[#traumatised]</td>\n",
              "      <td>traumatis</td>\n",
              "      <td>0</td>\n",
              "      <td>1</td>\n",
              "    </tr>\n",
              "    <tr>\n",
              "      <th>3566</th>\n",
              "      <td>5097</td>\n",
              "      <td>famine</td>\n",
              "      <td>nan</td>\n",
              "      <td>when things become terrible more than the great Ethiopian famine...</td>\n",
              "      <td>0</td>\n",
              "      <td>[]</td>\n",
              "      <td>famin</td>\n",
              "      <td>0</td>\n",
              "      <td>0</td>\n",
              "    </tr>\n",
              "    <tr>\n",
              "      <th>1847</th>\n",
              "      <td>2657</td>\n",
              "      <td>crush</td>\n",
              "      <td>nan</td>\n",
              "      <td>'@jorrynja: 6. @ your bf/gf/crush ??' @Ter_ell ??</td>\n",
              "      <td>1</td>\n",
              "      <td>[]</td>\n",
              "      <td>crush</td>\n",
              "      <td>0</td>\n",
              "      <td>0</td>\n",
              "    </tr>\n",
              "    <tr>\n",
              "      <th>4961</th>\n",
              "      <td>7071</td>\n",
              "      <td>meltdown</td>\n",
              "      <td>Colorado USA</td>\n",
              "      <td>@nprfreshair I really cannot believe he is skipping out before the Republican meltdown...I mean 'debate'.</td>\n",
              "      <td>0</td>\n",
              "      <td>[]</td>\n",
              "      <td>meltdown</td>\n",
              "      <td>0</td>\n",
              "      <td>0</td>\n",
              "    </tr>\n",
              "    <tr>\n",
              "      <th>7021</th>\n",
              "      <td>10064</td>\n",
              "      <td>typhoon</td>\n",
              "      <td>Ibadan Oyo state</td>\n",
              "      <td>Obama Declares Disaster for Typhoon-Devastated Saipan: Obama signs disaster declaration for Northern Marians a... http://t.co/UsVyHdG9OG</td>\n",
              "      <td>1</td>\n",
              "      <td>[]</td>\n",
              "      <td>typhoon</td>\n",
              "      <td>0</td>\n",
              "      <td>0</td>\n",
              "    </tr>\n",
              "  </tbody>\n",
              "</table>\n",
              "</div>\n",
              "    <div class=\"colab-df-buttons\">\n",
              "\n",
              "  <div class=\"colab-df-container\">\n",
              "    <button class=\"colab-df-convert\" onclick=\"convertToInteractive('df-3dd51af0-a8dc-48d4-80cd-dccec6c3f8e7')\"\n",
              "            title=\"Convert this dataframe to an interactive table.\"\n",
              "            style=\"display:none;\">\n",
              "\n",
              "  <svg xmlns=\"http://www.w3.org/2000/svg\" height=\"24px\" viewBox=\"0 -960 960 960\">\n",
              "    <path d=\"M120-120v-720h720v720H120Zm60-500h600v-160H180v160Zm220 220h160v-160H400v160Zm0 220h160v-160H400v160ZM180-400h160v-160H180v160Zm440 0h160v-160H620v160ZM180-180h160v-160H180v160Zm440 0h160v-160H620v160Z\"/>\n",
              "  </svg>\n",
              "    </button>\n",
              "\n",
              "  <style>\n",
              "    .colab-df-container {\n",
              "      display:flex;\n",
              "      gap: 12px;\n",
              "    }\n",
              "\n",
              "    .colab-df-convert {\n",
              "      background-color: #E8F0FE;\n",
              "      border: none;\n",
              "      border-radius: 50%;\n",
              "      cursor: pointer;\n",
              "      display: none;\n",
              "      fill: #1967D2;\n",
              "      height: 32px;\n",
              "      padding: 0 0 0 0;\n",
              "      width: 32px;\n",
              "    }\n",
              "\n",
              "    .colab-df-convert:hover {\n",
              "      background-color: #E2EBFA;\n",
              "      box-shadow: 0px 1px 2px rgba(60, 64, 67, 0.3), 0px 1px 3px 1px rgba(60, 64, 67, 0.15);\n",
              "      fill: #174EA6;\n",
              "    }\n",
              "\n",
              "    .colab-df-buttons div {\n",
              "      margin-bottom: 4px;\n",
              "    }\n",
              "\n",
              "    [theme=dark] .colab-df-convert {\n",
              "      background-color: #3B4455;\n",
              "      fill: #D2E3FC;\n",
              "    }\n",
              "\n",
              "    [theme=dark] .colab-df-convert:hover {\n",
              "      background-color: #434B5C;\n",
              "      box-shadow: 0px 1px 3px 1px rgba(0, 0, 0, 0.15);\n",
              "      filter: drop-shadow(0px 1px 2px rgba(0, 0, 0, 0.3));\n",
              "      fill: #FFFFFF;\n",
              "    }\n",
              "  </style>\n",
              "\n",
              "    <script>\n",
              "      const buttonEl =\n",
              "        document.querySelector('#df-3dd51af0-a8dc-48d4-80cd-dccec6c3f8e7 button.colab-df-convert');\n",
              "      buttonEl.style.display =\n",
              "        google.colab.kernel.accessAllowed ? 'block' : 'none';\n",
              "\n",
              "      async function convertToInteractive(key) {\n",
              "        const element = document.querySelector('#df-3dd51af0-a8dc-48d4-80cd-dccec6c3f8e7');\n",
              "        const dataTable =\n",
              "          await google.colab.kernel.invokeFunction('convertToInteractive',\n",
              "                                                    [key], {});\n",
              "        if (!dataTable) return;\n",
              "\n",
              "        const docLinkHtml = 'Like what you see? Visit the ' +\n",
              "          '<a target=\"_blank\" href=https://colab.research.google.com/notebooks/data_table.ipynb>data table notebook</a>'\n",
              "          + ' to learn more about interactive tables.';\n",
              "        element.innerHTML = '';\n",
              "        dataTable['output_type'] = 'display_data';\n",
              "        await google.colab.output.renderOutput(dataTable, element);\n",
              "        const docLink = document.createElement('div');\n",
              "        docLink.innerHTML = docLinkHtml;\n",
              "        element.appendChild(docLink);\n",
              "      }\n",
              "    </script>\n",
              "  </div>\n",
              "\n",
              "\n",
              "<div id=\"df-f9cd48bc-05b6-4de1-92bb-42d4255eaa96\">\n",
              "  <button class=\"colab-df-quickchart\" onclick=\"quickchart('df-f9cd48bc-05b6-4de1-92bb-42d4255eaa96')\"\n",
              "            title=\"Suggest charts\"\n",
              "            style=\"display:none;\">\n",
              "\n",
              "<svg xmlns=\"http://www.w3.org/2000/svg\" height=\"24px\"viewBox=\"0 0 24 24\"\n",
              "     width=\"24px\">\n",
              "    <g>\n",
              "        <path d=\"M19 3H5c-1.1 0-2 .9-2 2v14c0 1.1.9 2 2 2h14c1.1 0 2-.9 2-2V5c0-1.1-.9-2-2-2zM9 17H7v-7h2v7zm4 0h-2V7h2v10zm4 0h-2v-4h2v4z\"/>\n",
              "    </g>\n",
              "</svg>\n",
              "  </button>\n",
              "\n",
              "<style>\n",
              "  .colab-df-quickchart {\n",
              "      --bg-color: #E8F0FE;\n",
              "      --fill-color: #1967D2;\n",
              "      --hover-bg-color: #E2EBFA;\n",
              "      --hover-fill-color: #174EA6;\n",
              "      --disabled-fill-color: #AAA;\n",
              "      --disabled-bg-color: #DDD;\n",
              "  }\n",
              "\n",
              "  [theme=dark] .colab-df-quickchart {\n",
              "      --bg-color: #3B4455;\n",
              "      --fill-color: #D2E3FC;\n",
              "      --hover-bg-color: #434B5C;\n",
              "      --hover-fill-color: #FFFFFF;\n",
              "      --disabled-bg-color: #3B4455;\n",
              "      --disabled-fill-color: #666;\n",
              "  }\n",
              "\n",
              "  .colab-df-quickchart {\n",
              "    background-color: var(--bg-color);\n",
              "    border: none;\n",
              "    border-radius: 50%;\n",
              "    cursor: pointer;\n",
              "    display: none;\n",
              "    fill: var(--fill-color);\n",
              "    height: 32px;\n",
              "    padding: 0;\n",
              "    width: 32px;\n",
              "  }\n",
              "\n",
              "  .colab-df-quickchart:hover {\n",
              "    background-color: var(--hover-bg-color);\n",
              "    box-shadow: 0 1px 2px rgba(60, 64, 67, 0.3), 0 1px 3px 1px rgba(60, 64, 67, 0.15);\n",
              "    fill: var(--button-hover-fill-color);\n",
              "  }\n",
              "\n",
              "  .colab-df-quickchart-complete:disabled,\n",
              "  .colab-df-quickchart-complete:disabled:hover {\n",
              "    background-color: var(--disabled-bg-color);\n",
              "    fill: var(--disabled-fill-color);\n",
              "    box-shadow: none;\n",
              "  }\n",
              "\n",
              "  .colab-df-spinner {\n",
              "    border: 2px solid var(--fill-color);\n",
              "    border-color: transparent;\n",
              "    border-bottom-color: var(--fill-color);\n",
              "    animation:\n",
              "      spin 1s steps(1) infinite;\n",
              "  }\n",
              "\n",
              "  @keyframes spin {\n",
              "    0% {\n",
              "      border-color: transparent;\n",
              "      border-bottom-color: var(--fill-color);\n",
              "      border-left-color: var(--fill-color);\n",
              "    }\n",
              "    20% {\n",
              "      border-color: transparent;\n",
              "      border-left-color: var(--fill-color);\n",
              "      border-top-color: var(--fill-color);\n",
              "    }\n",
              "    30% {\n",
              "      border-color: transparent;\n",
              "      border-left-color: var(--fill-color);\n",
              "      border-top-color: var(--fill-color);\n",
              "      border-right-color: var(--fill-color);\n",
              "    }\n",
              "    40% {\n",
              "      border-color: transparent;\n",
              "      border-right-color: var(--fill-color);\n",
              "      border-top-color: var(--fill-color);\n",
              "    }\n",
              "    60% {\n",
              "      border-color: transparent;\n",
              "      border-right-color: var(--fill-color);\n",
              "    }\n",
              "    80% {\n",
              "      border-color: transparent;\n",
              "      border-right-color: var(--fill-color);\n",
              "      border-bottom-color: var(--fill-color);\n",
              "    }\n",
              "    90% {\n",
              "      border-color: transparent;\n",
              "      border-bottom-color: var(--fill-color);\n",
              "    }\n",
              "  }\n",
              "</style>\n",
              "\n",
              "  <script>\n",
              "    async function quickchart(key) {\n",
              "      const quickchartButtonEl =\n",
              "        document.querySelector('#' + key + ' button');\n",
              "      quickchartButtonEl.disabled = true;  // To prevent multiple clicks.\n",
              "      quickchartButtonEl.classList.add('colab-df-spinner');\n",
              "      try {\n",
              "        const charts = await google.colab.kernel.invokeFunction(\n",
              "            'suggestCharts', [key], {});\n",
              "      } catch (error) {\n",
              "        console.error('Error during call to suggestCharts:', error);\n",
              "      }\n",
              "      quickchartButtonEl.classList.remove('colab-df-spinner');\n",
              "      quickchartButtonEl.classList.add('colab-df-quickchart-complete');\n",
              "    }\n",
              "    (() => {\n",
              "      let quickchartButtonEl =\n",
              "        document.querySelector('#df-f9cd48bc-05b6-4de1-92bb-42d4255eaa96 button');\n",
              "      quickchartButtonEl.style.display =\n",
              "        google.colab.kernel.accessAllowed ? 'block' : 'none';\n",
              "    })();\n",
              "  </script>\n",
              "</div>\n",
              "\n",
              "  <div id=\"id_83f9b43a-9ba0-4c44-979a-90115baa6966\">\n",
              "    <style>\n",
              "      .colab-df-generate {\n",
              "        background-color: #E8F0FE;\n",
              "        border: none;\n",
              "        border-radius: 50%;\n",
              "        cursor: pointer;\n",
              "        display: none;\n",
              "        fill: #1967D2;\n",
              "        height: 32px;\n",
              "        padding: 0 0 0 0;\n",
              "        width: 32px;\n",
              "      }\n",
              "\n",
              "      .colab-df-generate:hover {\n",
              "        background-color: #E2EBFA;\n",
              "        box-shadow: 0px 1px 2px rgba(60, 64, 67, 0.3), 0px 1px 3px 1px rgba(60, 64, 67, 0.15);\n",
              "        fill: #174EA6;\n",
              "      }\n",
              "\n",
              "      [theme=dark] .colab-df-generate {\n",
              "        background-color: #3B4455;\n",
              "        fill: #D2E3FC;\n",
              "      }\n",
              "\n",
              "      [theme=dark] .colab-df-generate:hover {\n",
              "        background-color: #434B5C;\n",
              "        box-shadow: 0px 1px 3px 1px rgba(0, 0, 0, 0.15);\n",
              "        filter: drop-shadow(0px 1px 2px rgba(0, 0, 0, 0.3));\n",
              "        fill: #FFFFFF;\n",
              "      }\n",
              "    </style>\n",
              "    <button class=\"colab-df-generate\" onclick=\"generateWithVariable('tweets')\"\n",
              "            title=\"Generate code using this dataframe.\"\n",
              "            style=\"display:none;\">\n",
              "\n",
              "  <svg xmlns=\"http://www.w3.org/2000/svg\" height=\"24px\"viewBox=\"0 0 24 24\"\n",
              "       width=\"24px\">\n",
              "    <path d=\"M7,19H8.4L18.45,9,17,7.55,7,17.6ZM5,21V16.75L18.45,3.32a2,2,0,0,1,2.83,0l1.4,1.43a1.91,1.91,0,0,1,.58,1.4,1.91,1.91,0,0,1-.58,1.4L9.25,21ZM18.45,9,17,7.55Zm-12,3A5.31,5.31,0,0,0,4.9,8.1,5.31,5.31,0,0,0,1,6.5,5.31,5.31,0,0,0,4.9,4.9,5.31,5.31,0,0,0,6.5,1,5.31,5.31,0,0,0,8.1,4.9,5.31,5.31,0,0,0,12,6.5,5.46,5.46,0,0,0,6.5,12Z\"/>\n",
              "  </svg>\n",
              "    </button>\n",
              "    <script>\n",
              "      (() => {\n",
              "      const buttonEl =\n",
              "        document.querySelector('#id_83f9b43a-9ba0-4c44-979a-90115baa6966 button.colab-df-generate');\n",
              "      buttonEl.style.display =\n",
              "        google.colab.kernel.accessAllowed ? 'block' : 'none';\n",
              "\n",
              "      buttonEl.onclick = () => {\n",
              "        google.colab.notebook.generateWithVariable('tweets');\n",
              "      }\n",
              "      })();\n",
              "    </script>\n",
              "  </div>\n",
              "\n",
              "    </div>\n",
              "  </div>\n"
            ]
          },
          "metadata": {},
          "execution_count": 10
        }
      ],
      "source": [
        "import contractions, emoji, re, unidecode\n",
        "\n",
        "from nltk.stem import PorterStemmer\n",
        "\n",
        "class TweetSweeper:\n",
        "    def __init__(self, tweets):\n",
        "        self.tweets = tweets\n",
        "        self.stemmer = PorterStemmer()\n",
        "        self.tweets['text'] = self.tweets['text'].apply(lambda x: contractions.fix(x))\n",
        "        self.tweets['text'] = self.tweets['text'].apply(lambda x: self.demojize(x))\n",
        "        self.tweets['hashtags'] = self.tweets['text'].apply(lambda x: [x for x in x.split(\" \") if x.startswith(\"#\")])\n",
        "        # Keyword\n",
        "        self.tweets['keyword'] = self.tweets['keyword'].apply(str)\n",
        "        self.tweets['keyword'] = self.tweets['keyword'].apply(lambda x: self.clean_keywords(x))\n",
        "        self.tweets['keyword'] = self.tweets['keyword'].apply(lambda x: self.remove_accents(x))\n",
        "        self.tweets['keyword'] = self.tweets['keyword'].apply(lambda x: self.remove_punctuation(x))\n",
        "        self.tweets['stems'] = self.tweets['keyword'].apply(lambda x: self.stemmer.stem(x))\n",
        "        # Location\n",
        "        self.tweets['location'] = self.tweets['location'].apply(str)\n",
        "        self.tweets['location'] = self.tweets['location'].apply(lambda x: self.remove_accents(x))\n",
        "        self.tweets['location'] = self.tweets['location'].apply(lambda x: self.remove_punctuation(x))\n",
        "        self.tweets['location'] = self.tweets['location'].apply(lambda x: self.remove_extra_w_space(x))\n",
        "        self.tweets['location'] = self.tweets['location'].apply(lambda x: self.remove_nums(x))\n",
        "\n",
        "        # Counts\n",
        "        self.tweets['emojis'] = self.tweets['text'].apply(self.emoji_count)\n",
        "        self.tweets['num_hashtags'] = self.tweets['text'].apply(self.hash_count)\n",
        "\n",
        "    def demojize(self, tweet):\n",
        "        emojis = re.compile(\"[\"\n",
        "            u\"\\U0001F600-\\U0001F64F\"  # emoticons\n",
        "            u\"\\U0001F300-\\U0001F5FF\"  # symbols & pictographs\n",
        "            u\"\\U0001F680-\\U0001F6FF\"  # transport & map symbols\n",
        "            u\"\\U0001F1E0-\\U0001F1FF\"  # flags (iOS)\n",
        "            u\"\\U00002702-\\U000027B0\"\n",
        "            u\"\\U000024C2-\\U0001F251\"\n",
        "            \"]+\", flags = re.UNICODE)\n",
        "        cleaned_text = emojis.sub(r'', tweet)\n",
        "        return cleaned_text\n",
        "\n",
        "    def emoji_count(self, tweet):\n",
        "        tweet = emoji.demojize(tweet, delimiters=('__','__'))\n",
        "        pattern = r'_+[a-z_&]+_+'\n",
        "        return len(re.findall(pattern, tweet))\n",
        "\n",
        "    def hash_count(self, string):\n",
        "        words = string.split()\n",
        "        hashtags = [word for word in words if word.startswith('#')]\n",
        "        return len(hashtags)\n",
        "\n",
        "    def clean_keywords(self, keyword):\n",
        "        cleaned = re.sub(r'%20', ' ', keyword)\n",
        "        return cleaned\n",
        "\n",
        "    def remove_accents(self, keyword):\n",
        "        cleaned = unidecode.unidecode(keyword)\n",
        "        return cleaned\n",
        "\n",
        "    def remove_punctuation(self, keyword):\n",
        "        cleaned = re.sub(r\"[!\\\"#$%&()*+-./:;<=>?@[\\]^_`{|}~\\n -' ]\",\" \",keyword)\n",
        "        return cleaned\n",
        "\n",
        "    def remove_nums(self, location):\n",
        "        cleaned = re.sub(r'\\d+', '', location)\n",
        "        return cleaned\n",
        "\n",
        "    def remove_extra_w_space(self, location):\n",
        "        cleaned_text = re.sub(r\"\\s+\",\" \", location).strip()\n",
        "        return cleaned_text\n",
        "\n",
        "tweets = train_data.sample(n=10, random_state=23)\n",
        "test = TweetSweeper(tweets)\n",
        "test.tweets"
      ]
    },
    {
      "cell_type": "markdown",
      "id": "d9673994",
      "metadata": {
        "papermill": {
          "duration": 0.014231,
          "end_time": "2023-08-18T16:44:05.619818",
          "exception": false,
          "start_time": "2023-08-18T16:44:05.605587",
          "status": "completed"
        },
        "tags": [],
        "id": "d9673994"
      },
      "source": [
        "Process the tweets now .."
      ]
    },
    {
      "cell_type": "code",
      "execution_count": 11,
      "id": "825f6152",
      "metadata": {
        "execution": {
          "iopub.execute_input": "2023-08-18T16:44:05.640077Z",
          "iopub.status.busy": "2023-08-18T16:44:05.639734Z",
          "iopub.status.idle": "2023-08-18T16:44:05.643411Z",
          "shell.execute_reply": "2023-08-18T16:44:05.642747Z"
        },
        "papermill": {
          "duration": 0.017072,
          "end_time": "2023-08-18T16:44:05.646059",
          "exception": false,
          "start_time": "2023-08-18T16:44:05.628987",
          "status": "completed"
        },
        "tags": [],
        "id": "825f6152"
      },
      "outputs": [],
      "source": [
        "#sweep = TweetSweeper(df)\n",
        "#df['text'] = sweep.tweets['text']"
      ]
    },
    {
      "cell_type": "markdown",
      "id": "16367200",
      "metadata": {
        "papermill": {
          "duration": 0.008924,
          "end_time": "2023-08-18T16:44:05.664015",
          "exception": false,
          "start_time": "2023-08-18T16:44:05.655091",
          "status": "completed"
        },
        "tags": [],
        "id": "16367200"
      },
      "source": [
        "## BERT Preprocessor & Encoder"
      ]
    },
    {
      "cell_type": "code",
      "execution_count": 12,
      "id": "c66aab40",
      "metadata": {
        "execution": {
          "iopub.execute_input": "2023-08-18T16:44:05.683936Z",
          "iopub.status.busy": "2023-08-18T16:44:05.683139Z",
          "iopub.status.idle": "2023-08-18T16:44:42.561329Z",
          "shell.execute_reply": "2023-08-18T16:44:42.560458Z"
        },
        "papermill": {
          "duration": 36.925008,
          "end_time": "2023-08-18T16:44:42.598154",
          "exception": false,
          "start_time": "2023-08-18T16:44:05.673146",
          "status": "completed"
        },
        "tags": [],
        "id": "c66aab40",
        "outputId": "1090e4c1-aa92-48b4-9a88-b59c7d028cc6",
        "colab": {
          "base_uri": "https://localhost:8080/"
        }
      },
      "outputs": [
        {
          "output_type": "stream",
          "name": "stdout",
          "text": [
            "Model: \"model\"\n",
            "__________________________________________________________________________________________________\n",
            " Layer (type)                Output Shape                 Param #   Connected to                  \n",
            "==================================================================================================\n",
            " text-layer (InputLayer)     [(None,)]                    0         []                            \n",
            "                                                                                                  \n",
            " keras_layer (KerasLayer)    {'input_mask': (None, 128)   0         ['text-layer[0][0]']          \n",
            "                             , 'input_type_ids': (None,                                           \n",
            "                              128),                                                               \n",
            "                              'input_word_ids': (None,                                            \n",
            "                             128)}                                                                \n",
            "                                                                                                  \n",
            " keras_layer_1 (KerasLayer)  {'encoder_outputs': [(None   1094822   ['keras_layer[0][0]',         \n",
            "                             , 128, 768),                 41         'keras_layer[0][1]',         \n",
            "                              (None, 128, 768),                      'keras_layer[0][2]']         \n",
            "                              (None, 128, 768),                                                   \n",
            "                              (None, 128, 768),                                                   \n",
            "                              (None, 128, 768),                                                   \n",
            "                              (None, 128, 768),                                                   \n",
            "                              (None, 128, 768),                                                   \n",
            "                              (None, 128, 768),                                                   \n",
            "                              (None, 128, 768),                                                   \n",
            "                              (None, 128, 768),                                                   \n",
            "                              (None, 128, 768),                                                   \n",
            "                              (None, 128, 768)],                                                  \n",
            "                              'default': (None, 768),                                             \n",
            "                              'pooled_output': (None, 7                                           \n",
            "                             68),                                                                 \n",
            "                              'sequence_output': (None,                                           \n",
            "                              128, 768)}                                                          \n",
            "                                                                                                  \n",
            " dropout-layer (Dropout)     (None, 768)                  0         ['keras_layer_1[0][13]']      \n",
            "                                                                                                  \n",
            " output (Dense)              (None, 1)                    769       ['dropout-layer[0][0]']       \n",
            "                                                                                                  \n",
            "==================================================================================================\n",
            "Total params: 109483010 (417.64 MB)\n",
            "Trainable params: 769 (3.00 KB)\n",
            "Non-trainable params: 109482241 (417.64 MB)\n",
            "__________________________________________________________________________________________________\n"
          ]
        }
      ],
      "source": [
        "def build_model():\n",
        "    bert_preprocess = hub.KerasLayer(\"https://tfhub.dev/tensorflow/bert_en_uncased_preprocess/3\")\n",
        "    bert_encoder = hub.KerasLayer(\"https://tfhub.dev/tensorflow/bert_en_uncased_L-12_H-768_A-12/4\")\n",
        "\n",
        "    text_input = tf.keras.layers.Input(shape=(), dtype=tf.string, name='text-layer')\n",
        "    preprocessed_text = bert_preprocess(text_input)\n",
        "    outputs = bert_encoder(preprocessed_text)\n",
        "\n",
        "    d_layer = tf.keras.layers.Dropout(0.1, name='dropout-layer')(outputs['pooled_output'])\n",
        "    d_layer = tf.keras.layers.Dense(1, activation='sigmoid', name='output')(d_layer)\n",
        "\n",
        "    model = tf.keras.Model(inputs=[text_input], outputs = [d_layer])\n",
        "\n",
        "    metrics = [\n",
        "        tf.keras.metrics.BinaryAccuracy(name='accuracy'),\n",
        "        tf.keras.metrics.Recall(name='f1_score')\n",
        "    ]\n",
        "\n",
        "    model.compile(optimizer='adam', loss='binary_crossentropy', metrics=metrics)\n",
        "    return model\n",
        "\n",
        "model = build_model()\n",
        "model.summary()"
      ]
    },
    {
      "cell_type": "code",
      "source": [
        "tf.keras.utils.plot_model(model, show_shapes=True) #, rankdir=\"LR\")"
      ],
      "metadata": {
        "colab": {
          "base_uri": "https://localhost:8080/",
          "height": 329
        },
        "id": "amOZe6vFIRBA",
        "outputId": "ebfe1a2b-8edb-4b5c-d834-9dce923dabfe"
      },
      "id": "amOZe6vFIRBA",
      "execution_count": 26,
      "outputs": [
        {
          "output_type": "execute_result",
          "data": {
            "image/png": "[encoded data removed]",
            "text/plain": [
              "<IPython.core.display.Image object>"
            ]
          },
          "metadata": {},
          "execution_count": 26
        }
      ]
    },
    {
      "cell_type": "markdown",
      "id": "67b2fa71",
      "metadata": {
        "papermill": {
          "duration": 0.015569,
          "end_time": "2023-08-18T16:44:42.626188",
          "exception": false,
          "start_time": "2023-08-18T16:44:42.610619",
          "status": "completed"
        },
        "tags": [],
        "id": "67b2fa71"
      },
      "source": [
        "### Train / Validation / Test Splits"
      ]
    },
    {
      "cell_type": "markdown",
      "id": "232e6556",
      "metadata": {
        "papermill": {
          "duration": 0.01315,
          "end_time": "2023-08-18T16:44:42.652430",
          "exception": false,
          "start_time": "2023-08-18T16:44:42.639280",
          "status": "completed"
        },
        "tags": [],
        "id": "232e6556"
      },
      "source": [
        "First split your whole data into train and test set. Then split the train set into train and validation sets as shown below."
      ]
    },
    {
      "cell_type": "code",
      "execution_count": 32,
      "id": "2af088cc",
      "metadata": {
        "execution": {
          "iopub.execute_input": "2023-08-18T16:44:42.680750Z",
          "iopub.status.busy": "2023-08-18T16:44:42.680431Z",
          "iopub.status.idle": "2023-08-18T16:44:42.694728Z",
          "shell.execute_reply": "2023-08-18T16:44:42.693779Z"
        },
        "papermill": {
          "duration": 0.031548,
          "end_time": "2023-08-18T16:44:42.697220",
          "exception": false,
          "start_time": "2023-08-18T16:44:42.665672",
          "status": "completed"
        },
        "tags": [],
        "id": "2af088cc"
      },
      "outputs": [],
      "source": [
        "# 60/20/20 split\n",
        "X_train, X_test, y_train, y_test = train_test_split(df['text'], df['target'], test_size=0.2, stratify=df['target'], random_state=1) # 0.8 train, 0.2 test\n",
        "\n",
        "X_train, X_val, y_train, y_val = train_test_split(X_train, y_train, test_size=0.25, random_state=1) # 0.25 x 0.8 = 0.2 val"
      ]
    },
    {
      "cell_type": "markdown",
      "id": "00d6dbc4",
      "metadata": {
        "papermill": {
          "duration": 0.013227,
          "end_time": "2023-08-18T16:44:42.724320",
          "exception": false,
          "start_time": "2023-08-18T16:44:42.711093",
          "status": "completed"
        },
        "tags": [],
        "id": "00d6dbc4"
      },
      "source": [
        "## Model Training"
      ]
    },
    {
      "cell_type": "code",
      "source": [
        "from tensorflow import keras\n",
        "from matplotlib import pyplot as plt\n",
        "from IPython.display import clear_output\n",
        "\n",
        "class PlotLearning(keras.callbacks.Callback):\n",
        "    \"\"\"\n",
        "    Callback to plot the learning curves of the model during training.\n",
        "\n",
        "    ref:\n",
        "    1. https://medium.com/geekculture/how-to-plot-model-loss-while-training-in-tensorflow-9fa1a1875a5\n",
        "    2. https://gist.github.com/danicrg/ab3bc7c330ce152bcf643231de4820e9\n",
        "    \"\"\"\n",
        "    def on_train_begin(self, logs={}):\n",
        "        self.metrics = {}\n",
        "        for metric in logs:\n",
        "            self.metrics[metric] = []\n",
        "\n",
        "\n",
        "    def on_epoch_end(self, epoch, logs={}):\n",
        "        # Storing metrics\n",
        "        for metric in logs:\n",
        "            if metric in self.metrics:\n",
        "                self.metrics[metric].append(logs.get(metric))\n",
        "            else:\n",
        "                self.metrics[metric] = [logs.get(metric)]\n",
        "\n",
        "        # Plotting\n",
        "        metrics = [x for x in logs if 'val' not in x]\n",
        "\n",
        "        f, axs = plt.subplots(1, len(metrics), figsize=(15,5))\n",
        "        clear_output(wait=True)\n",
        "\n",
        "        for i, metric in enumerate(metrics):\n",
        "            axs[i].plot(range(1, epoch + 2),\n",
        "                        self.metrics[metric],\n",
        "                        label=metric)\n",
        "            if logs['val_' + metric]:\n",
        "                axs[i].plot(range(1, epoch + 2),\n",
        "                            self.metrics['val_' + metric],\n",
        "                            label='val_' + metric)\n",
        "\n",
        "            axs[i].legend()\n",
        "            axs[i].grid()\n",
        "\n",
        "        plt.tight_layout()\n",
        "        plt.show()"
      ],
      "metadata": {
        "id": "yvJcv92dM2Vs"
      },
      "id": "yvJcv92dM2Vs",
      "execution_count": 14,
      "outputs": []
    },
    {
      "cell_type": "code",
      "source": [
        "tf.config.get_visible_devices()"
      ],
      "metadata": {
        "colab": {
          "base_uri": "https://localhost:8080/"
        },
        "id": "ZZycteMKOXLQ",
        "outputId": "6ae6befc-d54b-44e7-85d7-1375bb3392b9"
      },
      "id": "ZZycteMKOXLQ",
      "execution_count": 15,
      "outputs": [
        {
          "output_type": "execute_result",
          "data": {
            "text/plain": [
              "[PhysicalDevice(name='/physical_device:CPU:0', device_type='CPU'),\n",
              " PhysicalDevice(name='/physical_device:GPU:0', device_type='GPU')]"
            ]
          },
          "metadata": {},
          "execution_count": 15
        }
      ]
    },
    {
      "cell_type": "code",
      "execution_count": 17,
      "id": "5a54aabd",
      "metadata": {
        "execution": {
          "iopub.execute_input": "2023-08-18T16:44:42.751996Z",
          "iopub.status.busy": "2023-08-18T16:44:42.751656Z",
          "iopub.status.idle": "2023-08-18T17:50:39.540709Z",
          "shell.execute_reply": "2023-08-18T17:50:39.539279Z"
        },
        "papermill": {
          "duration": 3956.805156,
          "end_time": "2023-08-18T17:50:39.542690",
          "exception": false,
          "start_time": "2023-08-18T16:44:42.737534",
          "status": "completed"
        },
        "tags": [],
        "id": "5a54aabd",
        "outputId": "a2d564e8-cb14-481d-823d-e73c0709e096",
        "colab": {
          "base_uri": "https://localhost:8080/",
          "height": 524
        }
      },
      "outputs": [
        {
          "output_type": "display_data",
          "data": {
            "text/plain": [
              "<Figure size 1500x500 with 3 Axes>"
            ],
            "image/png": "[encoded data removed]"
          },
          "metadata": {}
        },
        {
          "output_type": "stream",
          "name": "stdout",
          "text": [
            "\b\b\b\b\b\b\b\b\b\b\b\b\b\b\b\b\b\b\b\b\b\b\b\b\b\b\b\b\b\b\b\b\b\b\b\b\b\b\b\b\b\b\b\b\b\b\b\b\b\b\b\b\b\b\b\b\b\b\b\b\b\b\b\b\b\b\b\b\b\b\b\b\b\b\b\b\b\b\b\b\b\b\b\b\b\b\b\b\b\b\b\b\b\b\b\b\b\b\b\b\b\r18/18 [==============================] - 50s 3s/step - loss: 0.5026 - accuracy: 0.7653 - f1_score: 0.6636 - val_loss: 0.4885 - val_accuracy: 0.7800 - val_f1_score: 0.6565\n"
          ]
        }
      ],
      "source": [
        "# Use Accuracy: Update the example to monitor accuracy on the test dataset rather than loss,\n",
        "# and plot learning curves showing accuracy.\n",
        "es = EarlyStopping(monitor='val_loss', mode='auto', verbose=1, patience=7)\n",
        "\n",
        "# Typically you can increase the GPU load by increasing the batch dimension\n",
        "#with tf.device('/device:GPU:0'):\n",
        "history = model.fit(X_train, y_train, validation_data=(X_val, y_val), epochs=100, batch_size=256, callbacks=[es, PlotLearning()])"
      ]
    },
    {
      "cell_type": "code",
      "execution_count": 18,
      "id": "f271dd4a",
      "metadata": {
        "execution": {
          "iopub.execute_input": "2023-08-18T17:50:41.541556Z",
          "iopub.status.busy": "2023-08-18T17:50:41.540537Z",
          "iopub.status.idle": "2023-08-18T17:52:14.785871Z",
          "shell.execute_reply": "2023-08-18T17:52:14.784853Z"
        },
        "papermill": {
          "duration": 95.216489,
          "end_time": "2023-08-18T17:52:15.732075",
          "exception": false,
          "start_time": "2023-08-18T17:50:40.515586",
          "status": "completed"
        },
        "tags": [],
        "id": "f271dd4a",
        "outputId": "f3b60527-8e5a-459a-a55a-2b2d8e1ad4ec",
        "colab": {
          "base_uri": "https://localhost:8080/"
        }
      },
      "outputs": [
        {
          "output_type": "stream",
          "name": "stdout",
          "text": [
            "[ACC] Train: 0.779, Val: 0.780\n",
            "[F1]  Train: 0.649, Val: 0.656\n"
          ]
        }
      ],
      "source": [
        "train_loss, train_acc, train_f1 = model.evaluate(X_train, y_train, verbose=0)\n",
        "val_loss, val_acc, val_f1 = model.evaluate(X_val, y_val, verbose=0)\n",
        "\n",
        "print('[ACC] Train: %.3f, Val: %.3f' % (train_acc, val_acc))\n",
        "print('[F1]  Train: %.3f, Val: %.3f' % (train_f1, val_f1))"
      ]
    },
    {
      "cell_type": "code",
      "execution_count": 36,
      "id": "d6e8412b",
      "metadata": {
        "execution": {
          "iopub.execute_input": "2023-08-18T17:52:17.688951Z",
          "iopub.status.busy": "2023-08-18T17:52:17.688599Z",
          "iopub.status.idle": "2023-08-18T17:52:17.969342Z",
          "shell.execute_reply": "2023-08-18T17:52:17.968294Z"
        },
        "papermill": {
          "duration": 1.233861,
          "end_time": "2023-08-18T17:52:17.971491",
          "exception": false,
          "start_time": "2023-08-18T17:52:16.737630",
          "status": "completed"
        },
        "tags": [],
        "id": "d6e8412b"
      },
      "outputs": [],
      "source": [
        "# plot log loss graph to determine how many epochs we need.\n",
        "\n",
        "#pyplot.plot(history.history['loss'], label='train')\n",
        "#pyplot.plot(history.history['val_loss'], label='val')\n",
        "#pyplot.legend()\n",
        "#pyplot.show()"
      ]
    },
    {
      "cell_type": "markdown",
      "id": "f74ba0c7",
      "metadata": {
        "papermill": {
          "duration": 0.945007,
          "end_time": "2023-08-18T17:52:19.916352",
          "exception": false,
          "start_time": "2023-08-18T17:52:18.971345",
          "status": "completed"
        },
        "tags": [],
        "id": "f74ba0c7"
      },
      "source": [
        "## Classification Report\n",
        "\n",
        "A confusion matrix and classification report is a very statistically neat way to understand the performance of your model and take decisions accordingly, in case any improvement is required.\n",
        "\n",
        "**Note:** Evaluate the final model on the \"test\" split.Evaluate the final model on the \"test\" split."
      ]
    },
    {
      "cell_type": "code",
      "execution_count": 34,
      "id": "9c6e5d3a",
      "metadata": {
        "execution": {
          "iopub.execute_input": "2023-08-18T17:52:21.877463Z",
          "iopub.status.busy": "2023-08-18T17:52:21.877076Z",
          "iopub.status.idle": "2023-08-18T17:52:33.213239Z",
          "shell.execute_reply": "2023-08-18T17:52:33.212284Z"
        },
        "papermill": {
          "duration": 12.287329,
          "end_time": "2023-08-18T17:52:33.215258",
          "exception": false,
          "start_time": "2023-08-18T17:52:20.927929",
          "status": "completed"
        },
        "tags": [],
        "id": "9c6e5d3a",
        "outputId": "e380b3f0-1010-47f3-d739-d6c28de27edf",
        "colab": {
          "base_uri": "https://localhost:8080/",
          "height": 582
        }
      },
      "outputs": [
        {
          "output_type": "stream",
          "name": "stdout",
          "text": [
            "48/48 [==============================] - 6s 122ms/step\n"
          ]
        },
        {
          "output_type": "display_data",
          "data": {
            "text/plain": [
              "<Figure size 800x600 with 2 Axes>"
            ],
            "image/png": "[encoded data removed]"
          },
          "metadata": {}
        }
      ],
      "source": [
        "y_predicted = model.predict(X_test)\n",
        "y_predicted = y_predicted.flatten()\n",
        "y_predicted = np.where(y_predicted > 0.5, 1, 0)\n",
        "\n",
        "matrix = confusion_matrix(y_test, y_predicted)\n",
        "\n",
        "def plot_confusion_matrix(confusion_matrix, labels):\n",
        "    plt.figure(figsize=(8, 6))\n",
        "    sns.heatmap(confusion_matrix, annot=True, cmap='Blues', fmt='d', xticklabels=labels, yticklabels=labels)\n",
        "    plt.xlabel('Predicted Labels')\n",
        "    plt.ylabel('True Labels')\n",
        "    plt.title('Confusion Matrix')\n",
        "    plt.show()\n",
        "\n",
        "class_labels = ['Target 0', 'Target 1']\n",
        "plot_confusion_matrix(matrix, class_labels)"
      ]
    },
    {
      "cell_type": "code",
      "execution_count": 35,
      "id": "f19ae6bd",
      "metadata": {
        "execution": {
          "iopub.execute_input": "2023-08-18T17:52:35.252723Z",
          "iopub.status.busy": "2023-08-18T17:52:35.252312Z",
          "iopub.status.idle": "2023-08-18T17:52:35.267700Z",
          "shell.execute_reply": "2023-08-18T17:52:35.266425Z"
        },
        "papermill": {
          "duration": 0.968262,
          "end_time": "2023-08-18T17:52:35.269723",
          "exception": false,
          "start_time": "2023-08-18T17:52:34.301461",
          "status": "completed"
        },
        "tags": [],
        "id": "f19ae6bd",
        "outputId": "8332b533-bb09-4110-b9ba-c18eb28255b0",
        "colab": {
          "base_uri": "https://localhost:8080/"
        }
      },
      "outputs": [
        {
          "output_type": "stream",
          "name": "stdout",
          "text": [
            "              precision    recall  f1-score   support\n",
            "\n",
            "           0       0.77      0.88      0.82       869\n",
            "           1       0.80      0.65      0.72       654\n",
            "\n",
            "    accuracy                           0.78      1523\n",
            "   macro avg       0.78      0.76      0.77      1523\n",
            "weighted avg       0.78      0.78      0.77      1523\n",
            "\n"
          ]
        }
      ],
      "source": [
        "print(classification_report(y_test, y_predicted))"
      ]
    },
    {
      "cell_type": "markdown",
      "id": "aa338e25",
      "metadata": {
        "papermill": {
          "duration": 1.065171,
          "end_time": "2023-08-18T17:52:37.301844",
          "exception": false,
          "start_time": "2023-08-18T17:52:36.236673",
          "status": "completed"
        },
        "tags": [],
        "id": "aa338e25"
      },
      "source": [
        "We used f1_score to validate our results, this is a competition requirement."
      ]
    },
    {
      "cell_type": "code",
      "execution_count": 22,
      "id": "9b4bd00e",
      "metadata": {
        "execution": {
          "iopub.execute_input": "2023-08-18T17:52:39.272835Z",
          "iopub.status.busy": "2023-08-18T17:52:39.272465Z",
          "iopub.status.idle": "2023-08-18T17:52:39.287063Z",
          "shell.execute_reply": "2023-08-18T17:52:39.286031Z"
        },
        "papermill": {
          "duration": 1.030467,
          "end_time": "2023-08-18T17:52:39.289450",
          "exception": false,
          "start_time": "2023-08-18T17:52:38.258983",
          "status": "completed"
        },
        "tags": [],
        "id": "9b4bd00e",
        "outputId": "479db26a-e36f-4261-a2c1-7c21fdd84025",
        "colab": {
          "base_uri": "https://localhost:8080/"
        }
      },
      "outputs": [
        {
          "output_type": "stream",
          "name": "stdout",
          "text": [
            "ROC-AUC: 76.3%\n",
            "f1: 71.6%\n"
          ]
        }
      ],
      "source": [
        "auc_roc = roc_auc_score(y_test, y_predicted)\n",
        "f1 = f1_score(y_test, y_predicted)\n",
        "\n",
        "print(f'ROC-AUC: {auc_roc:.1%}')\n",
        "print(f'f1: {f1:.1%}')"
      ]
    },
    {
      "cell_type": "markdown",
      "id": "5d9e0cdc",
      "metadata": {
        "papermill": {
          "duration": 1.011571,
          "end_time": "2023-08-18T17:52:41.256877",
          "exception": false,
          "start_time": "2023-08-18T17:52:40.245306",
          "status": "completed"
        },
        "tags": [],
        "id": "5d9e0cdc"
      },
      "source": [
        "## Submission"
      ]
    },
    {
      "cell_type": "code",
      "execution_count": 23,
      "id": "69831392",
      "metadata": {
        "execution": {
          "iopub.execute_input": "2023-08-18T17:52:43.163724Z",
          "iopub.status.busy": "2023-08-18T17:52:43.163331Z",
          "iopub.status.idle": "2023-08-18T17:53:24.210264Z",
          "shell.execute_reply": "2023-08-18T17:53:24.209296Z"
        },
        "papermill": {
          "duration": 43.041783,
          "end_time": "2023-08-18T17:53:25.245596",
          "exception": false,
          "start_time": "2023-08-18T17:52:42.203813",
          "status": "completed"
        },
        "tags": [],
        "id": "69831392",
        "outputId": "c536220c-7d91-42c4-f690-a58af58cc93f",
        "colab": {
          "base_uri": "https://localhost:8080/",
          "height": 224
        }
      },
      "outputs": [
        {
          "output_type": "stream",
          "name": "stdout",
          "text": [
            "102/102 [==============================] - 12s 121ms/step\n"
          ]
        },
        {
          "output_type": "execute_result",
          "data": {
            "text/plain": [
              "   id keyword location  \\\n",
              "0  0   NaN     NaN       \n",
              "1  2   NaN     NaN       \n",
              "2  3   NaN     NaN       \n",
              "3  9   NaN     NaN       \n",
              "4  11  NaN     NaN       \n",
              "\n",
              "                                                                                               text  \\\n",
              "0  Just happened a terrible car crash                                                                 \n",
              "1  Heard about #earthquake is different cities, stay safe everyone.                                   \n",
              "2  there is a forest fire at spot pond, geese are fleeing across the street, I cannot save them all   \n",
              "3  Apocalypse lighting. #Spokane #wildfires                                                           \n",
              "4  Typhoon Soudelor kills 28 in China and Taiwan                                                      \n",
              "\n",
              "   target  \n",
              "0  0       \n",
              "1  0       \n",
              "2  1       \n",
              "3  1       \n",
              "4  1       "
            ],
            "text/html": [
              "\n",
              "  <div id=\"df-52e7dab1-4b8b-4a67-8dd2-5056addd39b6\" class=\"colab-df-container\">\n",
              "    <div>\n",
              "<style scoped>\n",
              "    .dataframe tbody tr th:only-of-type {\n",
              "        vertical-align: middle;\n",
              "    }\n",
              "\n",
              "    .dataframe tbody tr th {\n",
              "        vertical-align: top;\n",
              "    }\n",
              "\n",
              "    .dataframe thead th {\n",
              "        text-align: right;\n",
              "    }\n",
              "</style>\n",
              "<table border=\"1\" class=\"dataframe\">\n",
              "  <thead>\n",
              "    <tr style=\"text-align: right;\">\n",
              "      <th></th>\n",
              "      <th>id</th>\n",
              "      <th>keyword</th>\n",
              "      <th>location</th>\n",
              "      <th>text</th>\n",
              "      <th>target</th>\n",
              "    </tr>\n",
              "  </thead>\n",
              "  <tbody>\n",
              "    <tr>\n",
              "      <th>0</th>\n",
              "      <td>0</td>\n",
              "      <td>NaN</td>\n",
              "      <td>NaN</td>\n",
              "      <td>Just happened a terrible car crash</td>\n",
              "      <td>0</td>\n",
              "    </tr>\n",
              "    <tr>\n",
              "      <th>1</th>\n",
              "      <td>2</td>\n",
              "      <td>NaN</td>\n",
              "      <td>NaN</td>\n",
              "      <td>Heard about #earthquake is different cities, stay safe everyone.</td>\n",
              "      <td>0</td>\n",
              "    </tr>\n",
              "    <tr>\n",
              "      <th>2</th>\n",
              "      <td>3</td>\n",
              "      <td>NaN</td>\n",
              "      <td>NaN</td>\n",
              "      <td>there is a forest fire at spot pond, geese are fleeing across the street, I cannot save them all</td>\n",
              "      <td>1</td>\n",
              "    </tr>\n",
              "    <tr>\n",
              "      <th>3</th>\n",
              "      <td>9</td>\n",
              "      <td>NaN</td>\n",
              "      <td>NaN</td>\n",
              "      <td>Apocalypse lighting. #Spokane #wildfires</td>\n",
              "      <td>1</td>\n",
              "    </tr>\n",
              "    <tr>\n",
              "      <th>4</th>\n",
              "      <td>11</td>\n",
              "      <td>NaN</td>\n",
              "      <td>NaN</td>\n",
              "      <td>Typhoon Soudelor kills 28 in China and Taiwan</td>\n",
              "      <td>1</td>\n",
              "    </tr>\n",
              "  </tbody>\n",
              "</table>\n",
              "</div>\n",
              "    <div class=\"colab-df-buttons\">\n",
              "\n",
              "  <div class=\"colab-df-container\">\n",
              "    <button class=\"colab-df-convert\" onclick=\"convertToInteractive('df-52e7dab1-4b8b-4a67-8dd2-5056addd39b6')\"\n",
              "            title=\"Convert this dataframe to an interactive table.\"\n",
              "            style=\"display:none;\">\n",
              "\n",
              "  <svg xmlns=\"http://www.w3.org/2000/svg\" height=\"24px\" viewBox=\"0 -960 960 960\">\n",
              "    <path d=\"M120-120v-720h720v720H120Zm60-500h600v-160H180v160Zm220 220h160v-160H400v160Zm0 220h160v-160H400v160ZM180-400h160v-160H180v160Zm440 0h160v-160H620v160ZM180-180h160v-160H180v160Zm440 0h160v-160H620v160Z\"/>\n",
              "  </svg>\n",
              "    </button>\n",
              "\n",
              "  <style>\n",
              "    .colab-df-container {\n",
              "      display:flex;\n",
              "      gap: 12px;\n",
              "    }\n",
              "\n",
              "    .colab-df-convert {\n",
              "      background-color: #E8F0FE;\n",
              "      border: none;\n",
              "      border-radius: 50%;\n",
              "      cursor: pointer;\n",
              "      display: none;\n",
              "      fill: #1967D2;\n",
              "      height: 32px;\n",
              "      padding: 0 0 0 0;\n",
              "      width: 32px;\n",
              "    }\n",
              "\n",
              "    .colab-df-convert:hover {\n",
              "      background-color: #E2EBFA;\n",
              "      box-shadow: 0px 1px 2px rgba(60, 64, 67, 0.3), 0px 1px 3px 1px rgba(60, 64, 67, 0.15);\n",
              "      fill: #174EA6;\n",
              "    }\n",
              "\n",
              "    .colab-df-buttons div {\n",
              "      margin-bottom: 4px;\n",
              "    }\n",
              "\n",
              "    [theme=dark] .colab-df-convert {\n",
              "      background-color: #3B4455;\n",
              "      fill: #D2E3FC;\n",
              "    }\n",
              "\n",
              "    [theme=dark] .colab-df-convert:hover {\n",
              "      background-color: #434B5C;\n",
              "      box-shadow: 0px 1px 3px 1px rgba(0, 0, 0, 0.15);\n",
              "      filter: drop-shadow(0px 1px 2px rgba(0, 0, 0, 0.3));\n",
              "      fill: #FFFFFF;\n",
              "    }\n",
              "  </style>\n",
              "\n",
              "    <script>\n",
              "      const buttonEl =\n",
              "        document.querySelector('#df-52e7dab1-4b8b-4a67-8dd2-5056addd39b6 button.colab-df-convert');\n",
              "      buttonEl.style.display =\n",
              "        google.colab.kernel.accessAllowed ? 'block' : 'none';\n",
              "\n",
              "      async function convertToInteractive(key) {\n",
              "        const element = document.querySelector('#df-52e7dab1-4b8b-4a67-8dd2-5056addd39b6');\n",
              "        const dataTable =\n",
              "          await google.colab.kernel.invokeFunction('convertToInteractive',\n",
              "                                                    [key], {});\n",
              "        if (!dataTable) return;\n",
              "\n",
              "        const docLinkHtml = 'Like what you see? Visit the ' +\n",
              "          '<a target=\"_blank\" href=https://colab.research.google.com/notebooks/data_table.ipynb>data table notebook</a>'\n",
              "          + ' to learn more about interactive tables.';\n",
              "        element.innerHTML = '';\n",
              "        dataTable['output_type'] = 'display_data';\n",
              "        await google.colab.output.renderOutput(dataTable, element);\n",
              "        const docLink = document.createElement('div');\n",
              "        docLink.innerHTML = docLinkHtml;\n",
              "        element.appendChild(docLink);\n",
              "      }\n",
              "    </script>\n",
              "  </div>\n",
              "\n",
              "\n",
              "<div id=\"df-18aa8027-3216-4824-ab08-1be18ff6fd69\">\n",
              "  <button class=\"colab-df-quickchart\" onclick=\"quickchart('df-18aa8027-3216-4824-ab08-1be18ff6fd69')\"\n",
              "            title=\"Suggest charts\"\n",
              "            style=\"display:none;\">\n",
              "\n",
              "<svg xmlns=\"http://www.w3.org/2000/svg\" height=\"24px\"viewBox=\"0 0 24 24\"\n",
              "     width=\"24px\">\n",
              "    <g>\n",
              "        <path d=\"M19 3H5c-1.1 0-2 .9-2 2v14c0 1.1.9 2 2 2h14c1.1 0 2-.9 2-2V5c0-1.1-.9-2-2-2zM9 17H7v-7h2v7zm4 0h-2V7h2v10zm4 0h-2v-4h2v4z\"/>\n",
              "    </g>\n",
              "</svg>\n",
              "  </button>\n",
              "\n",
              "<style>\n",
              "  .colab-df-quickchart {\n",
              "      --bg-color: #E8F0FE;\n",
              "      --fill-color: #1967D2;\n",
              "      --hover-bg-color: #E2EBFA;\n",
              "      --hover-fill-color: #174EA6;\n",
              "      --disabled-fill-color: #AAA;\n",
              "      --disabled-bg-color: #DDD;\n",
              "  }\n",
              "\n",
              "  [theme=dark] .colab-df-quickchart {\n",
              "      --bg-color: #3B4455;\n",
              "      --fill-color: #D2E3FC;\n",
              "      --hover-bg-color: #434B5C;\n",
              "      --hover-fill-color: #FFFFFF;\n",
              "      --disabled-bg-color: #3B4455;\n",
              "      --disabled-fill-color: #666;\n",
              "  }\n",
              "\n",
              "  .colab-df-quickchart {\n",
              "    background-color: var(--bg-color);\n",
              "    border: none;\n",
              "    border-radius: 50%;\n",
              "    cursor: pointer;\n",
              "    display: none;\n",
              "    fill: var(--fill-color);\n",
              "    height: 32px;\n",
              "    padding: 0;\n",
              "    width: 32px;\n",
              "  }\n",
              "\n",
              "  .colab-df-quickchart:hover {\n",
              "    background-color: var(--hover-bg-color);\n",
              "    box-shadow: 0 1px 2px rgba(60, 64, 67, 0.3), 0 1px 3px 1px rgba(60, 64, 67, 0.15);\n",
              "    fill: var(--button-hover-fill-color);\n",
              "  }\n",
              "\n",
              "  .colab-df-quickchart-complete:disabled,\n",
              "  .colab-df-quickchart-complete:disabled:hover {\n",
              "    background-color: var(--disabled-bg-color);\n",
              "    fill: var(--disabled-fill-color);\n",
              "    box-shadow: none;\n",
              "  }\n",
              "\n",
              "  .colab-df-spinner {\n",
              "    border: 2px solid var(--fill-color);\n",
              "    border-color: transparent;\n",
              "    border-bottom-color: var(--fill-color);\n",
              "    animation:\n",
              "      spin 1s steps(1) infinite;\n",
              "  }\n",
              "\n",
              "  @keyframes spin {\n",
              "    0% {\n",
              "      border-color: transparent;\n",
              "      border-bottom-color: var(--fill-color);\n",
              "      border-left-color: var(--fill-color);\n",
              "    }\n",
              "    20% {\n",
              "      border-color: transparent;\n",
              "      border-left-color: var(--fill-color);\n",
              "      border-top-color: var(--fill-color);\n",
              "    }\n",
              "    30% {\n",
              "      border-color: transparent;\n",
              "      border-left-color: var(--fill-color);\n",
              "      border-top-color: var(--fill-color);\n",
              "      border-right-color: var(--fill-color);\n",
              "    }\n",
              "    40% {\n",
              "      border-color: transparent;\n",
              "      border-right-color: var(--fill-color);\n",
              "      border-top-color: var(--fill-color);\n",
              "    }\n",
              "    60% {\n",
              "      border-color: transparent;\n",
              "      border-right-color: var(--fill-color);\n",
              "    }\n",
              "    80% {\n",
              "      border-color: transparent;\n",
              "      border-right-color: var(--fill-color);\n",
              "      border-bottom-color: var(--fill-color);\n",
              "    }\n",
              "    90% {\n",
              "      border-color: transparent;\n",
              "      border-bottom-color: var(--fill-color);\n",
              "    }\n",
              "  }\n",
              "</style>\n",
              "\n",
              "  <script>\n",
              "    async function quickchart(key) {\n",
              "      const quickchartButtonEl =\n",
              "        document.querySelector('#' + key + ' button');\n",
              "      quickchartButtonEl.disabled = true;  // To prevent multiple clicks.\n",
              "      quickchartButtonEl.classList.add('colab-df-spinner');\n",
              "      try {\n",
              "        const charts = await google.colab.kernel.invokeFunction(\n",
              "            'suggestCharts', [key], {});\n",
              "      } catch (error) {\n",
              "        console.error('Error during call to suggestCharts:', error);\n",
              "      }\n",
              "      quickchartButtonEl.classList.remove('colab-df-spinner');\n",
              "      quickchartButtonEl.classList.add('colab-df-quickchart-complete');\n",
              "    }\n",
              "    (() => {\n",
              "      let quickchartButtonEl =\n",
              "        document.querySelector('#df-18aa8027-3216-4824-ab08-1be18ff6fd69 button');\n",
              "      quickchartButtonEl.style.display =\n",
              "        google.colab.kernel.accessAllowed ? 'block' : 'none';\n",
              "    })();\n",
              "  </script>\n",
              "</div>\n",
              "\n",
              "    </div>\n",
              "  </div>\n"
            ]
          },
          "metadata": {},
          "execution_count": 23
        }
      ],
      "source": [
        "submission_data = pd.read_csv( '%s/test.csv'%(HOME_DIR), index_col='id')\n",
        "\n",
        "submission = model.predict(submission_data['text'])\n",
        "submission = submission.flatten()\n",
        "\n",
        "submission_predicted = np.where(submission > 0.5, 1, 0)\n",
        "submission_data['target'] = submission_predicted.tolist()\n",
        "submission_data.reset_index(inplace=True)\n",
        "\n",
        "submission_data.head()"
      ]
    },
    {
      "cell_type": "code",
      "execution_count": 24,
      "id": "a90dcb08",
      "metadata": {
        "execution": {
          "iopub.execute_input": "2023-08-18T17:53:27.221827Z",
          "iopub.status.busy": "2023-08-18T17:53:27.221464Z",
          "iopub.status.idle": "2023-08-18T17:53:28.373334Z",
          "shell.execute_reply": "2023-08-18T17:53:28.372021Z"
        },
        "papermill": {
          "duration": 2.174036,
          "end_time": "2023-08-18T17:53:28.375788",
          "exception": false,
          "start_time": "2023-08-18T17:53:26.201752",
          "status": "completed"
        },
        "tags": [],
        "id": "a90dcb08",
        "outputId": "b2f092bc-d2a3-4ab6-a1e9-92e0768c3e65",
        "colab": {
          "base_uri": "https://localhost:8080/"
        }
      },
      "outputs": [
        {
          "output_type": "stream",
          "name": "stdout",
          "text": [
            "id,target\n",
            "0,0\n",
            "2,0\n",
            "3,1\n",
            "9,1\n"
          ]
        }
      ],
      "source": [
        "submission_data[['id', 'target']].to_csv('submission.csv', index= False)\n",
        "\n",
        "!head -5 submission.csv"
      ]
    }
  ],
  "metadata": {
    "kernelspec": {
      "display_name": "Python 3",
      "name": "python3"
    },
    "language_info": {
      "codemirror_mode": {
        "name": "ipython",
        "version": 3
      },
      "file_extension": ".py",
      "mimetype": "text/x-python",
      "name": "python",
      "nbconvert_exporter": "python",
      "pygments_lexer": "ipython3",
      "version": "3.10.12"
    },
    "papermill": {
      "default_parameters": {},
      "duration": 4198.415343,
      "end_time": "2023-08-18T17:53:32.368043",
      "environment_variables": {},
      "exception": null,
      "input_path": "__notebook__.ipynb",
      "output_path": "__notebook__.ipynb",
      "parameters": {},
      "start_time": "2023-08-18T16:43:33.952700",
      "version": "2.4.0"
    },
    "colab": {
      "provenance": [],
      "machine_shape": "hm",
      "gpuType": "V100"
    },
    "accelerator": "GPU"
  },
  "nbformat": 4,
  "nbformat_minor": 5
}